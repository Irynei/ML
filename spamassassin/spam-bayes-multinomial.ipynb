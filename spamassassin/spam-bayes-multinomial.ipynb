{
 "cells": [
  {
   "cell_type": "markdown",
   "metadata": {},
   "source": [
    "# Класифікація спаму: Naive Bayes"
   ]
  },
  {
   "cell_type": "markdown",
   "metadata": {},
   "source": [
    "**Мультиноміальна модель подій**"
   ]
  },
  {
   "cell_type": "markdown",
   "metadata": {},
   "source": [
    "Ми застосуємо наївний Баєсівський класифікатор зі згладжуванням Лапласа для навчання спам-фільтру на основі даних [SpamAssassin Public Corpus](http://spamassassin.apache.org/publiccorpus/)."
   ]
  },
  {
   "cell_type": "markdown",
   "metadata": {},
   "source": [
    "Заповніть пропущений код (позначено коментарями) та визначте точність передбачення. У вас повинен вийти кращий результат, ніж при моделі багатовимірного розподілу Бернуллі."
   ]
  },
  {
   "cell_type": "code",
   "execution_count": 255,
   "metadata": {},
   "outputs": [],
   "source": [
    "import json"
   ]
  },
  {
   "cell_type": "code",
   "execution_count": 256,
   "metadata": {},
   "outputs": [],
   "source": [
    "import numpy as np\n",
    "\n",
    "from sklearn.model_selection import train_test_split\n",
    "from tqdm import tqdm_notebook as progressbar"
   ]
  },
  {
   "cell_type": "markdown",
   "metadata": {},
   "source": [
    "## Завантаження даних"
   ]
  },
  {
   "cell_type": "markdown",
   "metadata": {},
   "source": [
    "Щоб краще зрозуміти, яким чином були очищені дані, див. [`spam-data-preparation.ipynb`](spam-data-preparation.ipynb)."
   ]
  },
  {
   "cell_type": "code",
   "execution_count": 257,
   "metadata": {},
   "outputs": [],
   "source": [
    "def load_json_from_file(filename):\n",
    "    with open(filename, \"r\", encoding=\"utf-8\") as f:\n",
    "        return json.load(f)"
   ]
  },
  {
   "cell_type": "code",
   "execution_count": 258,
   "metadata": {},
   "outputs": [],
   "source": [
    "emails_tokenized_ham = load_json_from_file(\"emails-tokenized-ham.json\")\n",
    "emails_tokenized_spam = load_json_from_file(\"emails-tokenized-spam.json\")"
   ]
  },
  {
   "cell_type": "code",
   "execution_count": 259,
   "metadata": {},
   "outputs": [],
   "source": [
    "vocab = load_json_from_file(\"vocab.json\")"
   ]
  },
  {
   "cell_type": "markdown",
   "metadata": {},
   "source": [
    "## Кодування даних"
   ]
  },
  {
   "cell_type": "markdown",
   "metadata": {},
   "source": [
    "Представте кожен лист як $n$-вимірний вектор $\\left[ x_1, x_2, ..., x_n \\right]$, де $x_i$ — це індекс $i$-го слова даного листа у словнику $V$, а $n$ — кількість слів у листі.\n",
    "\n",
    "Наприклад, лист _\"Buy gold watches. Buy now.\"_ міг би бути закодований так: $\\left[ 3953, 11890, 32213, 3953, 20330 \\right]$."
   ]
  },
  {
   "cell_type": "code",
   "execution_count": 260,
   "metadata": {},
   "outputs": [],
   "source": [
    "def email_to_vector_multinomial(email_words, vocab):\n",
    "    # =============== TODO: Your code here ===============\n",
    "    # Build a feature vector for a single email using the\n",
    "    # multinomial event model.\n",
    "\n",
    "    return np.array([vocab[word] for word in email_words])\n",
    "    # ===================================================="
   ]
  },
  {
   "cell_type": "markdown",
   "metadata": {},
   "source": [
    "Тепер закодуємо всі листи:"
   ]
  },
  {
   "cell_type": "code",
   "execution_count": 261,
   "metadata": {},
   "outputs": [],
   "source": [
    "X = [\n",
    "    email_to_vector_multinomial(email, vocab)\n",
    "    for email in emails_tokenized_ham + emails_tokenized_spam\n",
    "]"
   ]
  },
  {
   "cell_type": "code",
   "execution_count": 262,
   "metadata": {},
   "outputs": [],
   "source": [
    "y = np.array([0] * len(emails_tokenized_ham) + [1] * len(emails_tokenized_spam))"
   ]
  },
  {
   "cell_type": "markdown",
   "metadata": {},
   "source": [
    "Поглянемо на кілька випадкових листів:"
   ]
  },
  {
   "cell_type": "code",
   "execution_count": 263,
   "metadata": {},
   "outputs": [],
   "source": [
    "sample_emails = [emails_tokenized_ham[10], emails_tokenized_ham[70]]"
   ]
  },
  {
   "cell_type": "code",
   "execution_count": 264,
   "metadata": {},
   "outputs": [
    {
     "name": "stdout",
     "output_type": "stream",
     "text": [
      "['hello', 'seen', 'discuss', 'articl', 'approach', 'thank', 'httpaddress', 'hell', 'rule', 'tri', 'accomplish', 'someth', 'thoma', 'alva', 'edison', 'sf', 'net', 'email', 'sponsor', 'osdn', 'tire', 'old', 'cell', 'phone', 'get', 'new', 'free', 'httpaddress', 'spamassassin', 'devel', 'mail', 'list', 'emailaddress', 'httpaddress']\n",
      "\n",
      "['fri', 'number', 'aug', 'number', 'tom', 'wrote', 'xvid', 'number', 'project', 'make', 'gpl', 'divx', 'codec', 'sigma', 'design', 'number', 'sorri', 'sigma', 'design', 'number', 'number', 'httpaddress']\n",
      "\n"
     ]
    }
   ],
   "source": [
    "for email in sample_emails:\n",
    "    print(email)\n",
    "    print()"
   ]
  },
  {
   "cell_type": "code",
   "execution_count": 265,
   "metadata": {},
   "outputs": [
    {
     "name": "stdout",
     "output_type": "stream",
     "text": [
      "Email vector: [12866 26186  7632  1574  1361 29410 13468 12862 25408 30214   173 27396\n",
      " 29564   872  8567 26411 19758  8849 27722 21116 29770 20748  4549 22215\n",
      " 11528 19855 10871 13468 27540  7314 17535 16947  8851 13468]\n",
      "Dimensionality: (34,)\n",
      "\n",
      "Email vector: [10946 20419  1845 20419 29891 33008 33256 20419 23298 17594 12021  7779\n",
      "  5370 26756  7232 20419 27443 26756  7232 20419 20419 13468]\n",
      "Dimensionality: (22,)\n",
      "\n"
     ]
    }
   ],
   "source": [
    "for email in sample_emails:\n",
    "    email_vec = email_to_vector_multinomial(email, vocab)\n",
    "    \n",
    "    print(\"Email vector:\", email_vec)\n",
    "    print(\"Dimensionality:\", email_vec.shape)\n",
    "    print()"
   ]
  },
  {
   "cell_type": "markdown",
   "metadata": {},
   "source": [
    "## Розділення вибірок"
   ]
  },
  {
   "cell_type": "code",
   "execution_count": 266,
   "metadata": {},
   "outputs": [],
   "source": [
    "X_train, X_test, y_train, y_test = train_test_split(X, y, test_size=0.1, random_state=42)"
   ]
  },
  {
   "cell_type": "code",
   "execution_count": 267,
   "metadata": {},
   "outputs": [
    {
     "name": "stdout",
     "output_type": "stream",
     "text": [
      "# Train: 4987\n",
      "# Test:  555\n"
     ]
    }
   ],
   "source": [
    "print(\"# Train:\", len(X_train))\n",
    "print(\"# Test: \", len(X_test))"
   ]
  },
  {
   "cell_type": "markdown",
   "metadata": {},
   "source": [
    "## Навчання наївного Баєсового класифікатора"
   ]
  },
  {
   "cell_type": "markdown",
   "metadata": {},
   "source": [
    "Підрахуйте сумарну кількість слів у ham- і spam-листах відповідно."
   ]
  },
  {
   "cell_type": "code",
   "execution_count": 268,
   "metadata": {},
   "outputs": [],
   "source": [
    "# =============== TODO: Your code here ===============\n",
    "# Count the total number of words in ham and spam emails.\n",
    "# Store these counts into the two variables defined below.\n",
    "\n",
    "# take ham and spam emails from X_train\n",
    "ham_email_words_train = np.take(X_train, np.where(y_train == 0)).flatten()\n",
    "spam_email_words_train = np.take(X_train, np.where(y_train == 1)).flatten()\n",
    "\n",
    "# count number of words for each category\n",
    "ham_total_words_train = np.sum(len(email_words) for email_words in ham_email_words_train)\n",
    "spam_total_words_train = np.sum(len(email_words) for email_words in spam_email_words_train)\n",
    "\n",
    "# check if spam words count + ham words count = total words count \n",
    "all_words_count = np.sum(len(email_words) for email_words in X_train)\n",
    "assert(spam_total_words_train + ham_total_words_train == all_words_count)\n",
    "# ===================================================="
   ]
  },
  {
   "cell_type": "markdown",
   "metadata": {},
   "source": [
    "Тепер обчисліть апріорні імовірності для класів ham і spam. Зауважте, що добуток імовірностей може переповнити тип даних змінної, тому ми будемо використовувати логарифми."
   ]
  },
  {
   "cell_type": "code",
   "execution_count": 269,
   "metadata": {},
   "outputs": [],
   "source": [
    "# =============== TODO: Your code here ===============\n",
    "# Compute the class priors for ham and spam emails.\n",
    "\n",
    "# count of ham emails / total emails count with Laplace smoothing\n",
    "ham_prior = (ham_email_words_train.shape[0] + 1) / (len(X_train) + 2)\n",
    "\n",
    "# count of spam emails / total emails count with Laplace smoothing\n",
    "spam_prior = (spam_email_words_train.shape[0] + 1) / (len(X_train) + 2)\n",
    "\n",
    "ham_log_prior = np.log(ham_prior)\n",
    "spam_log_prior = np.log(spam_prior)\n",
    "\n",
    "# check if sum of class priors is 1\n",
    "assert(ham_prior + spam_prior == 1)\n",
    "# ===================================================="
   ]
  },
  {
   "cell_type": "markdown",
   "metadata": {},
   "source": [
    "Обчисліть правдоподібності (likelihood) для кожного слова. Також, застосуйте згладжування Лапласа, щоб уникнути ділення на нуль."
   ]
  },
  {
   "cell_type": "markdown",
   "metadata": {},
   "source": [
    "Створимо порожні вектори $\\log{\\phi_{word \\, | \\, ham}}$ та $\\log{\\phi_{word \\, | \\, spam}}$ і заповнимо їх для кожного слова зі словника."
   ]
  },
  {
   "cell_type": "code",
   "execution_count": 270,
   "metadata": {},
   "outputs": [],
   "source": [
    "ham_log_phi = np.zeros(len(vocab), dtype=\"float64\")\n",
    "spam_log_phi = np.zeros(len(vocab), dtype=\"float64\")"
   ]
  },
  {
   "cell_type": "code",
   "execution_count": 271,
   "metadata": {},
   "outputs": [],
   "source": [
    "ham_word_counts = np.zeros(len(vocab))\n",
    "spam_word_counts = np.zeros(len(vocab))"
   ]
  },
  {
   "cell_type": "code",
   "execution_count": 272,
   "metadata": {},
   "outputs": [],
   "source": [
    "# =============== TODO: Your code here ===============\n",
    "# Compute log phi(word | class) for each word in the vocabulary.\n",
    "# Fill out the `ham_log_phi` and `spam_log_phi` arrays below.\n",
    "\n",
    "# get dict of (word: frequency) for every word in spam emails words\n",
    "spam_email_words = [item for sublist in spam_email_words_train for item in sublist]\n",
    "spam_email_words_frequencies = dict(zip(*np.unique(spam_email_words, return_counts=True)))\n",
    "\n",
    "# get dict of (word: frequency) for every word in ham emails words\n",
    "ham_email_words = [item for sublist in ham_email_words_train for item in sublist]\n",
    "ham_email_words_frequencies = dict(zip(*np.unique(ham_email_words, return_counts=True)))\n",
    "\n",
    "for word_code in vocab.values():\n",
    "    # compute log phi(word_code | ham)\n",
    "    ham_log_phi[word_code] = np.log((ham_email_words_frequencies.get(word_code, 0) + 1) / (ham_total_words_train + 2))\n",
    "    # compute log phi(word_code | spam)\n",
    "    spam_log_phi[word_code] = np.log((spam_email_words_frequencies.get(word_code, 0) + 1) / (spam_total_words_train + 2))\n",
    "\n",
    "# ===================================================="
   ]
  },
  {
   "cell_type": "markdown",
   "metadata": {},
   "source": [
    "## Передбачення"
   ]
  },
  {
   "cell_type": "markdown",
   "metadata": {},
   "source": [
    "Реалізуйте функцію передбачення. Пригадайте, що знаменник $P(words)$ — один і той самий для обох класів, тому для передбачення його можна проігнорувати."
   ]
  },
  {
   "cell_type": "code",
   "execution_count": 273,
   "metadata": {},
   "outputs": [],
   "source": [
    "def predict(X):\n",
    "    # =============== TODO: Your code here ===============\n",
    "    # Implement the prediction of target classes, given\n",
    "    # a feature dataset X. You should return a response\n",
    "    # vector containing n {0, 1} values, where n is the\n",
    "    # number of examples in X.\n",
    "    \n",
    "    # as long as we using logs, \n",
    "    # instead of multiplication we should use summation\n",
    "    result = []\n",
    "    for email in X:\n",
    "        hams, spams = 0, 0\n",
    "        for word in email:\n",
    "            # for each word get log phi(word | class)\n",
    "            hams += ham_log_phi[word]\n",
    "            spams += spam_log_phi[word]\n",
    "        # add priors\n",
    "        hams += ham_log_prior\n",
    "        spams += spam_log_prior\n",
    "        # getting target class\n",
    "        result.append(0 if hams > spams else 1)\n",
    "    return result\n",
    "    # ===================================================="
   ]
  },
  {
   "cell_type": "markdown",
   "metadata": {},
   "source": [
    "## Оцінка точності передбачення"
   ]
  },
  {
   "cell_type": "code",
   "execution_count": 274,
   "metadata": {},
   "outputs": [],
   "source": [
    "pred_train = predict(X_train)\n",
    "pred_test = predict(X_test)"
   ]
  },
  {
   "cell_type": "code",
   "execution_count": 275,
   "metadata": {},
   "outputs": [],
   "source": [
    "accuracy_train = 1 - np.sum(pred_train != y_train) / len(y_train)\n",
    "accuracy_test = 1 - np.sum(pred_test != y_test) / len(y_test)"
   ]
  },
  {
   "cell_type": "code",
   "execution_count": 276,
   "metadata": {},
   "outputs": [
    {
     "name": "stdout",
     "output_type": "stream",
     "text": [
      "Training accuracy:   97.694%\n",
      "Test accuracy:       97.658%\n"
     ]
    }
   ],
   "source": [
    "print(\"Training accuracy:   {0:.3f}%\".format(accuracy_train * 100))\n",
    "print(\"Test accuracy:       {0:.3f}%\".format(accuracy_test * 100))"
   ]
  }
 ],
 "metadata": {
  "anaconda-cloud": {},
  "kernelspec": {
   "display_name": "Python 3",
   "language": "python",
   "name": "python3"
  },
  "language_info": {
   "codemirror_mode": {
    "name": "ipython",
    "version": 3.0
   },
   "file_extension": ".py",
   "mimetype": "text/x-python",
   "name": "python",
   "nbconvert_exporter": "python",
   "pygments_lexer": "ipython3",
   "version": "3.5.3"
  }
 },
 "nbformat": 4,
 "nbformat_minor": 1
}