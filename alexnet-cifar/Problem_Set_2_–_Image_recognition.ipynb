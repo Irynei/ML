{
 "cells": [
  {
   "cell_type": "markdown",
   "metadata": {
    "colab_type": "text",
    "id": "gYnSakgTYBV6"
   },
   "source": [
    "# Convolutional neural networks"
   ]
  },
  {
   "cell_type": "markdown",
   "metadata": {
    "colab_type": "text",
    "id": "hkWWJ0LDYBV8"
   },
   "source": [
    "In class, we have briefly reviewed the idea of learning good features directly from data and went through the concept of convolutional neural networks along with few architectures.\n",
    "\n",
    "Until recently, building convolutional neural networks was tough. There was no high-level tools for that, you would be required to understand all the internal mechanics of the model and its operations.\n",
    "\n",
    "Today, due to the high-level tools such as Keras and TensorFlow, everybody can build a convolutional neural network and put it to work without diving deep into them. What used to be a one-month project became a few hours exercise.\n"
   ]
  },
  {
   "cell_type": "code",
   "execution_count": 0,
   "metadata": {
    "colab": {
     "autoexec": {
      "startup": false,
      "wait_interval": 0
     }
    },
    "colab_type": "code",
    "id": "fYnlaw1tYBV9"
   },
   "outputs": [],
   "source": [
    "import numpy as np\n",
    "import keras\n",
    "import pickle\n",
    "import matplotlib.pyplot as plt\n"
   ]
  },
  {
   "cell_type": "markdown",
   "metadata": {
    "colab_type": "text",
    "id": "BkEFiYrlYBWC"
   },
   "source": [
    "## Loading the images"
   ]
  },
  {
   "cell_type": "code",
   "execution_count": 0,
   "metadata": {
    "colab": {
     "autoexec": {
      "startup": false,
      "wait_interval": 0
     }
    },
    "colab_type": "code",
    "id": "5Bru0JRqYBWD"
   },
   "outputs": [],
   "source": [
    "train_images, train_labels = pickle.load(open('data/train_set_all.pkl', 'rb'))\n",
    "cv_images, cv_labels = pickle.load(open('data/test_set_all.pkl', 'rb'))"
   ]
  },
  {
   "cell_type": "code",
   "execution_count": 29,
   "metadata": {
    "colab": {
     "autoexec": {
      "startup": false,
      "wait_interval": 0
     },
     "base_uri": "https://localhost:8080/",
     "height": 51,
     "output_extras": [
      {
       "item_id": 1
      }
     ]
    },
    "colab_type": "code",
    "executionInfo": {
     "elapsed": 559,
     "status": "ok",
     "timestamp": 1522398321810,
     "user": {
      "displayName": "Iryney Baran",
      "photoUrl": "//lh4.googleusercontent.com/-KJY9sMFZFVM/AAAAAAAAAAI/AAAAAAAABJM/ETCGet9jmTE/s50-c-k-no/photo.jpg",
      "userId": "104762452328045017366"
     },
     "user_tz": -180
    },
    "id": "EOVX4hBiYBWJ",
    "outputId": "57bc4898-65ee-472b-b5cb-09678c9bced1"
   },
   "outputs": [
    {
     "name": "stdout",
     "output_type": "stream",
     "text": [
      "(50000, 32, 32, 3)\n",
      "50000\n"
     ]
    }
   ],
   "source": [
    "print(train_images.shape)\n",
    "print(len(train_labels))"
   ]
  },
  {
   "cell_type": "code",
   "execution_count": 30,
   "metadata": {
    "colab": {
     "autoexec": {
      "startup": false,
      "wait_interval": 0
     },
     "base_uri": "https://localhost:8080/",
     "height": 51,
     "output_extras": [
      {
       "item_id": 1
      }
     ]
    },
    "colab_type": "code",
    "executionInfo": {
     "elapsed": 570,
     "status": "ok",
     "timestamp": 1522398325149,
     "user": {
      "displayName": "Iryney Baran",
      "photoUrl": "//lh4.googleusercontent.com/-KJY9sMFZFVM/AAAAAAAAAAI/AAAAAAAABJM/ETCGet9jmTE/s50-c-k-no/photo.jpg",
      "userId": "104762452328045017366"
     },
     "user_tz": -180
    },
    "id": "S23ShUxKYBWR",
    "outputId": "9eab6763-3636-4b1a-fda5-fbf3ba0c521d"
   },
   "outputs": [
    {
     "name": "stdout",
     "output_type": "stream",
     "text": [
      "(10000, 32, 32, 3)\n",
      "10000\n"
     ]
    }
   ],
   "source": [
    "print(cv_images.shape)\n",
    "print(len(cv_labels))"
   ]
  },
  {
   "cell_type": "code",
   "execution_count": 31,
   "metadata": {
    "colab": {
     "autoexec": {
      "startup": false,
      "wait_interval": 0
     },
     "base_uri": "https://localhost:8080/",
     "height": 34,
     "output_extras": [
      {
       "item_id": 1
      }
     ]
    },
    "colab_type": "code",
    "executionInfo": {
     "elapsed": 594,
     "status": "ok",
     "timestamp": 1522398326285,
     "user": {
      "displayName": "Iryney Baran",
      "photoUrl": "//lh4.googleusercontent.com/-KJY9sMFZFVM/AAAAAAAAAAI/AAAAAAAABJM/ETCGet9jmTE/s50-c-k-no/photo.jpg",
      "userId": "104762452328045017366"
     },
     "user_tz": -180
    },
    "id": "gtNuQnP0YBWW",
    "outputId": "928d9d1e-42ff-4380-b527-c6999105f5cd"
   },
   "outputs": [
    {
     "name": "stdout",
     "output_type": "stream",
     "text": [
      "[6, 9, 9, 4, 1, 1, 2, 7, 8, 3]\n"
     ]
    }
   ],
   "source": [
    "print(train_labels[0:10])"
   ]
  },
  {
   "cell_type": "code",
   "execution_count": 0,
   "metadata": {
    "colab": {
     "autoexec": {
      "startup": false,
      "wait_interval": 0
     }
    },
    "colab_type": "code",
    "id": "SFMvlA7oYBWb"
   },
   "outputs": [],
   "source": [
    "def show_image(np_array):\n",
    "    %matplotlib inline\n",
    "    plt.figure()\n",
    "    plt.imshow(np_array)"
   ]
  },
  {
   "cell_type": "code",
   "execution_count": 0,
   "metadata": {
    "colab": {
     "autoexec": {
      "startup": false,
      "wait_interval": 0
     }
    },
    "colab_type": "code",
    "id": "8-amchyWYBWe"
   },
   "outputs": [],
   "source": [
    "def show_example(data_set, labels, example_index):\n",
    "    show_image(data_set[example_index])\n",
    "    print('Label: ', labels[example_index])"
   ]
  },
  {
   "cell_type": "code",
   "execution_count": 34,
   "metadata": {
    "colab": {
     "autoexec": {
      "startup": false,
      "wait_interval": 0
     },
     "base_uri": "https://localhost:8080/",
     "height": 300,
     "output_extras": [
      {
       "item_id": 1
      },
      {
       "item_id": 2
      }
     ]
    },
    "colab_type": "code",
    "executionInfo": {
     "elapsed": 589,
     "status": "ok",
     "timestamp": 1522398329077,
     "user": {
      "displayName": "Iryney Baran",
      "photoUrl": "//lh4.googleusercontent.com/-KJY9sMFZFVM/AAAAAAAAAAI/AAAAAAAABJM/ETCGet9jmTE/s50-c-k-no/photo.jpg",
      "userId": "104762452328045017366"
     },
     "user_tz": -180
    },
    "id": "zb7_yQEIYBWh",
    "outputId": "7e321663-5849-4883-cacf-8fb195ddeb94"
   },
   "outputs": [
    {
     "name": "stdout",
     "output_type": "stream",
     "text": [
      "Label:  6\n",
      "(50000, 32, 32, 3)\n"
     ]
    },
    {
     "data": {
      "image/png": "[encoded data removed]",
      "text/plain": [
       "<matplotlib.figure.Figure at 0x7f2e7fa2d550>"
      ]
     },
     "metadata": {
      "tags": []
     },
     "output_type": "display_data"
    }
   ],
   "source": [
    "show_example(train_images, train_labels, example_index = 0)\n",
    "print(train_images.shape)"
   ]
  },
  {
   "cell_type": "code",
   "execution_count": 35,
   "metadata": {
    "colab": {
     "autoexec": {
      "startup": false,
      "wait_interval": 0
     },
     "base_uri": "https://localhost:8080/",
     "height": 283,
     "output_extras": [
      {
       "item_id": 1
      },
      {
       "item_id": 2
      }
     ]
    },
    "colab_type": "code",
    "executionInfo": {
     "elapsed": 569,
     "status": "ok",
     "timestamp": 1522398330383,
     "user": {
      "displayName": "Iryney Baran",
      "photoUrl": "//lh4.googleusercontent.com/-KJY9sMFZFVM/AAAAAAAAAAI/AAAAAAAABJM/ETCGet9jmTE/s50-c-k-no/photo.jpg",
      "userId": "104762452328045017366"
     },
     "user_tz": -180
    },
    "id": "ZOOs2fndYBWn",
    "outputId": "f17f419a-9268-4646-9552-25e177dd09f7"
   },
   "outputs": [
    {
     "name": "stdout",
     "output_type": "stream",
     "text": [
      "Label:  3\n"
     ]
    },
    {
     "data": {
      "image/png": "[encoded data removed]",
      "text/plain": [
       "<matplotlib.figure.Figure at 0x7f2e3be26860>"
      ]
     },
     "metadata": {
      "tags": []
     },
     "output_type": "display_data"
    }
   ],
   "source": [
    "show_example(cv_images, cv_labels, example_index = 0)"
   ]
  },
  {
   "cell_type": "markdown",
   "metadata": {
    "colab_type": "text",
    "id": "X7hww_y8YBWt"
   },
   "source": [
    "## Building AlexNet"
   ]
  },
  {
   "cell_type": "markdown",
   "metadata": {
    "colab_type": "text",
    "id": "EDCH5fw6YBWu"
   },
   "source": [
    "In 2012 a convolutional neural network called AlexNet won ImageNet competition. \n",
    "\n",
    "Go through an [original AlexNet paper](https://papers.nips.cc/paper/4824-imagenet-classification-with-deep-convolutional-neural-networks.pdf) to investigate the architecture. Next, investigate the [basics of Keras](https://keras.io/#keras-the-python-deep-learning-library). We will use it with TensorFlow backend.\n",
    "\n",
    "You are also encouraged to go through some CNN tutorial for Keras. There is a number of them online (for example, [this](https://elitedatascience.com/keras-tutorial-deep-learning-in-python) or [this](https://machinelearningmastery.com/handwritten-digit-recognition-using-convolutional-neural-networks-python-keras/)).\n",
    "Now, build AlexNex network with Keras for object recognition. Note that standard AlexNet works with 224x224 input images. The dataset you are going to use for this problem is 32x32."
   ]
  },
  {
   "cell_type": "code",
   "execution_count": 0,
   "metadata": {
    "colab": {
     "autoexec": {
      "startup": false,
      "wait_interval": 0
     }
    },
    "colab_type": "code",
    "id": "zFyF8gJjYBWv"
   },
   "outputs": [],
   "source": [
    "from keras.models import Sequential\n",
    "from keras.utils import np_utils\n",
    "from keras.models import Sequential\n",
    "from keras.layers import Dense, Dropout, Activation, Flatten, BatchNormalization\n",
    "from keras.layers import Conv2D, MaxPooling2D\n",
    "from keras.callbacks import ModelCheckpoint\n",
    "import numpy as np\n",
    "\n"
   ]
  },
  {
   "cell_type": "code",
   "execution_count": 37,
   "metadata": {
    "colab": {
     "autoexec": {
      "startup": false,
      "wait_interval": 0
     },
     "base_uri": "https://localhost:8080/",
     "height": 34,
     "output_extras": [
      {
       "item_id": 1
      }
     ]
    },
    "colab_type": "code",
    "executionInfo": {
     "elapsed": 1087,
     "status": "ok",
     "timestamp": 1522398335537,
     "user": {
      "displayName": "Iryney Baran",
      "photoUrl": "//lh4.googleusercontent.com/-KJY9sMFZFVM/AAAAAAAAAAI/AAAAAAAABJM/ETCGet9jmTE/s50-c-k-no/photo.jpg",
      "userId": "104762452328045017366"
     },
     "user_tz": -180
    },
    "id": "iNuTRzbzYBWy",
    "outputId": "c6283a1e-c81c-413d-919b-75e70a30bad8"
   },
   "outputs": [
    {
     "name": "stdout",
     "output_type": "stream",
     "text": [
      "(50000, 10) (10000, 10)\n"
     ]
    }
   ],
   "source": [
    "np.random.seed(15)\n",
    "train_labels = np_utils.to_categorical(train_labels, 10)\n",
    "cv_labels = np_utils.to_categorical(cv_labels, 10)\n",
    "print(train_labels.shape, cv_labels.shape)"
   ]
  },
  {
   "cell_type": "code",
   "execution_count": 0,
   "metadata": {
    "colab": {
     "autoexec": {
      "startup": false,
      "wait_interval": 0
     }
    },
    "colab_type": "code",
    "id": "fHVwer0DHJ4f"
   },
   "outputs": [],
   "source": [
    "train_images = train_images.astype('float32')\n",
    "cv_images = cv_images.astype('float32')\n",
    "train_images /= 255\n",
    "cv_images /= 255"
   ]
  },
  {
   "cell_type": "code",
   "execution_count": 59,
   "metadata": {
    "colab": {
     "autoexec": {
      "startup": false,
      "wait_interval": 0
     },
     "base_uri": "https://localhost:8080/",
     "height": 646,
     "output_extras": [
      {
       "item_id": 1
      }
     ]
    },
    "colab_type": "code",
    "executionInfo": {
     "elapsed": 794,
     "status": "ok",
     "timestamp": 1522411291967,
     "user": {
      "displayName": "Iryney Baran",
      "photoUrl": "//lh4.googleusercontent.com/-KJY9sMFZFVM/AAAAAAAAAAI/AAAAAAAABJM/ETCGet9jmTE/s50-c-k-no/photo.jpg",
      "userId": "104762452328045017366"
     },
     "user_tz": -180
    },
    "id": "Rj3qvaQ-wCp-",
    "outputId": "e684800b-5370-4e96-94f6-09837f009046"
   },
   "outputs": [
    {
     "name": "stdout",
     "output_type": "stream",
     "text": [
      "_________________________________________________________________\n",
      "Layer (type)                 Output Shape              Param #   \n",
      "=================================================================\n",
      "conv2d_52 (Conv2D)           (None, 16, 16, 96)        2688      \n",
      "_________________________________________________________________\n",
      "max_pooling2d_31 (MaxPooling (None, 7, 7, 96)          0         \n",
      "_________________________________________________________________\n",
      "batch_normalization_28 (Batc (None, 7, 7, 96)          384       \n",
      "_________________________________________________________________\n",
      "conv2d_53 (Conv2D)           (None, 7, 7, 256)         614656    \n",
      "_________________________________________________________________\n",
      "max_pooling2d_32 (MaxPooling (None, 3, 3, 256)         0         \n",
      "_________________________________________________________________\n",
      "batch_normalization_29 (Batc (None, 3, 3, 256)         1024      \n",
      "_________________________________________________________________\n",
      "conv2d_54 (Conv2D)           (None, 3, 3, 384)         885120    \n",
      "_________________________________________________________________\n",
      "conv2d_55 (Conv2D)           (None, 3, 3, 384)         1327488   \n",
      "_________________________________________________________________\n",
      "conv2d_56 (Conv2D)           (None, 3, 3, 256)         884992    \n",
      "_________________________________________________________________\n",
      "max_pooling2d_33 (MaxPooling (None, 1, 1, 256)         0         \n",
      "_________________________________________________________________\n",
      "batch_normalization_30 (Batc (None, 1, 1, 256)         1024      \n",
      "_________________________________________________________________\n",
      "flatten_10 (Flatten)         (None, 256)               0         \n",
      "_________________________________________________________________\n",
      "dense_27 (Dense)             (None, 4096)              1052672   \n",
      "_________________________________________________________________\n",
      "dense_28 (Dense)             (None, 4096)              16781312  \n",
      "_________________________________________________________________\n",
      "dense_29 (Dense)             (None, 10)                40970     \n",
      "=================================================================\n",
      "Total params: 21,592,330\n",
      "Trainable params: 21,591,114\n",
      "Non-trainable params: 1,216\n",
      "_________________________________________________________________\n"
     ]
    }
   ],
   "source": [
    "\n",
    "# Original Alex Net\n",
    "# Everything is same as in the original architecture except items listed below\n",
    "# I changed first Conv layer filter receptive field from 11 x 11 to 3 x 3\n",
    "# Also I use BatchNormalization instead of Local\n",
    "# Didn't use Dropouts here\n",
    "\n",
    "model = Sequential()\n",
    "model.add(Conv2D(96, (3,3), strides=(2,2), activation='relu', padding='same', input_shape=train_images.shape[1:]))\n",
    "model.add(MaxPooling2D(pool_size=(3, 3), strides=(2,2)))\n",
    "model.add(BatchNormalization())\n",
    "\n",
    "model.add(Conv2D(256, (5,5), activation='relu', padding='same'))\n",
    "model.add(MaxPooling2D(pool_size=(3, 3), strides=(2,2)))\n",
    "model.add(BatchNormalization())\n",
    "\n",
    "model.add(Conv2D(384, (3,3), activation='relu', padding='same'))\n",
    "model.add(Conv2D(384, (3,3), activation='relu', padding='same'))\n",
    "model.add(Conv2D(256, (3,3), activation='relu', padding='same'))\n",
    "model.add(MaxPooling2D(pool_size=(3, 3), strides=(2,2)))\n",
    "model.add(BatchNormalization())\n",
    "\n",
    "model.add(Flatten())\n",
    "model.add(Dense(4096, activation='relu'))\n",
    "# model.add(Dropout(0.5))\n",
    "model.add(Dense(4096, activation='relu'))\n",
    "# model.add(Dropout(0.5))\n",
    "model.add(Dense(10, activation='softmax'))\n",
    "\n",
    "model.summary()"
   ]
  },
  {
   "cell_type": "code",
   "execution_count": 0,
   "metadata": {
    "colab": {
     "autoexec": {
      "startup": false,
      "wait_interval": 0
     }
    },
    "colab_type": "code",
    "id": "xXarWyv1YBW3"
   },
   "outputs": [],
   "source": [
    "\n",
    "opt = keras.optimizers.rmsprop(lr=0.0001, decay=1e-6)\n",
    "\n",
    "model.compile(loss='categorical_crossentropy',\n",
    "              optimizer=opt,\n",
    "              metrics=['accuracy'])"
   ]
  },
  {
   "cell_type": "markdown",
   "metadata": {
    "colab_type": "text",
    "id": "DBgub3kDYBXB"
   },
   "source": [
    "## Training AlexNet"
   ]
  },
  {
   "cell_type": "markdown",
   "metadata": {
    "colab_type": "text",
    "id": "_pTAprhdYBXC"
   },
   "source": [
    "Use training set for training the network to recognize objects. You might want to use RMSProp optimizer to speed up the training.\n",
    "\n",
    "Convolutional networks require a lot of computing power for training. Typical setup for training CNN is to use GPU, however, in this problem you are not required to do so. CPU will be fine as well.\n",
    "\n",
    "If you are using CPU for this subproblem, training process might be slow. You can stop it manually as soon as you get meaningful results.\n",
    "\n",
    "Report the results on the training and cross-validation sets. The report should contain the training logs."
   ]
  },
  {
   "cell_type": "code",
   "execution_count": 63,
   "metadata": {
    "colab": {
     "autoexec": {
      "startup": false,
      "wait_interval": 0
     },
     "base_uri": "https://localhost:8080/",
     "height": 6834,
     "output_extras": [
      {
       "item_id": 151
      },
      {
       "item_id": 306
      },
      {
       "item_id": 446
      },
      {
       "item_id": 492
      },
      {
       "item_id": 526
      },
      {
       "item_id": 557
      },
      {
       "item_id": 658
      },
      {
       "item_id": 752
      },
      {
       "item_id": 825
      },
      {
       "item_id": 907
      },
      {
       "item_id": 1017
      },
      {
       "item_id": 1110
      },
      {
       "item_id": 1201
      },
      {
       "item_id": 1304
      },
      {
       "item_id": 1364
      },
      {
       "item_id": 1398
      },
      {
       "item_id": 1430
      },
      {
       "item_id": 1460
      },
      {
       "item_id": 1486
      },
      {
       "item_id": 1520
      },
      {
       "item_id": 1551
      },
      {
       "item_id": 1586
      },
      {
       "item_id": 1620
      },
      {
       "item_id": 1647
      },
      {
       "item_id": 1681
      },
      {
       "item_id": 1713
      },
      {
       "item_id": 1766
      },
      {
       "item_id": 1797
      },
      {
       "item_id": 1828
      },
      {
       "item_id": 1858
      },
      {
       "item_id": 1888
      },
      {
       "item_id": 1918
      },
      {
       "item_id": 1949
      },
      {
       "item_id": 2006
      },
      {
       "item_id": 2036
      },
      {
       "item_id": 2081
      },
      {
       "item_id": 2143
      },
      {
       "item_id": 2244
      },
      {
       "item_id": 2290
      },
      {
       "item_id": 2321
      },
      {
       "item_id": 2351
      },
      {
       "item_id": 2381
      },
      {
       "item_id": 2411
      },
      {
       "item_id": 2451
      },
      {
       "item_id": 2501
      },
      {
       "item_id": 2532
      },
      {
       "item_id": 2562
      },
      {
       "item_id": 2593
      },
      {
       "item_id": 2623
      },
      {
       "item_id": 2660
      },
      {
       "item_id": 2687
      },
      {
       "item_id": 2720
      },
      {
       "item_id": 2750
      },
      {
       "item_id": 2781
      },
      {
       "item_id": 2823
      },
      {
       "item_id": 2853
      },
      {
       "item_id": 2883
      },
      {
       "item_id": 2913
      },
      {
       "item_id": 2943
      },
      {
       "item_id": 2974
      },
      {
       "item_id": 3013
      },
      {
       "item_id": 3043
      },
      {
       "item_id": 3074
      },
      {
       "item_id": 3104
      },
      {
       "item_id": 3134
      },
      {
       "item_id": 3161
      },
      {
       "item_id": 3195
      },
      {
       "item_id": 3232
      },
      {
       "item_id": 3263
      },
      {
       "item_id": 3294
      },
      {
       "item_id": 3324
      },
      {
       "item_id": 3355
      },
      {
       "item_id": 3387
      },
      {
       "item_id": 3418
      },
      {
       "item_id": 3449
      },
      {
       "item_id": 3480
      },
      {
       "item_id": 3511
      },
      {
       "item_id": 3541
      },
      {
       "item_id": 3567
      },
      {
       "item_id": 3601
      },
      {
       "item_id": 3629
      },
      {
       "item_id": 3662
      },
      {
       "item_id": 3693
      },
      {
       "item_id": 3724
      },
      {
       "item_id": 3755
      },
      {
       "item_id": 3785
      },
      {
       "item_id": 3825
      },
      {
       "item_id": 3856
      },
      {
       "item_id": 3887
      },
      {
       "item_id": 3918
      },
      {
       "item_id": 3948
      },
      {
       "item_id": 3979
      },
      {
       "item_id": 4010
      },
      {
       "item_id": 4040
      },
      {
       "item_id": 4071
      },
      {
       "item_id": 4102
      },
      {
       "item_id": 4132
      },
      {
       "item_id": 4163
      },
      {
       "item_id": 4193
      },
      {
       "item_id": 4197
      }
     ]
    },
    "colab_type": "code",
    "executionInfo": {
     "elapsed": 2993885,
     "status": "ok",
     "timestamp": 1522414368758,
     "user": {
      "displayName": "Iryney Baran",
      "photoUrl": "//lh4.googleusercontent.com/-KJY9sMFZFVM/AAAAAAAAAAI/AAAAAAAABJM/ETCGet9jmTE/s50-c-k-no/photo.jpg",
      "userId": "104762452328045017366"
     },
     "user_tz": -180
    },
    "id": "GlqoGDXDycEQ",
    "outputId": "e039aa5f-2b48-45ae-b4f5-6225299f3bb7"
   },
   "outputs": [
    {
     "name": "stdout",
     "output_type": "stream",
     "text": [
      "Train on 50000 samples, validate on 10000 samples\n",
      "Epoch 1/100\n",
      "50000/50000 [==============================] - 31s 620us/step - loss: 0.8706 - acc: 0.6932 - val_loss: 1.0564 - val_acc: 0.6388\n",
      "\n",
      "Epoch 00001: val_acc improved from -inf to 0.63880, saving model to weights.best.hdf5\n",
      "Epoch 2/100\n",
      "14592/50000 [=======>......................] - ETA: 20s - loss: 0.6344 - acc: 0.777550000/50000 [==============================] - 30s 595us/step - loss: 0.6427 - acc: 0.7739 - val_loss: 0.9562 - val_acc: 0.6877\n",
      "\n",
      "Epoch 00002: val_acc improved from 0.63880 to 0.68770, saving model to weights.best.hdf5\n",
      "Epoch 3/100\n",
      "31104/50000 [=================>............] - ETA: 10s - loss: 0.4456 - acc: 0.843350000/50000 [==============================] - 30s 598us/step - loss: 0.4581 - acc: 0.8383 - val_loss: 1.1383 - val_acc: 0.6560\n",
      "\n",
      "Epoch 00003: val_acc did not improve\n",
      "Epoch 4/100\n",
      "42752/50000 [========================>.....] - ETA: 4s - loss: 0.3238 - acc: 0.885250000/50000 [==============================] - 30s 594us/step - loss: 0.3310 - acc: 0.8830 - val_loss: 1.1235 - val_acc: 0.6995\n",
      "\n",
      "Epoch 00004: val_acc improved from 0.68770 to 0.69950, saving model to weights.best.hdf5\n",
      "Epoch 5/100\n",
      "38656/50000 [======================>.......] - ETA: 6s - loss: 0.2368 - acc: 0.917050000/50000 [==============================] - 30s 599us/step - loss: 0.2451 - acc: 0.9134 - val_loss: 1.2468 - val_acc: 0.6983\n",
      "\n",
      "Epoch 00005: val_acc did not improve\n",
      "Epoch 6/100\n",
      "45184/50000 [==========================>...] - ETA: 2s - loss: 0.2007 - acc: 0.928850000/50000 [==============================] - 30s 597us/step - loss: 0.2020 - acc: 0.9283 - val_loss: 1.3823 - val_acc: 0.6896\n",
      "\n",
      "Epoch 00006: val_acc did not improve\n",
      "Epoch 7/100\n",
      "47232/50000 [===========================>..] - ETA: 1s - loss: 0.1682 - acc: 0.940950000/50000 [==============================] - 30s 596us/step - loss: 0.1696 - acc: 0.9405 - val_loss: 1.5272 - val_acc: 0.6808\n",
      "\n",
      "Epoch 00007: val_acc did not improve\n",
      "Epoch 8/100\n",
      "47872/50000 [===========================>..] - ETA: 1s - loss: 0.1467 - acc: 0.948950000/50000 [==============================] - 30s 596us/step - loss: 0.1477 - acc: 0.9486 - val_loss: 1.6946 - val_acc: 0.6825\n",
      "\n",
      "Epoch 00008: val_acc did not improve\n",
      "Epoch 9/100\n",
      "48128/50000 [===========================>..] - ETA: 1s - loss: 0.1295 - acc: 0.954450000/50000 [==============================] - 30s 597us/step - loss: 0.1308 - acc: 0.9539 - val_loss: 1.5323 - val_acc: 0.6947\n",
      "\n",
      "Epoch 00009: val_acc did not improve\n",
      "Epoch 10/100\n",
      "48000/50000 [===========================>..] - ETA: 1s - loss: 0.1205 - acc: 0.958450000/50000 [==============================] - 30s 594us/step - loss: 0.1209 - acc: 0.9582 - val_loss: 1.6937 - val_acc: 0.6940\n",
      "\n",
      "Epoch 00010: val_acc did not improve\n",
      "Epoch 11/100\n",
      "48000/50000 [===========================>..] - ETA: 1s - loss: 0.1100 - acc: 0.961550000/50000 [==============================] - 30s 595us/step - loss: 0.1107 - acc: 0.9614 - val_loss: 1.6913 - val_acc: 0.6975\n",
      "\n",
      "Epoch 00011: val_acc did not improve\n",
      "Epoch 12/100\n",
      "48000/50000 [===========================>..] - ETA: 1s - loss: 0.1028 - acc: 0.964350000/50000 [==============================] - 30s 596us/step - loss: 0.1038 - acc: 0.9641 - val_loss: 1.5895 - val_acc: 0.7025\n",
      "\n",
      "Epoch 00012: val_acc improved from 0.69950 to 0.70250, saving model to weights.best.hdf5\n",
      "Epoch 13/100\n",
      "39936/50000 [======================>.......] - ETA: 5s - loss: 0.0924 - acc: 0.967750000/50000 [==============================] - 30s 597us/step - loss: 0.0950 - acc: 0.9667 - val_loss: 1.7330 - val_acc: 0.7106\n",
      "\n",
      "Epoch 00013: val_acc improved from 0.70250 to 0.71060, saving model to weights.best.hdf5\n",
      "Epoch 14/100\n",
      "37760/50000 [=====================>........] - ETA: 6s - loss: 0.0854 - acc: 0.970750000/50000 [==============================] - 30s 596us/step - loss: 0.0885 - acc: 0.9698 - val_loss: 1.8711 - val_acc: 0.6956\n",
      "\n",
      "Epoch 00014: val_acc did not improve\n",
      "Epoch 15/100\n",
      "44672/50000 [=========================>....] - ETA: 3s - loss: 0.0821 - acc: 0.971450000/50000 [==============================] - 30s 596us/step - loss: 0.0830 - acc: 0.9713 - val_loss: 1.7624 - val_acc: 0.7133\n",
      "\n",
      "Epoch 00015: val_acc improved from 0.71060 to 0.71330, saving model to weights.best.hdf5\n",
      "Epoch 16/100\n",
      "39040/50000 [======================>.......] - ETA: 6s - loss: 0.0809 - acc: 0.973250000/50000 [==============================] - 30s 598us/step - loss: 0.0823 - acc: 0.9725 - val_loss: 2.0551 - val_acc: 0.6879\n",
      "\n",
      "Epoch 00016: val_acc did not improve\n",
      "Epoch 17/100\n",
      "45056/50000 [==========================>...] - ETA: 2s - loss: 0.0774 - acc: 0.974350000/50000 [==============================] - 30s 595us/step - loss: 0.0777 - acc: 0.9741 - val_loss: 1.8690 - val_acc: 0.6997\n",
      "\n",
      "Epoch 00017: val_acc did not improve\n",
      "Epoch 18/100\n",
      "46976/50000 [===========================>..] - ETA: 1s - loss: 0.0742 - acc: 0.975150000/50000 [==============================] - 30s 595us/step - loss: 0.0748 - acc: 0.9749 - val_loss: 1.8129 - val_acc: 0.6999\n",
      "\n",
      "Epoch 00018: val_acc did not improve\n",
      "Epoch 19/100\n",
      "47616/50000 [===========================>..] - ETA: 1s - loss: 0.0685 - acc: 0.977150000/50000 [==============================] - 30s 596us/step - loss: 0.0688 - acc: 0.9769 - val_loss: 1.7691 - val_acc: 0.7146\n",
      "\n",
      "Epoch 00019: val_acc improved from 0.71330 to 0.71460, saving model to weights.best.hdf5\n",
      "Epoch 20/100\n",
      "39808/50000 [======================>.......] - ETA: 5s - loss: 0.0650 - acc: 0.978550000/50000 [==============================] - 30s 595us/step - loss: 0.0669 - acc: 0.9777 - val_loss: 1.9421 - val_acc: 0.7107\n",
      "\n",
      "Epoch 00020: val_acc did not improve\n",
      "Epoch 21/100\n",
      "45312/50000 [==========================>...] - ETA: 2s - loss: 0.0666 - acc: 0.977850000/50000 [==============================] - 30s 597us/step - loss: 0.0667 - acc: 0.9779 - val_loss: 1.8469 - val_acc: 0.7055\n",
      "\n",
      "Epoch 00021: val_acc did not improve\n",
      "Epoch 22/100\n",
      "47104/50000 [===========================>..] - ETA: 1s - loss: 0.0625 - acc: 0.979650000/50000 [==============================] - 30s 597us/step - loss: 0.0634 - acc: 0.9792 - val_loss: 1.7366 - val_acc: 0.7191\n",
      "\n",
      "Epoch 00022: val_acc improved from 0.71460 to 0.71910, saving model to weights.best.hdf5\n",
      "Epoch 23/100\n",
      "39680/50000 [======================>.......] - ETA: 5s - loss: 0.0559 - acc: 0.981650000/50000 [==============================] - 30s 597us/step - loss: 0.0594 - acc: 0.9806 - val_loss: 1.9785 - val_acc: 0.7058\n",
      "\n",
      "Epoch 00023: val_acc did not improve\n",
      "Epoch 24/100\n",
      "45312/50000 [==========================>...] - ETA: 2s - loss: 0.0587 - acc: 0.980550000/50000 [==============================] - 30s 598us/step - loss: 0.0590 - acc: 0.9804 - val_loss: 1.8032 - val_acc: 0.7248\n",
      "\n",
      "Epoch 00024: val_acc improved from 0.71910 to 0.72480, saving model to weights.best.hdf5\n",
      "Epoch 25/100\n",
      "39168/50000 [======================>.......] - ETA: 6s - loss: 0.0548 - acc: 0.981850000/50000 [==============================] - 30s 601us/step - loss: 0.0556 - acc: 0.9816 - val_loss: 2.1529 - val_acc: 0.7036\n",
      "\n",
      "Epoch 00025: val_acc did not improve\n",
      "Epoch 26/100\n",
      "45184/50000 [==========================>...] - ETA: 2s - loss: 0.0565 - acc: 0.982050000/50000 [==============================] - 30s 599us/step - loss: 0.0558 - acc: 0.9821 - val_loss: 2.0428 - val_acc: 0.7157\n",
      "\n",
      "Epoch 00026: val_acc did not improve\n",
      "Epoch 27/100\n",
      "47104/50000 [===========================>..] - ETA: 1s - loss: 0.0525 - acc: 0.982950000/50000 [==============================] - 30s 599us/step - loss: 0.0537 - acc: 0.9826 - val_loss: 1.8685 - val_acc: 0.7157\n",
      "\n",
      "Epoch 00027: val_acc did not improve\n",
      "Epoch 28/100\n",
      "47616/50000 [===========================>..] - ETA: 1s - loss: 0.0510 - acc: 0.983750000/50000 [==============================] - 30s 600us/step - loss: 0.0517 - acc: 0.9834 - val_loss: 2.0687 - val_acc: 0.7088\n",
      "\n",
      "Epoch 00028: val_acc did not improve\n",
      "Epoch 29/100\n",
      "47872/50000 [===========================>..] - ETA: 1s - loss: 0.0502 - acc: 0.983550000/50000 [==============================] - 30s 596us/step - loss: 0.0501 - acc: 0.9836 - val_loss: 2.0508 - val_acc: 0.7086\n",
      "\n",
      "Epoch 00029: val_acc did not improve\n",
      "Epoch 30/100\n",
      "47872/50000 [===========================>..] - ETA: 1s - loss: 0.0494 - acc: 0.983950000/50000 [==============================] - 30s 598us/step - loss: 0.0493 - acc: 0.9838 - val_loss: 2.1335 - val_acc: 0.7223\n",
      "\n",
      "Epoch 00030: val_acc did not improve\n",
      "Epoch 31/100\n"
     ]
    },
    {
     "name": "stdout",
     "output_type": "stream",
     "text": [
      "47872/50000 [===========================>..] - ETA: 1s - loss: 0.0478 - acc: 0.984650000/50000 [==============================] - 30s 595us/step - loss: 0.0478 - acc: 0.9847 - val_loss: 2.2757 - val_acc: 0.7019\n",
      "\n",
      "Epoch 00031: val_acc did not improve\n",
      "Epoch 32/100\n",
      "47872/50000 [===========================>..] - ETA: 1s - loss: 0.0472 - acc: 0.984750000/50000 [==============================] - 30s 596us/step - loss: 0.0478 - acc: 0.9846 - val_loss: 2.1451 - val_acc: 0.7143\n",
      "\n",
      "Epoch 00032: val_acc did not improve\n",
      "Epoch 33/100\n",
      "47872/50000 [===========================>..] - ETA: 1s - loss: 0.0441 - acc: 0.985950000/50000 [==============================] - 30s 598us/step - loss: 0.0445 - acc: 0.9858 - val_loss: 2.3055 - val_acc: 0.6963\n",
      "\n",
      "Epoch 00033: val_acc did not improve\n",
      "Epoch 34/100\n",
      "47872/50000 [===========================>..] - ETA: 1s - loss: 0.0454 - acc: 0.984850000/50000 [==============================] - 30s 594us/step - loss: 0.0457 - acc: 0.9848 - val_loss: 2.1121 - val_acc: 0.7178\n",
      "\n",
      "Epoch 00034: val_acc did not improve\n",
      "Epoch 35/100\n",
      "47872/50000 [===========================>..] - ETA: 1s - loss: 0.0461 - acc: 0.985650000/50000 [==============================] - 30s 596us/step - loss: 0.0457 - acc: 0.9856 - val_loss: 2.0560 - val_acc: 0.7176\n",
      "\n",
      "Epoch 00035: val_acc did not improve\n",
      "Epoch 36/100\n",
      "47872/50000 [===========================>..] - ETA: 1s - loss: 0.0433 - acc: 0.986350000/50000 [==============================] - 30s 597us/step - loss: 0.0430 - acc: 0.9865 - val_loss: 2.3699 - val_acc: 0.6987\n",
      "\n",
      "Epoch 00036: val_acc did not improve\n",
      "Epoch 37/100\n",
      "47872/50000 [===========================>..] - ETA: 1s - loss: 0.0430 - acc: 0.986550000/50000 [==============================] - 30s 598us/step - loss: 0.0430 - acc: 0.9866 - val_loss: 2.1959 - val_acc: 0.7117\n",
      "\n",
      "Epoch 00037: val_acc did not improve\n",
      "Epoch 38/100\n",
      "47872/50000 [===========================>..] - ETA: 1s - loss: 0.0424 - acc: 0.987450000/50000 [==============================] - 30s 598us/step - loss: 0.0426 - acc: 0.9873 - val_loss: 2.2138 - val_acc: 0.7120\n",
      "\n",
      "Epoch 00038: val_acc did not improve\n",
      "Epoch 39/100\n",
      "47872/50000 [===========================>..] - ETA: 1s - loss: 0.0407 - acc: 0.987150000/50000 [==============================] - 30s 595us/step - loss: 0.0415 - acc: 0.9870 - val_loss: 1.9657 - val_acc: 0.7231\n",
      "\n",
      "Epoch 00039: val_acc did not improve\n",
      "Epoch 40/100\n",
      "47872/50000 [===========================>..] - ETA: 1s - loss: 0.0393 - acc: 0.987750000/50000 [==============================] - 30s 596us/step - loss: 0.0398 - acc: 0.9876 - val_loss: 2.3898 - val_acc: 0.7177\n",
      "\n",
      "Epoch 00040: val_acc did not improve\n",
      "Epoch 41/100\n",
      "47872/50000 [===========================>..] - ETA: 1s - loss: 0.0396 - acc: 0.987750000/50000 [==============================] - 30s 598us/step - loss: 0.0404 - acc: 0.9875 - val_loss: 2.2269 - val_acc: 0.7111\n",
      "\n",
      "Epoch 00041: val_acc did not improve\n",
      "Epoch 42/100\n",
      "47872/50000 [===========================>..] - ETA: 1s - loss: 0.0405 - acc: 0.987550000/50000 [==============================] - 30s 596us/step - loss: 0.0400 - acc: 0.9876 - val_loss: 2.2387 - val_acc: 0.7098\n",
      "\n",
      "Epoch 00042: val_acc did not improve\n",
      "Epoch 43/100\n",
      "47872/50000 [===========================>..] - ETA: 1s - loss: 0.0379 - acc: 0.988750000/50000 [==============================] - 30s 597us/step - loss: 0.0384 - acc: 0.9886 - val_loss: 2.1760 - val_acc: 0.7225\n",
      "\n",
      "Epoch 00043: val_acc did not improve\n",
      "Epoch 44/100\n",
      "47872/50000 [===========================>..] - ETA: 1s - loss: 0.0371 - acc: 0.988450000/50000 [==============================] - 30s 595us/step - loss: 0.0378 - acc: 0.9882 - val_loss: 2.2121 - val_acc: 0.7210\n",
      "\n",
      "Epoch 00044: val_acc did not improve\n",
      "Epoch 45/100\n",
      "47872/50000 [===========================>..] - ETA: 1s - loss: 0.0399 - acc: 0.987950000/50000 [==============================] - 30s 599us/step - loss: 0.0398 - acc: 0.9879 - val_loss: 2.2213 - val_acc: 0.7118\n",
      "\n",
      "Epoch 00045: val_acc did not improve\n",
      "Epoch 46/100\n",
      "47872/50000 [===========================>..] - ETA: 1s - loss: 0.0359 - acc: 0.988950000/50000 [==============================] - 30s 596us/step - loss: 0.0358 - acc: 0.9888 - val_loss: 2.3068 - val_acc: 0.7071\n",
      "\n",
      "Epoch 00046: val_acc did not improve\n",
      "Epoch 47/100\n",
      "47872/50000 [===========================>..] - ETA: 1s - loss: 0.0352 - acc: 0.989150000/50000 [==============================] - 30s 597us/step - loss: 0.0347 - acc: 0.9893 - val_loss: 2.2255 - val_acc: 0.7218\n",
      "\n",
      "Epoch 00047: val_acc did not improve\n",
      "Epoch 48/100\n",
      "47872/50000 [===========================>..] - ETA: 1s - loss: 0.0367 - acc: 0.989350000/50000 [==============================] - 30s 595us/step - loss: 0.0365 - acc: 0.9893 - val_loss: 2.3053 - val_acc: 0.7163\n",
      "\n",
      "Epoch 00048: val_acc did not improve\n",
      "Epoch 49/100\n",
      "47872/50000 [===========================>..] - ETA: 1s - loss: 0.0352 - acc: 0.990150000/50000 [==============================] - 30s 599us/step - loss: 0.0347 - acc: 0.9902 - val_loss: 2.2586 - val_acc: 0.7211\n",
      "\n",
      "Epoch 00049: val_acc did not improve\n",
      "Epoch 50/100\n",
      "47872/50000 [===========================>..] - ETA: 1s - loss: 0.0367 - acc: 0.989450000/50000 [==============================] - 30s 596us/step - loss: 0.0363 - acc: 0.9894 - val_loss: 2.1471 - val_acc: 0.7214\n",
      "\n",
      "Epoch 00050: val_acc did not improve\n",
      "Epoch 51/100\n",
      "47872/50000 [===========================>..] - ETA: 1s - loss: 0.0327 - acc: 0.990550000/50000 [==============================] - 30s 594us/step - loss: 0.0341 - acc: 0.9901 - val_loss: 2.1045 - val_acc: 0.7318\n",
      "\n",
      "Epoch 00051: val_acc improved from 0.72480 to 0.73180, saving model to weights.best.hdf5\n",
      "Epoch 52/100\n",
      "39936/50000 [======================>.......] - ETA: 5s - loss: 0.0340 - acc: 0.990250000/50000 [==============================] - 30s 597us/step - loss: 0.0360 - acc: 0.9896 - val_loss: 2.1548 - val_acc: 0.7250\n",
      "\n",
      "Epoch 00052: val_acc did not improve\n",
      "Epoch 53/100\n",
      "45440/50000 [==========================>...] - ETA: 2s - loss: 0.0321 - acc: 0.990050000/50000 [==============================] - 30s 598us/step - loss: 0.0321 - acc: 0.9899 - val_loss: 2.2009 - val_acc: 0.7259\n",
      "\n",
      "Epoch 00053: val_acc did not improve\n",
      "Epoch 54/100\n",
      "47104/50000 [===========================>..] - ETA: 1s - loss: 0.0322 - acc: 0.990750000/50000 [==============================] - 30s 595us/step - loss: 0.0324 - acc: 0.9906 - val_loss: 2.3316 - val_acc: 0.7163\n",
      "\n",
      "Epoch 00054: val_acc did not improve\n",
      "Epoch 55/100\n",
      "47616/50000 [===========================>..] - ETA: 1s - loss: 0.0314 - acc: 0.990550000/50000 [==============================] - 30s 596us/step - loss: 0.0312 - acc: 0.9904 - val_loss: 2.3055 - val_acc: 0.7292\n",
      "\n",
      "Epoch 00055: val_acc did not improve\n",
      "Epoch 56/100\n",
      "47872/50000 [===========================>..] - ETA: 1s - loss: 0.0331 - acc: 0.990550000/50000 [==============================] - 30s 596us/step - loss: 0.0332 - acc: 0.9905 - val_loss: 2.3360 - val_acc: 0.7178\n",
      "\n",
      "Epoch 00056: val_acc did not improve\n",
      "Epoch 57/100\n",
      "47872/50000 [===========================>..] - ETA: 1s - loss: 0.0304 - acc: 0.991250000/50000 [==============================] - 30s 598us/step - loss: 0.0307 - acc: 0.9910 - val_loss: 2.3595 - val_acc: 0.7241\n",
      "\n",
      "Epoch 00057: val_acc did not improve\n",
      "Epoch 58/100\n",
      "47872/50000 [===========================>..] - ETA: 1s - loss: 0.0307 - acc: 0.991250000/50000 [==============================] - 30s 597us/step - loss: 0.0319 - acc: 0.9909 - val_loss: 2.7508 - val_acc: 0.6933\n",
      "\n",
      "Epoch 00058: val_acc did not improve\n",
      "Epoch 59/100\n",
      "47872/50000 [===========================>..] - ETA: 1s - loss: 0.0285 - acc: 0.991450000/50000 [==============================] - 30s 600us/step - loss: 0.0294 - acc: 0.9913 - val_loss: 2.3828 - val_acc: 0.7212\n",
      "\n",
      "Epoch 00059: val_acc did not improve\n",
      "Epoch 60/100\n",
      "47872/50000 [===========================>..] - ETA: 1s - loss: 0.0312 - acc: 0.991150000/50000 [==============================] - 30s 596us/step - loss: 0.0308 - acc: 0.9912 - val_loss: 2.3390 - val_acc: 0.7241\n",
      "\n",
      "Epoch 00060: val_acc did not improve\n",
      "Epoch 61/100\n",
      "47872/50000 [===========================>..] - ETA: 1s - loss: 0.0316 - acc: 0.990850000/50000 [==============================] - 30s 598us/step - loss: 0.0316 - acc: 0.9909 - val_loss: 2.3321 - val_acc: 0.7276\n",
      "\n",
      "Epoch 00061: val_acc did not improve\n",
      "Epoch 62/100\n"
     ]
    },
    {
     "name": "stdout",
     "output_type": "stream",
     "text": [
      "47872/50000 [===========================>..] - ETA: 1s - loss: 0.0287 - acc: 0.991750000/50000 [==============================] - 30s 595us/step - loss: 0.0280 - acc: 0.9919 - val_loss: 2.4805 - val_acc: 0.7242\n",
      "\n",
      "Epoch 00062: val_acc did not improve\n",
      "Epoch 63/100\n",
      "47872/50000 [===========================>..] - ETA: 1s - loss: 0.0302 - acc: 0.991350000/50000 [==============================] - 30s 596us/step - loss: 0.0302 - acc: 0.9913 - val_loss: 2.5966 - val_acc: 0.7256\n",
      "\n",
      "Epoch 00063: val_acc did not improve\n",
      "Epoch 64/100\n",
      "47872/50000 [===========================>..] - ETA: 1s - loss: 0.0295 - acc: 0.991850000/50000 [==============================] - 30s 596us/step - loss: 0.0298 - acc: 0.9918 - val_loss: 2.3722 - val_acc: 0.7243\n",
      "\n",
      "Epoch 00064: val_acc did not improve\n",
      "Epoch 65/100\n",
      "47872/50000 [===========================>..] - ETA: 1s - loss: 0.0315 - acc: 0.990850000/50000 [==============================] - 30s 597us/step - loss: 0.0314 - acc: 0.9909 - val_loss: 2.3738 - val_acc: 0.7227\n",
      "\n",
      "Epoch 00065: val_acc did not improve\n",
      "Epoch 66/100\n",
      "47872/50000 [===========================>..] - ETA: 1s - loss: 0.0283 - acc: 0.991550000/50000 [==============================] - 30s 597us/step - loss: 0.0277 - acc: 0.9917 - val_loss: 2.1853 - val_acc: 0.7384\n",
      "\n",
      "Epoch 00066: val_acc improved from 0.73180 to 0.73840, saving model to weights.best.hdf5\n",
      "Epoch 67/100\n",
      "39936/50000 [======================>.......] - ETA: 5s - loss: 0.0280 - acc: 0.992050000/50000 [==============================] - 30s 598us/step - loss: 0.0286 - acc: 0.9919 - val_loss: 2.3584 - val_acc: 0.7175\n",
      "\n",
      "Epoch 00067: val_acc did not improve\n",
      "Epoch 68/100\n",
      "45440/50000 [==========================>...] - ETA: 2s - loss: 0.0252 - acc: 0.992850000/50000 [==============================] - 30s 595us/step - loss: 0.0252 - acc: 0.9927 - val_loss: 2.2826 - val_acc: 0.7301\n",
      "\n",
      "Epoch 00068: val_acc did not improve\n",
      "Epoch 69/100\n",
      "47104/50000 [===========================>..] - ETA: 1s - loss: 0.0261 - acc: 0.992250000/50000 [==============================] - 30s 597us/step - loss: 0.0256 - acc: 0.9924 - val_loss: 2.3424 - val_acc: 0.7305\n",
      "\n",
      "Epoch 00069: val_acc did not improve\n",
      "Epoch 70/100\n",
      "47616/50000 [===========================>..] - ETA: 1s - loss: 0.0271 - acc: 0.992050000/50000 [==============================] - 30s 596us/step - loss: 0.0269 - acc: 0.9920 - val_loss: 2.1770 - val_acc: 0.7202\n",
      "\n",
      "Epoch 00070: val_acc did not improve\n",
      "Epoch 71/100\n",
      "47872/50000 [===========================>..] - ETA: 1s - loss: 0.0304 - acc: 0.991750000/50000 [==============================] - 30s 596us/step - loss: 0.0299 - acc: 0.9918 - val_loss: 2.3600 - val_acc: 0.7183\n",
      "\n",
      "Epoch 00071: val_acc did not improve\n",
      "Epoch 72/100\n",
      "47872/50000 [===========================>..] - ETA: 1s - loss: 0.0294 - acc: 0.992250000/50000 [==============================] - 30s 597us/step - loss: 0.0297 - acc: 0.9921 - val_loss: 2.3100 - val_acc: 0.7303\n",
      "\n",
      "Epoch 00072: val_acc did not improve\n",
      "Epoch 73/100\n",
      "47872/50000 [===========================>..] - ETA: 1s - loss: 0.0294 - acc: 0.992550000/50000 [==============================] - 30s 599us/step - loss: 0.0291 - acc: 0.9925 - val_loss: 2.3334 - val_acc: 0.7286\n",
      "\n",
      "Epoch 00073: val_acc did not improve\n",
      "Epoch 74/100\n",
      "47872/50000 [===========================>..] - ETA: 1s - loss: 0.0247 - acc: 0.992650000/50000 [==============================] - 30s 602us/step - loss: 0.0246 - acc: 0.9926 - val_loss: 2.4024 - val_acc: 0.7245\n",
      "\n",
      "Epoch 00074: val_acc did not improve\n",
      "Epoch 75/100\n",
      "47872/50000 [===========================>..] - ETA: 1s - loss: 0.0286 - acc: 0.993050000/50000 [==============================] - 30s 601us/step - loss: 0.0288 - acc: 0.9929 - val_loss: 2.3899 - val_acc: 0.7181\n",
      "\n",
      "Epoch 00075: val_acc did not improve\n",
      "Epoch 76/100\n",
      "47872/50000 [===========================>..] - ETA: 1s - loss: 0.0253 - acc: 0.992350000/50000 [==============================] - 30s 600us/step - loss: 0.0252 - acc: 0.9924 - val_loss: 2.4390 - val_acc: 0.7319\n",
      "\n",
      "Epoch 00076: val_acc did not improve\n",
      "Epoch 77/100\n",
      "47872/50000 [===========================>..] - ETA: 1s - loss: 0.0296 - acc: 0.992250000/50000 [==============================] - 30s 603us/step - loss: 0.0297 - acc: 0.9922 - val_loss: 2.6205 - val_acc: 0.7214\n",
      "\n",
      "Epoch 00077: val_acc did not improve\n",
      "Epoch 78/100\n",
      "47872/50000 [===========================>..] - ETA: 1s - loss: 0.0265 - acc: 0.993250000/50000 [==============================] - 30s 597us/step - loss: 0.0259 - acc: 0.9933 - val_loss: 2.3088 - val_acc: 0.7362\n",
      "\n",
      "Epoch 00078: val_acc did not improve\n",
      "Epoch 79/100\n",
      "47872/50000 [===========================>..] - ETA: 1s - loss: 0.0275 - acc: 0.992750000/50000 [==============================] - 30s 597us/step - loss: 0.0272 - acc: 0.9928 - val_loss: 2.3046 - val_acc: 0.7388\n",
      "\n",
      "Epoch 00079: val_acc improved from 0.73840 to 0.73880, saving model to weights.best.hdf5\n",
      "Epoch 80/100\n",
      "39936/50000 [======================>.......] - ETA: 5s - loss: 0.0261 - acc: 0.993350000/50000 [==============================] - 30s 597us/step - loss: 0.0264 - acc: 0.9932 - val_loss: 2.3106 - val_acc: 0.7290\n",
      "\n",
      "Epoch 00080: val_acc did not improve\n",
      "Epoch 81/100\n",
      "45440/50000 [==========================>...] - ETA: 2s - loss: 0.0251 - acc: 0.992950000/50000 [==============================] - 30s 597us/step - loss: 0.0247 - acc: 0.9928 - val_loss: 2.4062 - val_acc: 0.7451\n",
      "\n",
      "Epoch 00081: val_acc improved from 0.73880 to 0.74510, saving model to weights.best.hdf5\n",
      "Epoch 82/100\n",
      "39296/50000 [======================>.......] - ETA: 6s - loss: 0.0247 - acc: 0.993550000/50000 [==============================] - 30s 597us/step - loss: 0.0260 - acc: 0.9934 - val_loss: 2.4872 - val_acc: 0.7192\n",
      "\n",
      "Epoch 00082: val_acc did not improve\n",
      "Epoch 83/100\n",
      "45184/50000 [==========================>...] - ETA: 2s - loss: 0.0269 - acc: 0.993050000/50000 [==============================] - 30s 595us/step - loss: 0.0279 - acc: 0.9927 - val_loss: 2.3517 - val_acc: 0.7353\n",
      "\n",
      "Epoch 00083: val_acc did not improve\n",
      "Epoch 84/100\n",
      "47104/50000 [===========================>..] - ETA: 1s - loss: 0.0246 - acc: 0.993250000/50000 [==============================] - 30s 596us/step - loss: 0.0242 - acc: 0.9933 - val_loss: 2.4637 - val_acc: 0.7348\n",
      "\n",
      "Epoch 00084: val_acc did not improve\n",
      "Epoch 85/100\n",
      "47616/50000 [===========================>..] - ETA: 1s - loss: 0.0239 - acc: 0.993250000/50000 [==============================] - 30s 598us/step - loss: 0.0245 - acc: 0.9931 - val_loss: 2.3893 - val_acc: 0.7372\n",
      "\n",
      "Epoch 00085: val_acc did not improve\n",
      "Epoch 86/100\n",
      "47872/50000 [===========================>..] - ETA: 1s - loss: 0.0226 - acc: 0.994050000/50000 [==============================] - 30s 598us/step - loss: 0.0231 - acc: 0.9938 - val_loss: 2.4586 - val_acc: 0.7360\n",
      "\n",
      "Epoch 00086: val_acc did not improve\n",
      "Epoch 87/100\n",
      "47872/50000 [===========================>..] - ETA: 1s - loss: 0.0256 - acc: 0.993650000/50000 [==============================] - 30s 595us/step - loss: 0.0265 - acc: 0.9934 - val_loss: 2.2680 - val_acc: 0.7340\n",
      "\n",
      "Epoch 00087: val_acc did not improve\n",
      "Epoch 88/100\n",
      "47872/50000 [===========================>..] - ETA: 1s - loss: 0.0284 - acc: 0.993250000/50000 [==============================] - 30s 595us/step - loss: 0.0288 - acc: 0.9930 - val_loss: 2.4339 - val_acc: 0.7236\n",
      "\n",
      "Epoch 00088: val_acc did not improve\n",
      "Epoch 89/100\n",
      "47872/50000 [===========================>..] - ETA: 1s - loss: 0.0256 - acc: 0.993250000/50000 [==============================] - 30s 597us/step - loss: 0.0261 - acc: 0.9932 - val_loss: 2.5941 - val_acc: 0.7272\n",
      "\n",
      "Epoch 00089: val_acc did not improve\n",
      "Epoch 90/100\n",
      "47872/50000 [===========================>..] - ETA: 1s - loss: 0.0244 - acc: 0.993550000/50000 [==============================] - 30s 598us/step - loss: 0.0243 - acc: 0.9935 - val_loss: 2.5972 - val_acc: 0.7197\n",
      "\n",
      "Epoch 00090: val_acc did not improve\n",
      "Epoch 91/100\n",
      "47872/50000 [===========================>..] - ETA: 1s - loss: 0.0269 - acc: 0.993850000/50000 [==============================] - 30s 597us/step - loss: 0.0267 - acc: 0.9938 - val_loss: 2.2845 - val_acc: 0.7431\n",
      "\n",
      "Epoch 00091: val_acc did not improve\n",
      "Epoch 92/100\n",
      "47872/50000 [===========================>..] - ETA: 1s - loss: 0.0255 - acc: 0.994250000/50000 [==============================] - 30s 597us/step - loss: 0.0255 - acc: 0.9942 - val_loss: 2.3961 - val_acc: 0.7373\n",
      "\n",
      "Epoch 00092: val_acc did not improve\n",
      "Epoch 93/100\n"
     ]
    },
    {
     "name": "stdout",
     "output_type": "stream",
     "text": [
      "47872/50000 [===========================>..] - ETA: 1s - loss: 0.0251 - acc: 0.993750000/50000 [==============================] - 30s 597us/step - loss: 0.0252 - acc: 0.9936 - val_loss: 2.3804 - val_acc: 0.7391\n",
      "\n",
      "Epoch 00093: val_acc did not improve\n",
      "Epoch 94/100\n",
      "47872/50000 [===========================>..] - ETA: 1s - loss: 0.0238 - acc: 0.993750000/50000 [==============================] - 30s 595us/step - loss: 0.0237 - acc: 0.9938 - val_loss: 2.8230 - val_acc: 0.7220\n",
      "\n",
      "Epoch 00094: val_acc did not improve\n",
      "Epoch 95/100\n",
      "47872/50000 [===========================>..] - ETA: 1s - loss: 0.0288 - acc: 0.993150000/50000 [==============================] - 30s 594us/step - loss: 0.0285 - acc: 0.9932 - val_loss: 2.3530 - val_acc: 0.7374\n",
      "\n",
      "Epoch 00095: val_acc did not improve\n",
      "Epoch 96/100\n",
      "47872/50000 [===========================>..] - ETA: 1s - loss: 0.0247 - acc: 0.994350000/50000 [==============================] - 30s 597us/step - loss: 0.0258 - acc: 0.9940 - val_loss: 2.6087 - val_acc: 0.7288\n",
      "\n",
      "Epoch 00096: val_acc did not improve\n",
      "Epoch 97/100\n",
      "47872/50000 [===========================>..] - ETA: 1s - loss: 0.0271 - acc: 0.993550000/50000 [==============================] - 30s 599us/step - loss: 0.0268 - acc: 0.9936 - val_loss: 2.3768 - val_acc: 0.7352\n",
      "\n",
      "Epoch 00097: val_acc did not improve\n",
      "Epoch 98/100\n",
      "47872/50000 [===========================>..] - ETA: 1s - loss: 0.0262 - acc: 0.993550000/50000 [==============================] - 30s 595us/step - loss: 0.0261 - acc: 0.9936 - val_loss: 2.5810 - val_acc: 0.7325\n",
      "\n",
      "Epoch 00098: val_acc did not improve\n",
      "Epoch 99/100\n",
      "47872/50000 [===========================>..] - ETA: 1s - loss: 0.0282 - acc: 0.993550000/50000 [==============================] - 30s 594us/step - loss: 0.0276 - acc: 0.9936 - val_loss: 2.4128 - val_acc: 0.7364\n",
      "\n",
      "Epoch 00099: val_acc did not improve\n",
      "Epoch 100/100\n",
      "47744/50000 [===========================>..] - ETA: 1s - loss: 0.0242 - acc: 0.994150000/50000 [==============================] - 30s 596us/step - loss: 0.0242 - acc: 0.9941 - val_loss: 2.4972 - val_acc: 0.7216\n",
      "\n",
      "Epoch 00100: val_acc did not improve\n"
     ]
    }
   ],
   "source": [
    "# save weights that improve validation accuracy\n",
    "filepath=\"weights.best.hdf5\"\n",
    "checkpoint = ModelCheckpoint(filepath, monitor='val_acc', verbose=1, save_best_only=True, mode='max')\n",
    "callbacks_list = [checkpoint]\n",
    "\n",
    "# training AlexNet\n",
    "epochs = 100\n",
    "batch_size = 128\n",
    "\n",
    "history = model.fit(train_images, train_labels,\n",
    "          batch_size=batch_size,\n",
    "          epochs=epochs,\n",
    "          validation_data=(cv_images, cv_labels),\n",
    "          callbacks=callbacks_list,\n",
    "          shuffle=True)\n",
    "\n"
   ]
  },
  {
   "cell_type": "code",
   "execution_count": 64,
   "metadata": {
    "colab": {
     "autoexec": {
      "startup": false,
      "wait_interval": 0
     },
     "base_uri": "https://localhost:8080/",
     "height": 68,
     "output_extras": [
      {
       "item_id": 4
      }
     ]
    },
    "colab_type": "code",
    "executionInfo": {
     "elapsed": 3469,
     "status": "ok",
     "timestamp": 1522414372272,
     "user": {
      "displayName": "Iryney Baran",
      "photoUrl": "//lh4.googleusercontent.com/-KJY9sMFZFVM/AAAAAAAAAAI/AAAAAAAABJM/ETCGet9jmTE/s50-c-k-no/photo.jpg",
      "userId": "104762452328045017366"
     },
     "user_tz": -180
    },
    "id": "j2ovSKUkYBXD",
    "outputId": "7d16970c-9d96-48b7-cbdc-6457681ca6fd"
   },
   "outputs": [
    {
     "name": "stdout",
     "output_type": "stream",
     "text": [
      "10000/10000 [==============================] - 3s 308us/step\n",
      "cross-validation set accuracy: 72.16%\n",
      "train set accuracy: 0.99%\n"
     ]
    }
   ],
   "source": [
    "scores = model.evaluate(cv_images, cv_labels, verbose=1)\n",
    "print(\"cross-validation set accuracy: {}%\".format(scores[1]*100))\n",
    "print(\"train set accuracy: %.2f%%\" % max(history.history['acc']))\n"
   ]
  },
  {
   "cell_type": "code",
   "execution_count": 65,
   "metadata": {
    "colab": {
     "autoexec": {
      "startup": false,
      "wait_interval": 0
     },
     "base_uri": "https://localhost:8080/",
     "height": 793,
     "output_extras": [
      {
       "item_id": 1
      },
      {
       "item_id": 2
      }
     ]
    },
    "colab_type": "code",
    "executionInfo": {
     "elapsed": 1559,
     "status": "ok",
     "timestamp": 1522414373867,
     "user": {
      "displayName": "Iryney Baran",
      "photoUrl": "//lh4.googleusercontent.com/-KJY9sMFZFVM/AAAAAAAAAAI/AAAAAAAABJM/ETCGet9jmTE/s50-c-k-no/photo.jpg",
      "userId": "104762452328045017366"
     },
     "user_tz": -180
    },
    "id": "NyD9JpX5rf0h",
    "outputId": "4e4c8694-dfdd-436c-dff3-2742eb01132c"
   },
   "outputs": [
    {
     "data": {
      "image/png": "[encoded data removed]",
      "text/plain": [
       "<matplotlib.figure.Figure at 0x7f2decd99390>"
      ]
     },
     "metadata": {
      "tags": []
     },
     "output_type": "display_data"
    },
    {
     "data": {
      "image/png": "[encoded data removed]",
      "text/plain": [
       "<matplotlib.figure.Figure at 0x7f2decdb5ba8>"
      ]
     },
     "metadata": {
      "tags": []
     },
     "output_type": "display_data"
    }
   ],
   "source": [
    "def plot_performance(history):\n",
    "    plt.figure(figsize=[8,6])\n",
    "    plt.plot(history.history['loss'],'r',linewidth=2.0)\n",
    "    plt.plot(history.history['val_loss'],'b',linewidth=2.0)\n",
    "    plt.legend(['Training loss', 'Validation Loss'], fontsize=16)\n",
    "    plt.xlabel('Epochs ', fontsize=12)\n",
    "    plt.ylabel('Loss', fontsize=12)\n",
    "    plt.title('Loss Curves',fontsize=12)\n",
    " \n",
    "    plt.figure(figsize=[8,6])\n",
    "    plt.plot(history.history['acc'],'r',linewidth=2.0)\n",
    "    plt.plot(history.history['val_acc'],'b',linewidth=2.0)\n",
    "    plt.legend(['Training Accuracy', 'Validation Accuracy'], fontsize=16)\n",
    "    plt.xlabel('Epochs ',fontsize=12)\n",
    "    plt.ylabel('Accuracy',fontsize=12)\n",
    "    plt.title('Accuracy Curves',fontsize=12)\n",
    "\n",
    "plot_performance(history)"
   ]
  },
  {
   "cell_type": "markdown",
   "metadata": {
    "colab_type": "text",
    "id": "cK0JP_ezKVbU"
   },
   "source": [
    "This clearly indicates overfitting. Our model just memorized all training data and is not able to generalize properly."
   ]
  },
  {
   "cell_type": "markdown",
   "metadata": {
    "colab_type": "text",
    "id": "agXN5REUYBXG"
   },
   "source": [
    "## Improving AlexNet"
   ]
  },
  {
   "cell_type": "markdown",
   "metadata": {
    "colab_type": "text",
    "id": "tXW1j_5MYBXH"
   },
   "source": [
    "As you can see, AlexNet does not work very well on such a small dataset. Recall what you have learned from this class to improve its performance. You can also take a look at the [Dropout technique](https://www.cs.toronto.edu/~hinton/absps/JMLRdropout.pdf) and its [implementation in Keras](https://keras.io/layers/core/#dropout). "
   ]
  },
  {
   "cell_type": "markdown",
   "metadata": {
    "colab_type": "text",
    "id": "6-ucKNB6NlM9"
   },
   "source": [
    "### First improved model training\n",
    "In order to reduce overfitting, I firstly try to use Dropouts and changed size of FC layers. "
   ]
  },
  {
   "cell_type": "code",
   "execution_count": 138,
   "metadata": {
    "colab": {
     "autoexec": {
      "startup": false,
      "wait_interval": 0
     },
     "base_uri": "https://localhost:8080/",
     "height": 714,
     "output_extras": [
      {
       "item_id": 1
      }
     ]
    },
    "colab_type": "code",
    "executionInfo": {
     "elapsed": 1223,
     "status": "ok",
     "timestamp": 1522352239659,
     "user": {
      "displayName": "Iryney Baran",
      "photoUrl": "//lh4.googleusercontent.com/-KJY9sMFZFVM/AAAAAAAAAAI/AAAAAAAABJM/ETCGet9jmTE/s50-c-k-no/photo.jpg",
      "userId": "104762452328045017366"
     },
     "user_tz": -180
    },
    "id": "8lEre-2sNmK7",
    "outputId": "71c2af6e-4579-40d4-92f8-97de640421a8"
   },
   "outputs": [
    {
     "name": "stdout",
     "output_type": "stream",
     "text": [
      "_________________________________________________________________\n",
      "Layer (type)                 Output Shape              Param #   \n",
      "=================================================================\n",
      "conv2d_156 (Conv2D)          (None, 16, 16, 96)        2688      \n",
      "_________________________________________________________________\n",
      "max_pooling2d_95 (MaxPooling (None, 7, 7, 96)          0         \n",
      "_________________________________________________________________\n",
      "batch_normalization_93 (Batc (None, 7, 7, 96)          384       \n",
      "_________________________________________________________________\n",
      "conv2d_157 (Conv2D)          (None, 7, 7, 256)         614656    \n",
      "_________________________________________________________________\n",
      "max_pooling2d_96 (MaxPooling (None, 3, 3, 256)         0         \n",
      "_________________________________________________________________\n",
      "batch_normalization_94 (Batc (None, 3, 3, 256)         1024      \n",
      "_________________________________________________________________\n",
      "conv2d_158 (Conv2D)          (None, 3, 3, 384)         885120    \n",
      "_________________________________________________________________\n",
      "conv2d_159 (Conv2D)          (None, 3, 3, 384)         1327488   \n",
      "_________________________________________________________________\n",
      "conv2d_160 (Conv2D)          (None, 3, 3, 256)         884992    \n",
      "_________________________________________________________________\n",
      "max_pooling2d_97 (MaxPooling (None, 1, 1, 256)         0         \n",
      "_________________________________________________________________\n",
      "batch_normalization_95 (Batc (None, 1, 1, 256)         1024      \n",
      "_________________________________________________________________\n",
      "flatten_31 (Flatten)         (None, 256)               0         \n",
      "_________________________________________________________________\n",
      "dense_91 (Dense)             (None, 256)               65792     \n",
      "_________________________________________________________________\n",
      "dropout_71 (Dropout)         (None, 256)               0         \n",
      "_________________________________________________________________\n",
      "dense_92 (Dense)             (None, 256)               65792     \n",
      "_________________________________________________________________\n",
      "dropout_72 (Dropout)         (None, 256)               0         \n",
      "_________________________________________________________________\n",
      "dense_93 (Dense)             (None, 10)                2570      \n",
      "=================================================================\n",
      "Total params: 3,851,530\n",
      "Trainable params: 3,850,314\n",
      "Non-trainable params: 1,216\n",
      "_________________________________________________________________\n"
     ]
    }
   ],
   "source": [
    "\n",
    "model = Sequential()\n",
    "model.add(Conv2D(96, (3,3), strides=(2,2), activation='relu', padding='same', input_shape=train_images.shape[1:]))\n",
    "model.add(MaxPooling2D(pool_size=(3, 3), strides=(2,2)))\n",
    "model.add(BatchNormalization())\n",
    "\n",
    "model.add(Conv2D(256, (5,5), activation='relu', padding='same'))\n",
    "model.add(MaxPooling2D(pool_size=(2, 2), strides=(2,2)))\n",
    "model.add(BatchNormalization())\n",
    "\n",
    "model.add(Conv2D(384, (3,3), activation='relu', padding='same'))\n",
    "model.add(Conv2D(384, (3,3), activation='relu', padding='same'))\n",
    "model.add(Conv2D(256, (3,3), activation='relu', padding='same'))\n",
    "model.add(MaxPooling2D(pool_size=(2, 2), strides=(2,2)))\n",
    "model.add(BatchNormalization())\n",
    "\n",
    "model.add(Flatten())\n",
    "model.add(Dense(256, activation='relu'))\n",
    "model.add(Dropout(0.5))\n",
    "model.add(Dense(256, activation='relu'))\n",
    "model.add(Dropout(0.5))\n",
    "model.add(Dense(10, activation='softmax'))\n",
    "\n",
    "model.summary()"
   ]
  },
  {
   "cell_type": "code",
   "execution_count": 71,
   "metadata": {
    "colab": {
     "autoexec": {
      "startup": false,
      "wait_interval": 0
     },
     "base_uri": "https://localhost:8080/",
     "height": 6854,
     "output_extras": [
      {
       "item_id": 40
      },
      {
       "item_id": 98
      },
      {
       "item_id": 175
      },
      {
       "item_id": 199
      },
      {
       "item_id": 224
      },
      {
       "item_id": 262
      },
      {
       "item_id": 351
      },
      {
       "item_id": 388
      },
      {
       "item_id": 438
      },
      {
       "item_id": 467
      },
      {
       "item_id": 491
      },
      {
       "item_id": 528
      },
      {
       "item_id": 578
      },
      {
       "item_id": 641
      },
      {
       "item_id": 715
      },
      {
       "item_id": 781
      },
      {
       "item_id": 808
      },
      {
       "item_id": 832
      },
      {
       "item_id": 885
      },
      {
       "item_id": 943
      },
      {
       "item_id": 968
      },
      {
       "item_id": 1003
      },
      {
       "item_id": 1036
      },
      {
       "item_id": 1076
      },
      {
       "item_id": 1132
      },
      {
       "item_id": 1155
      },
      {
       "item_id": 1177
      },
      {
       "item_id": 1219
      },
      {
       "item_id": 1277
      },
      {
       "item_id": 1300
      },
      {
       "item_id": 1322
      },
      {
       "item_id": 1345
      },
      {
       "item_id": 1382
      },
      {
       "item_id": 1409
      },
      {
       "item_id": 1433
      },
      {
       "item_id": 1470
      },
      {
       "item_id": 1495
      },
      {
       "item_id": 1519
      },
      {
       "item_id": 1549
      },
      {
       "item_id": 1580
      },
      {
       "item_id": 1605
      },
      {
       "item_id": 1625
      },
      {
       "item_id": 1650
      },
      {
       "item_id": 1673
      },
      {
       "item_id": 1698
      },
      {
       "item_id": 1734
      },
      {
       "item_id": 1760
      },
      {
       "item_id": 1785
      },
      {
       "item_id": 1822
      },
      {
       "item_id": 1850
      },
      {
       "item_id": 1874
      },
      {
       "item_id": 1910
      },
      {
       "item_id": 1936
      },
      {
       "item_id": 1959
      },
      {
       "item_id": 1993
      },
      {
       "item_id": 2022
      },
      {
       "item_id": 2046
      },
      {
       "item_id": 2083
      },
      {
       "item_id": 2110
      },
      {
       "item_id": 2134
      },
      {
       "item_id": 2170
      },
      {
       "item_id": 2235
      },
      {
       "item_id": 2259
      },
      {
       "item_id": 2296
      },
      {
       "item_id": 2322
      },
      {
       "item_id": 2347
      },
      {
       "item_id": 2429
      },
      {
       "item_id": 2506
      },
      {
       "item_id": 2561
      },
      {
       "item_id": 2598
      },
      {
       "item_id": 2626
      },
      {
       "item_id": 2676
      },
      {
       "item_id": 2733
      },
      {
       "item_id": 2811
      },
      {
       "item_id": 2878
      },
      {
       "item_id": 2985
      },
      {
       "item_id": 3056
      },
      {
       "item_id": 3125
      },
      {
       "item_id": 3215
      },
      {
       "item_id": 3304
      },
      {
       "item_id": 3317
      }
     ]
    },
    "colab_type": "code",
    "executionInfo": {
     "elapsed": 2133902,
     "status": "ok",
     "timestamp": 1522338874649,
     "user": {
      "displayName": "Iryney Baran",
      "photoUrl": "//lh4.googleusercontent.com/-KJY9sMFZFVM/AAAAAAAAAAI/AAAAAAAABJM/ETCGet9jmTE/s50-c-k-no/photo.jpg",
      "userId": "104762452328045017366"
     },
     "user_tz": -180
    },
    "id": "OWjuDc8LPreX",
    "outputId": "e6bc2bde-0709-4890-c4b6-b291b3f93d4e"
   },
   "outputs": [
    {
     "name": "stdout",
     "output_type": "stream",
     "text": [
      "Train on 50000 samples, validate on 10000 samples\n",
      "Epoch 1/100\n",
      "50000/50000 [==============================] - 22s 448us/step - loss: 1.8233 - acc: 0.3592 - val_loss: 1.3566 - val_acc: 0.5190\n",
      "\n",
      "Epoch 00001: val_acc improved from -inf to 0.51900, saving model to weights_2.best.hdf5\n",
      "Epoch 2/100\n",
      "16512/50000 [========>.....................] - ETA: 13s - loss: 1.3968 - acc: 0.506450000/50000 [==============================] - 21s 428us/step - loss: 1.3159 - acc: 0.5375 - val_loss: 1.1223 - val_acc: 0.6009\n",
      "\n",
      "Epoch 00002: val_acc improved from 0.51900 to 0.60090, saving model to weights_2.best.hdf5\n",
      "Epoch 3/100\n",
      "34816/50000 [===================>..........] - ETA: 6s - loss: 1.1111 - acc: 0.618950000/50000 [==============================] - 21s 427us/step - loss: 1.0918 - acc: 0.6240 - val_loss: 1.0040 - val_acc: 0.6503\n",
      "\n",
      "Epoch 00003: val_acc improved from 0.60090 to 0.65030, saving model to weights_2.best.hdf5\n",
      "Epoch 4/100\n",
      "38272/50000 [=====================>........] - ETA: 4s - loss: 0.9338 - acc: 0.681250000/50000 [==============================] - 21s 427us/step - loss: 0.9316 - acc: 0.6821 - val_loss: 1.0107 - val_acc: 0.6533\n",
      "\n",
      "Epoch 00004: val_acc improved from 0.65030 to 0.65330, saving model to weights_2.best.hdf5\n",
      "Epoch 5/100\n",
      "42752/50000 [========================>.....] - ETA: 2s - loss: 0.7949 - acc: 0.732650000/50000 [==============================] - 21s 422us/step - loss: 0.7958 - acc: 0.7322 - val_loss: 1.0233 - val_acc: 0.6607\n",
      "\n",
      "Epoch 00005: val_acc improved from 0.65330 to 0.66070, saving model to weights_2.best.hdf5\n",
      "Epoch 6/100\n",
      "42496/50000 [========================>.....] - ETA: 3s - loss: 0.6651 - acc: 0.775650000/50000 [==============================] - 21s 425us/step - loss: 0.6681 - acc: 0.7756 - val_loss: 0.8911 - val_acc: 0.7037\n",
      "\n",
      "Epoch 00006: val_acc improved from 0.66070 to 0.70370, saving model to weights_2.best.hdf5\n",
      "Epoch 7/100\n",
      "42880/50000 [========================>.....] - ETA: 2s - loss: 0.5558 - acc: 0.814050000/50000 [==============================] - 21s 425us/step - loss: 0.5574 - acc: 0.8135 - val_loss: 0.9419 - val_acc: 0.7035\n",
      "\n",
      "Epoch 00007: val_acc did not improve\n",
      "Epoch 8/100\n",
      "50000/50000 [==============================] - 21s 424us/step - loss: 0.4591 - acc: 0.8465 - val_loss: 0.9776 - val_acc: 0.7130\n",
      "\n",
      "Epoch 00008: val_acc improved from 0.70370 to 0.71300, saving model to weights_2.best.hdf5\n",
      "Epoch 9/100\n",
      "  256/50000 [..............................] - ETA: 19s - loss: 0.4179 - acc: 0.843850000/50000 [==============================] - 21s 425us/step - loss: 0.3698 - acc: 0.8773 - val_loss: 1.0444 - val_acc: 0.7143\n",
      "\n",
      "Epoch 00009: val_acc improved from 0.71300 to 0.71430, saving model to weights_2.best.hdf5\n",
      "Epoch 10/100\n",
      "29824/50000 [================>.............] - ETA: 8s - loss: 0.2939 - acc: 0.904450000/50000 [==============================] - 21s 425us/step - loss: 0.3062 - acc: 0.8991 - val_loss: 1.1719 - val_acc: 0.7178\n",
      "\n",
      "Epoch 00010: val_acc improved from 0.71430 to 0.71780, saving model to weights_2.best.hdf5\n",
      "Epoch 11/100\n",
      "38528/50000 [======================>.......]50000/50000 [==============================] - 21s 424us/step - loss: 0.2557 - acc: 0.9167 - val_loss: 1.3017 - val_acc: 0.6964\n",
      "\n",
      "Epoch 00011: val_acc did not improve\n",
      "Epoch 12/100\n",
      "49408/50000 [============================>.] - ETA: 0s - loss: 0.2086 - acc: 0.932850000/50000 [==============================] - 21s 424us/step - loss: 0.2094 - acc: 0.9326 - val_loss: 1.2968 - val_acc: 0.7152\n",
      "\n",
      "Epoch 00012: val_acc did not improve\n",
      "Epoch 13/100\n",
      "50000/50000 [==============================] - 21s 425us/step - loss: 0.1864 - acc: 0.9394 - val_loss: 1.3167 - val_acc: 0.7081\n",
      "\n",
      "Epoch 00013: val_acc did not improve\n",
      "Epoch 14/100\n",
      " 1792/50000 [>.............................] - ETA: 19s - loss: 0.1380 - acc: 0.964850000/50000 [==============================] - 21s 425us/step - loss: 0.1575 - acc: 0.9492 - val_loss: 1.5095 - val_acc: 0.7077\n",
      "\n",
      "Epoch 00014: val_acc did not improve\n",
      "Epoch 15/100\n",
      "37632/50000 [=====================>........] - ETA: 4s - loss: 0.1409 - acc: 0.954450000/50000 [==============================] - 21s 426us/step - loss: 0.1452 - acc: 0.9534 - val_loss: 1.5114 - val_acc: 0.7143\n",
      "\n",
      "Epoch 00015: val_acc did not improve\n",
      "Epoch 16/100\n",
      "48384/50000 [============================>.] - ETA: 0s - loss: 0.1325 - acc: 0.95750000/50000 [==============================] - 21s 424us/step - loss: 0.1331 - acc: 0.9576 - val_loss: 1.4812 - val_acc: 0.7085\n",
      "\n",
      "Epoch 00016: val_acc did not improve\n",
      "Epoch 17/100\n",
      "50000/50000 [==============================] - 21s 423us/step - loss: 0.1219 - acc: 0.9621 - val_loss: 1.4978 - val_acc: 0.7178\n",
      "\n",
      "Epoch 00017: val_acc did not improve\n",
      "Epoch 18/100\n",
      " 2176/50000 [>.............................] - ETA: 18s - loss: 0.0695 - acc: 0.979850000/50000 [==============================] - 21s 424us/step - loss: 0.1124 - acc: 0.9653 - val_loss: 1.6513 - val_acc: 0.7219\n",
      "\n",
      "Epoch 00018: val_acc improved from 0.71780 to 0.72190, saving model to weights_2.best.hdf5\n",
      "Epoch 19/100\n",
      "32128/50000 [==================>...........] - ETA: 7s - loss: 0.1017 - acc: 0.968450000/50000 [==============================] - 21s 424us/step - loss: 0.1046 - acc: 0.9678 - val_loss: 1.5162 - val_acc: 0.7233\n",
      "\n",
      "Epoch 00019: val_acc improved from 0.72190 to 0.72330, saving model to weights_2.best.hdf5\n",
      "Epoch 20/100\n",
      "39296/50000 [======================>.......] - ETA: 4s - loss: 0.0970 - acc: 0.969550000/50000 [==============================] - 21s 424us/step - loss: 0.0990 - acc: 0.9688 - val_loss: 1.9446 - val_acc: 0.7021\n",
      "\n",
      "Epoch 00020: val_acc did not improve\n",
      "Epoch 21/100\n",
      "49024/50000 [============================>.] - ETA: 0s - loss: 0.0975 - acc: 0.970250000/50000 [==============================] - 21s 426us/step - loss: 0.0983 - acc: 0.9700 - val_loss: 1.9312 - val_acc: 0.7016\n",
      "\n",
      "Epoch 00021: val_acc did not improve\n",
      "Epoch 22/100\n",
      "50000/50000 [==============================] - 21s 423us/step - loss: 0.0884 - acc: 0.9735 - val_loss: 1.5998 - val_acc: 0.7168\n",
      "\n",
      "Epoch 00022: val_acc did not improve\n",
      "Epoch 23/100\n",
      " 1664/50000 [..............................] - ETA: 19s - loss: 0.0754 - acc: 0.975450000/50000 [==============================] - 21s 425us/step - loss: 0.0873 - acc: 0.9739 - val_loss: 1.7331 - val_acc: 0.7234\n",
      "\n",
      "Epoch 00023: val_acc improved from 0.72330 to 0.72340, saving model to weights_2.best.hdf5\n",
      "Epoch 24/100\n",
      "29696/50000 [================>.............] - ETA: 8s - loss: 0.0803 - acc: 0.976550000/50000 [==============================] - 21s 426us/step - loss: 0.0821 - acc: 0.9757 - val_loss: 1.6823 - val_acc: 0.7258\n",
      "\n",
      "Epoch 00024: val_acc improved from 0.72340 to 0.72580, saving model to weights_2.best.hdf5\n",
      "Epoch 25/100\n",
      "37504/50000 [=====================>........] - ETA: 5s - loss: 0.0758 - acc: 0.976650000/50000 [==============================] - 21s 426us/step - loss: 0.0794 - acc: 0.9763 - val_loss: 1.7793 - val_acc: 0.7188\n",
      "\n",
      "Epoch 00025: val_acc did not improve\n",
      "Epoch 26/100\n",
      "46080/50000 [==========================>...] - ETA: 1s - loss: 0.0731 - acc: 0.978050000/50000 [==============================] - 21s 428us/step - loss: 0.0724 - acc: 0.9783 - val_loss: 1.7017 - val_acc: 0.7149\n",
      "\n",
      "Epoch 00026: val_acc did not improve\n",
      "Epoch 27/100\n",
      "49152/50000 [============================>.] - ETA: 0s - loss: 0.0751 - acc: 0.977550000/50000 [==============================] - 21s 429us/step - loss: 0.0758 - acc: 0.9773 - val_loss: 1.8607 - val_acc: 0.7274\n",
      "\n",
      "Epoch 00027: val_acc improved from 0.72580 to 0.72740, saving model to weights_2.best.hdf5\n",
      "Epoch 28/100\n",
      "40960/50000 [=======================>......] - ETA: 3s - loss: 0.0732 - acc: 0.979450000/50000 [==============================] - 21s 429us/step - loss: 0.0737 - acc: 0.9788 - val_loss: 2.0090 - val_acc: 0.7141\n",
      "\n",
      "Epoch 00028: val_acc did not improve\n",
      "Epoch 29/100\n",
      "46976/50000 [===========================>..] - ETA: 1s - loss: 0.0700 - acc: 0.979850000/50000 [==============================] - 22s 431us/step - loss: 0.0707 - acc: 0.9797 - val_loss: 1.7645 - val_acc: 0.7265\n",
      "\n",
      "Epoch 00029: val_acc did not improve\n",
      "Epoch 30/100\n",
      "48768/50000 [============================>.] - ETA: 0s - loss: 0.0643 - acc: 0.981250000/50000 [==============================] - 22s 431us/step - loss: 0.0644 - acc: 0.9811 - val_loss: 1.7846 - val_acc: 0.7231\n",
      "\n",
      "Epoch 00030: val_acc did not improve\n",
      "Epoch 31/100\n"
     ]
    },
    {
     "name": "stdout",
     "output_type": "stream",
     "text": [
      "49792/50000 [============================>.] - ETA: 0s - loss: 0.0623 - acc: 0.982050000/50000 [==============================] - 22s 431us/step - loss: 0.0628 - acc: 0.9820 - val_loss: 1.8731 - val_acc: 0.7176\n",
      "\n",
      "Epoch 00031: val_acc did not improve\n",
      "Epoch 32/100\n",
      "49664/50000 [============================>.] - ETA: 0s - loss: 0.0605 - acc: 0.982150000/50000 [==============================] - 22s 431us/step - loss: 0.0605 - acc: 0.9820 - val_loss: 1.8355 - val_acc: 0.7320\n",
      "\n",
      "Epoch 00032: val_acc improved from 0.72740 to 0.73200, saving model to weights_2.best.hdf5\n",
      "Epoch 33/100\n",
      "40832/50000 [=======================>......] - ETA: 3s - loss: 0.0581 - acc: 0.983250000/50000 [==============================] - 21s 430us/step - loss: 0.0612 - acc: 0.9827 - val_loss: 1.8071 - val_acc: 0.7030\n",
      "\n",
      "Epoch 00033: val_acc did not improve\n",
      "Epoch 34/100\n",
      "46208/50000 [==========================>...] - ETA: 1s - loss: 0.0573 - acc: 0.98350000/50000 [==============================] - 22s 432us/step - loss: 0.0578 - acc: 0.9834 - val_loss: 1.7936 - val_acc: 0.7259\n",
      "\n",
      "Epoch 00034: val_acc did not improve\n",
      "Epoch 35/100\n",
      "49152/50000 [============================>.] - ETA: 0s - loss: 0.0621 - acc: 0.982750000/50000 [==============================] - 21s 430us/step - loss: 0.0620 - acc: 0.9827 - val_loss: 1.7738 - val_acc: 0.7262\n",
      "\n",
      "Epoch 00035: val_acc did not improve\n",
      "Epoch 36/100\n",
      "49664/50000 [============================>.] - ETA: 0s - loss: 0.0551 - acc: 0.984550000/50000 [==============================] - 22s 430us/step - loss: 0.0554 - acc: 0.9845 - val_loss: 1.8419 - val_acc: 0.7227\n",
      "\n",
      "Epoch 00036: val_acc did not improve\n",
      "Epoch 37/100\n",
      "50000/50000 [==============================] - 21s 426us/step - loss: 0.0560 - acc: 0.9843 - val_loss: 1.7513 - val_acc: 0.7208\n",
      "\n",
      "Epoch 00037: val_acc did not improve\n",
      "Epoch 38/100\n",
      "  384/50000 [..............................] - ETA: 20s - loss: 0.0555 - acc: 0.989650000/50000 [==============================] - 21s 425us/step - loss: 0.0501 - acc: 0.9855 - val_loss: 2.0312 - val_acc: 0.7222\n",
      "\n",
      "Epoch 00038: val_acc did not improve\n",
      "Epoch 39/100\n",
      "36736/50000 [=====================>........] - ETA: 5s - loss: 0.0499 - acc: 0.986150000/50000 [==============================] - 21s 425us/step - loss: 0.0506 - acc: 0.9858 - val_loss: 1.8319 - val_acc: 0.7293\n",
      "\n",
      "Epoch 00039: val_acc did not improve\n",
      "Epoch 40/100\n",
      "48640/50000 [============================>.] - ETA: 0s - loss: 0.0516 - acc: 0.985650000/50000 [==============================] - 21s 425us/step - loss: 0.0518 - acc: 0.9856 - val_loss: 2.1022 - val_acc: 0.7186\n",
      "\n",
      "Epoch 00040: val_acc did not improve\n",
      "Epoch 41/100\n",
      "50000/50000 [==============================] - 21s 425us/step - loss: 0.0512 - acc: 0.9857 - val_loss: 1.9227 - val_acc: 0.7270\n",
      "\n",
      "Epoch 00041: val_acc did not improve\n",
      "Epoch 42/100\n",
      " 1408/50000 [..............................] - ETA: 19s - loss: 0.0261 - acc: 0.992250000/50000 [==============================] - 21s 426us/step - loss: 0.0502 - acc: 0.9863 - val_loss: 1.7478 - val_acc: 0.7306\n",
      "\n",
      "Epoch 00042: val_acc did not improve\n",
      "Epoch 43/100\n",
      "35840/50000 [====================>.........] - ETA: 5s - loss: 0.0489 - acc: 0.986450000/50000 [==============================] - 21s 429us/step - loss: 0.0492 - acc: 0.9859 - val_loss: 2.0280 - val_acc: 0.7198\n",
      "\n",
      "Epoch 00043: val_acc did not improve\n",
      "Epoch 44/100\n",
      "46208/50000 [==========================>...] - ETA: 1s - loss: 0.0489 - acc: 0.986050000/50000 [==============================] - 21s 429us/step - loss: 0.0490 - acc: 0.9858 - val_loss: 1.8652 - val_acc: 0.7239\n",
      "\n",
      "Epoch 00044: val_acc did not improve\n",
      "Epoch 45/100\n",
      "50000/50000 [==============================] - 21s 428us/step - loss: 0.0470 - acc: 0.9873 - val_loss: 1.9606 - val_acc: 0.7073\n",
      "\n",
      "Epoch 00045: val_acc did not improve\n",
      "Epoch 46/100\n",
      "50000/50000 [==============================] - 21s 429us/step - loss: 0.0448 - acc: 0.9870 - val_loss: 1.9251 - val_acc: 0.7275\n",
      "\n",
      "Epoch 00046: val_acc did not improve\n",
      "Epoch 47/100\n",
      "20224/50000 [===========>..................] - ETA: 12s - loss: 0.0424 - acc: 0.988850000/50000 [==============================] - 21s 429us/step - loss: 0.0446 - acc: 0.9876 - val_loss: 2.0499 - val_acc: 0.7196\n",
      "\n",
      "Epoch 00047: val_acc did not improve\n",
      "Epoch 48/100\n",
      "41728/50000 [========================>.....] - ETA: 3s - loss: 0.0425 - acc: 0.988450000/50000 [==============================] - 21s 428us/step - loss: 0.0439 - acc: 0.9880 - val_loss: 2.3259 - val_acc: 0.7025\n",
      "\n",
      "Epoch 00048: val_acc did not improve\n",
      "Epoch 49/100\n",
      "47744/50000 [===========================>..] - ETA: 0s - loss: 0.0441 - acc: 0.988250000/50000 [==============================] - 21s 427us/step - loss: 0.0437 - acc: 0.9883 - val_loss: 2.0498 - val_acc: 0.7368\n",
      "\n",
      "Epoch 00049: val_acc improved from 0.73200 to 0.73680, saving model to weights_2.best.hdf5\n",
      "Epoch 50/100\n",
      "41216/50000 [=======================>......] - ETA: 3s - loss: 0.0417 - acc: 0.988450000/50000 [==============================] - 21s 429us/step - loss: 0.0420 - acc: 0.9886 - val_loss: 2.0184 - val_acc: 0.7244\n",
      "\n",
      "Epoch 00050: val_acc did not improve\n",
      "Epoch 51/100\n",
      "47616/50000 [===========================>..] - ETA: 0s - loss: 0.0414 - acc: 0.988750000/50000 [==============================] - 21s 428us/step - loss: 0.0417 - acc: 0.9887 - val_loss: 1.9654 - val_acc: 0.7290\n",
      "\n",
      "Epoch 00051: val_acc did not improve\n",
      "Epoch 52/100\n",
      "49152/50000 [============================>.] - ETA: 0s - loss: 0.0408 - acc: 0.989150000/50000 [==============================] - 22s 430us/step - loss: 0.0413 - acc: 0.9890 - val_loss: 1.6877 - val_acc: 0.7250\n",
      "\n",
      "Epoch 00052: val_acc did not improve\n",
      "Epoch 53/100\n",
      "50000/50000 [==============================] - 21s 424us/step - loss: 0.0391 - acc: 0.9891 - val_loss: 2.0683 - val_acc: 0.7346\n",
      "\n",
      "Epoch 00053: val_acc did not improve\n",
      "Epoch 54/100\n",
      " 1664/50000 [..............................] - ETA: 19s - loss: 0.0350 - acc: 0.991650000/50000 [==============================] - 21s 426us/step - loss: 0.0368 - acc: 0.9898 - val_loss: 1.9017 - val_acc: 0.7354\n",
      "\n",
      "Epoch 00054: val_acc did not improve\n",
      "Epoch 55/100\n",
      "35840/50000 [====================>.........] - ETA: 5s - loss: 0.0378 - acc: 0.989850000/50000 [==============================] - 21s 428us/step - loss: 0.0368 - acc: 0.9900 - val_loss: 2.0162 - val_acc: 0.7264\n",
      "\n",
      "Epoch 00055: val_acc did not improve\n",
      "Epoch 56/100\n",
      "46208/50000 [==========================>...] - ETA: 1s - loss: 0.0367 - acc: 0.989250000/50000 [==============================] - 21s 426us/step - loss: 0.0373 - acc: 0.9890 - val_loss: 2.1703 - val_acc: 0.7145\n",
      "\n",
      "Epoch 00056: val_acc did not improve\n",
      "Epoch 57/100\n",
      "50000/50000 [==============================] - 21s 425us/step - loss: 0.0349 - acc: 0.9904 - val_loss: 2.0172 - val_acc: 0.7303\n",
      "\n",
      "Epoch 00057: val_acc did not improve\n",
      "Epoch 58/100\n",
      "  640/50000 [..............................] - ETA: 20s - loss: 0.0177 - acc: 0.995350000/50000 [==============================] - 21s 424us/step - loss: 0.0386 - acc: 0.9899 - val_loss: 2.0503 - val_acc: 0.7241\n",
      "\n",
      "Epoch 00058: val_acc did not improve\n",
      "Epoch 59/100\n",
      "36352/50000 [====================>.........] - ETA: 5s - loss: 0.0378 - acc: 0.990450000/50000 [==============================] - 21s 425us/step - loss: 0.0385 - acc: 0.9900 - val_loss: 2.0296 - val_acc: 0.7236\n",
      "\n",
      "Epoch 00059: val_acc did not improve\n",
      "Epoch 60/100\n",
      "49664/50000 [============================>.] - ETA: 0s - loss: 0.0329 - acc: 0.991350000/50000 [==============================] - 21s 424us/step - loss: 0.0328 - acc: 0.9913 - val_loss: 2.2188 - val_acc: 0.7274\n",
      "\n",
      "Epoch 00060: val_acc did not improve\n",
      "Epoch 61/100\n",
      "50000/50000 [==============================] - 21s 422us/step - loss: 0.0366 - acc: 0.9910 - val_loss: 1.9320 - val_acc: 0.7294\n",
      "\n",
      "Epoch 00061: val_acc did not improve\n",
      "Epoch 62/100\n",
      " 2560/50000 [>.............................] - ETA: 19s - loss: 0.0357 - acc: 0.988750000/50000 [==============================] - 21s 423us/step - loss: 0.0352 - acc: 0.9906 - val_loss: 2.1422 - val_acc: 0.7228\n",
      "\n",
      "Epoch 00062: val_acc did not improve\n",
      "Epoch 63/100\n",
      "38912/50000 [======================>.......] - ETA: 4s - loss: 0.0374 - acc: 0.990450000/50000 [==============================] - 21s 422us/step - loss: 0.0367 - acc: 0.9904 - val_loss: 2.0500 - val_acc: 0.7311\n",
      "\n",
      "Epoch 00063: val_acc did not improve\n",
      "Epoch 64/100\n"
     ]
    },
    {
     "name": "stdout",
     "output_type": "stream",
     "text": [
      "47872/50000 [===========================>..] - ETA: 0s - loss: 0.0346 - acc: 0.991150000/50000 [==============================] - 21s 425us/step - loss: 0.0345 - acc: 0.9911 - val_loss: 1.9335 - val_acc: 0.7268\n",
      "\n",
      "Epoch 00064: val_acc did not improve\n",
      "Epoch 65/100\n",
      "50000/50000 [==============================] - 21s 426us/step - loss: 0.0309 - acc: 0.9920 - val_loss: 2.3579 - val_acc: 0.6913\n",
      "\n",
      "Epoch 00065: val_acc did not improve\n",
      "Epoch 66/100\n",
      "  512/50000 [..............................] - ETA: 19s - loss: 0.0584 - acc: 0.988350000/50000 [==============================] - 21s 427us/step - loss: 0.0306 - acc: 0.9916 - val_loss: 2.0460 - val_acc: 0.7371\n",
      "\n",
      "Epoch 00066: val_acc improved from 0.73680 to 0.73710, saving model to weights_2.best.hdf5\n",
      "Epoch 67/100\n",
      "30336/50000 [=================>............] - ETA: 7s - loss: 0.0328 - acc: 0.990950000/50000 [==============================] - 21s 424us/step - loss: 0.0327 - acc: 0.9910 - val_loss: 1.9808 - val_acc: 0.7234\n",
      "\n",
      "Epoch 00067: val_acc did not improve\n",
      "Epoch 68/100\n",
      "47360/50000 [===========================>..] - ETA: 1s - loss: 0.0318 - acc: 0.991950000/50000 [==============================] - 21s 424us/step - loss: 0.0321 - acc: 0.9919 - val_loss: 2.0187 - val_acc: 0.7286\n",
      "\n",
      "Epoch 00068: val_acc did not improve\n",
      "Epoch 69/100\n",
      "50000/50000 [==============================] - 21s 421us/step - loss: 0.0313 - acc: 0.9916 - val_loss: 2.2922 - val_acc: 0.7140\n",
      "\n",
      "Epoch 00069: val_acc did not improve\n",
      "Epoch 70/100\n",
      " 1536/50000 [..............................] - ETA: 19s - loss: 0.0292 - acc: 0.994150000/50000 [==============================] - 21s 424us/step - loss: 0.0329 - acc: 0.9914 - val_loss: 2.2022 - val_acc: 0.7237\n",
      "\n",
      "Epoch 00070: val_acc did not improve\n",
      "Epoch 71/100\n",
      "37120/50000 [=====================>........] - ETA: 5s - loss: 0.0281 - acc: 0.992550000/50000 [==============================] - 21s 425us/step - loss: 0.0289 - acc: 0.9924 - val_loss: 2.0196 - val_acc: 0.7314\n",
      "\n",
      "Epoch 00071: val_acc did not improve\n",
      "Epoch 72/100\n",
      "49024/50000 [============================>.] - ETA: 0s - loss: 0.0325 - acc: 0.991550000/50000 [==============================] - 21s 423us/step - loss: 0.0325 - acc: 0.9915 - val_loss: 2.1172 - val_acc: 0.7260\n",
      "\n",
      "Epoch 00072: val_acc did not improve\n",
      "Epoch 73/100\n",
      "50000/50000 [==============================] - 21s 425us/step - loss: 0.0319 - acc: 0.9919 - val_loss: 2.1308 - val_acc: 0.7345\n",
      "\n",
      "Epoch 00073: val_acc did not improve\n",
      "Epoch 74/100\n",
      "  768/50000 [..............................] - ETA: 19s - loss: 0.0178 - acc: 0.994850000/50000 [==============================] - 21s 425us/step - loss: 0.0271 - acc: 0.9927 - val_loss: 2.1196 - val_acc: 0.7248\n",
      "\n",
      "Epoch 00074: val_acc did not improve\n",
      "Epoch 75/100\n",
      "36864/50000 [=====================>........] - ETA: 5s - loss: 0.0258 - acc: 0.993050000/50000 [==============================] - 21s 424us/step - loss: 0.0275 - acc: 0.9926 - val_loss: 2.2779 - val_acc: 0.7256\n",
      "\n",
      "Epoch 00075: val_acc did not improve\n",
      "Epoch 76/100\n",
      "49536/50000 [============================>.] - ETA: 0s - loss: 0.0264 - acc: 0.992850000/50000 [==============================] - 21s 423us/step - loss: 0.0272 - acc: 0.9927 - val_loss: 2.3059 - val_acc: 0.7305\n",
      "\n",
      "Epoch 00076: val_acc did not improve\n",
      "Epoch 77/100\n",
      "50000/50000 [==============================] - 21s 426us/step - loss: 0.0275 - acc: 0.9929 - val_loss: 2.3755 - val_acc: 0.7281\n",
      "\n",
      "Epoch 00077: val_acc did not improve\n",
      "Epoch 78/100\n",
      " 1152/50000 [..............................] - ETA: 19s - loss: 0.0373 - acc: 0.990550000/50000 [==============================] - 21s 423us/step - loss: 0.0329 - acc: 0.9920 - val_loss: 2.1090 - val_acc: 0.7254\n",
      "\n",
      "Epoch 00078: val_acc did not improve\n",
      "Epoch 79/100\n",
      "37504/50000 [=====================>........] - ETA: 5s - loss: 0.0284 - acc: 0.993050000/50000 [==============================] - 21s 423us/step - loss: 0.0268 - acc: 0.9931 - val_loss: 2.1484 - val_acc: 0.7332\n",
      "\n",
      "Epoch 00079: val_acc did not improve\n",
      "Epoch 80/100\n",
      "48384/50000 [============================>.] - ETA: 0s - loss: 0.0245 - acc: 0.992950000/50000 [==============================] - 21s 425us/step - loss: 0.0244 - acc: 0.9930 - val_loss: 2.1643 - val_acc: 0.7265\n",
      "\n",
      "Epoch 00080: val_acc did not improve\n",
      "Epoch 81/100\n",
      "50000/50000 [==============================] - 21s 424us/step - loss: 0.0303 - acc: 0.9926 - val_loss: 2.0581 - val_acc: 0.7389\n",
      "\n",
      "Epoch 00081: val_acc improved from 0.73710 to 0.73890, saving model to weights_2.best.hdf5\n",
      "Epoch 82/100\n",
      " 1280/50000 [..............................] - ETA: 19s - loss: 0.0140 - acc: 0.996150000/50000 [==============================] - 21s 424us/step - loss: 0.0276 - acc: 0.9927 - val_loss: 2.1040 - val_acc: 0.7300\n",
      "\n",
      "Epoch 00082: val_acc did not improve\n",
      "Epoch 83/100\n",
      "36992/50000 [=====================>........] - ETA: 5s - loss: 0.0269 - acc: 0.993550000/50000 [==============================] - 21s 424us/step - loss: 0.0255 - acc: 0.9938 - val_loss: 2.1219 - val_acc: 0.7371\n",
      "\n",
      "Epoch 00083: val_acc did not improve\n",
      "Epoch 84/100\n",
      "49408/50000 [============================>.] - ETA: 0s - loss: 0.0279 - acc: 0.992950000/50000 [==============================] - 21s 422us/step - loss: 0.0278 - acc: 0.9929 - val_loss: 2.2269 - val_acc: 0.7270\n",
      "\n",
      "Epoch 00084: val_acc did not improve\n",
      "Epoch 85/100\n",
      "50000/50000 [==============================] - 21s 424us/step - loss: 0.0254 - acc: 0.9934 - val_loss: 2.2294 - val_acc: 0.7240\n",
      "\n",
      "Epoch 00085: val_acc did not improve\n",
      "Epoch 86/100\n",
      " 2048/50000 [>.............................] - ETA: 19s - loss: 0.0293 - acc: 0.991250000/50000 [==============================] - 21s 424us/step - loss: 0.0265 - acc: 0.9934 - val_loss: 2.0799 - val_acc: 0.7304\n",
      "\n",
      "Epoch 00086: val_acc did not improve\n",
      "Epoch 87/100\n",
      "38528/50000 [======================>.......] - ETA: 4s - loss: 0.0266 - acc: 0.992950000/50000 [==============================] - 21s 424us/step - loss: 0.0265 - acc: 0.9929 - val_loss: 2.0819 - val_acc: 0.7317\n",
      "\n",
      "Epoch 00087: val_acc did not improve\n",
      "Epoch 88/100\n",
      "50000/50000 [==============================] - 21s 422us/step - loss: 0.0236 - acc: 0.9938 - val_loss: 2.0208 - val_acc: 0.7351\n",
      "\n",
      "Epoch 00088: val_acc did not improve\n",
      "Epoch 89/100\n",
      "  384/50000 [..............................] - ETA: 20s - loss: 0.0019 - acc: 1.0000    50000/50000 [==============================] - 21s 425us/step - loss: 0.0266 - acc: 0.9935 - val_loss: 2.0333 - val_acc: 0.7440\n",
      "\n",
      "Epoch 00089: val_acc improved from 0.73890 to 0.74400, saving model to weights_2.best.hdf5\n",
      "Epoch 90/100\n",
      "31104/50000 [=================>............] - ETA: 7s - loss: 0.0222 - acc: 0.994250000/50000 [==============================] - 21s 423us/step - loss: 0.0217 - acc: 0.9944 - val_loss: 2.0697 - val_acc: 0.7467\n",
      "\n",
      "Epoch 00090: val_acc improved from 0.74400 to 0.74670, saving model to weights_2.best.hdf5\n",
      "Epoch 91/100\n",
      "50000/50000 [==============================] - 21s 424us/step - loss: 0.0275 - acc: 0.9934 - val_loss: 2.3100 - val_acc: 0.7265\n",
      "\n",
      "Epoch 00091: val_acc did not improve\n",
      "Epoch 92/100\n",
      "49664/50000 [============================>.] - ETA: 0s - loss: 0.0232 - acc: 0.994650000/50000 [==============================] - 21s 422us/step - loss: 0.0234 - acc: 0.9946 - val_loss: 2.2527 - val_acc: 0.7331\n",
      "\n",
      "Epoch 00092: val_acc did not improve\n",
      "Epoch 93/100\n",
      "50000/50000 [==============================] - 21s 427us/step - loss: 0.0219 - acc: 0.9943 - val_loss: 2.5511 - val_acc: 0.7130\n",
      "\n",
      "Epoch 00093: val_acc did not improve\n",
      "Epoch 94/100\n",
      " 1408/50000 [..............................] - ETA: 19s - loss: 0.0258 - acc: 0.996450000/50000 [==============================] - 21s 427us/step - loss: 0.0240 - acc: 0.9940 - val_loss: 2.5720 - val_acc: 0.7070\n",
      "\n",
      "Epoch 00094: val_acc did not improve\n",
      "Epoch 95/100\n",
      "35840/50000 [====================>.........] - ETA: 5s - loss: 0.0260 - acc: 0.994150000/50000 [==============================] - 21s 428us/step - loss: 0.0255 - acc: 0.9942 - val_loss: 2.0940 - val_acc: 0.7351\n",
      "\n",
      "Epoch 00095: val_acc did not improve\n",
      "Epoch 96/100\n",
      "47360/50000 [===========================>..] - ETA: 1s - loss: 0.0224 - acc: 0.994650000/50000 [==============================] - 21s 426us/step - loss: 0.0230 - acc: 0.9944 - val_loss: 2.1574 - val_acc: 0.7260\n",
      "\n",
      "Epoch 00096: val_acc did not improve\n",
      "Epoch 97/100\n",
      "50000/50000 [==============================] - 21s 427us/step - loss: 0.0243 - acc: 0.9941 - val_loss: 2.2711 - val_acc: 0.7331\n"
     ]
    },
    {
     "name": "stdout",
     "output_type": "stream",
     "text": [
      "\n",
      "Epoch 00097: val_acc did not improve\n",
      "Epoch 98/100\n",
      "50000/50000 [==============================] - 21s 427us/step - loss: 0.0251 - acc: 0.9939 - val_loss: 2.2471 - val_acc: 0.7309\n",
      "\n",
      "Epoch 00098: val_acc did not improve\n",
      "Epoch 99/100\n",
      "21120/50000 [===========>..................] - ETA: 11s - loss: 0.0214 - acc: 0.994550000/50000 [==============================] - 21s 428us/step - loss: 0.0226 - acc: 0.9942 - val_loss: 2.0454 - val_acc: 0.7332\n",
      "\n",
      "Epoch 00099: val_acc did not improve\n",
      "Epoch 100/100\n",
      "42368/50000 [========================>.....] - ETA: 3s - loss: 0.0259 - acc: 0.994250000/50000 [==============================] - 21s 427us/step - loss: 0.0254 - acc: 0.9942 - val_loss: 2.2285 - val_acc: 0.7372\n",
      "\n",
      "Epoch 00100: val_acc did not improve\n"
     ]
    }
   ],
   "source": [
    "opt = keras.optimizers.rmsprop(lr=0.0001, decay=1e-6)\n",
    "\n",
    "model.compile(loss='categorical_crossentropy',\n",
    "              optimizer=opt,\n",
    "              metrics=['accuracy'])\n",
    "\n",
    "# here we memorize weights that improve validation accuracy\n",
    "filepath=\"weights_1.best.hdf5\"\n",
    "checkpoint = ModelCheckpoint(filepath, monitor='val_acc', verbose=1, save_best_only=True, mode='max')\n",
    "callbacks_list = [checkpoint]\n",
    "\n",
    "# training \n",
    "epochs = 100\n",
    "batch_size = 128\n",
    "\n",
    "history = model.fit(train_images, train_labels,\n",
    "          batch_size=batch_size,\n",
    "          epochs=epochs,\n",
    "          validation_data=(cv_images, cv_labels),\n",
    "          callbacks=callbacks_list,\n",
    "          shuffle=True)"
   ]
  },
  {
   "cell_type": "code",
   "execution_count": 72,
   "metadata": {
    "colab": {
     "autoexec": {
      "startup": false,
      "wait_interval": 0
     },
     "base_uri": "https://localhost:8080/",
     "height": 793,
     "output_extras": [
      {
       "item_id": 1
      },
      {
       "item_id": 2
      }
     ]
    },
    "colab_type": "code",
    "executionInfo": {
     "elapsed": 1149,
     "status": "ok",
     "timestamp": 1522338888836,
     "user": {
      "displayName": "Iryney Baran",
      "photoUrl": "//lh4.googleusercontent.com/-KJY9sMFZFVM/AAAAAAAAAAI/AAAAAAAABJM/ETCGet9jmTE/s50-c-k-no/photo.jpg",
      "userId": "104762452328045017366"
     },
     "user_tz": -180
    },
    "id": "Fl1TJVtrdU9W",
    "outputId": "9132501c-c4a9-4367-d52b-1e3bf3638b2c"
   },
   "outputs": [
    {
     "data": {
      "image/png": "[encoded data removed]",
      "text/plain": [
       "<matplotlib.figure.Figure at 0x7f0a26ca6438>"
      ]
     },
     "metadata": {
      "tags": []
     },
     "output_type": "display_data"
    },
    {
     "data": {
      "image/png": "[encoded data removed]",
      "text/plain": [
       "<matplotlib.figure.Figure at 0x7f0a26d5b6d8>"
      ]
     },
     "metadata": {
      "tags": []
     },
     "output_type": "display_data"
    }
   ],
   "source": [
    "plot_performance(history)"
   ]
  },
  {
   "cell_type": "markdown",
   "metadata": {
    "colab_type": "text",
    "id": "kR4rNd4pdcWe"
   },
   "source": [
    "The model didn't improve much. It still overfits train data. "
   ]
  },
  {
   "cell_type": "markdown",
   "metadata": {
    "colab_type": "text",
    "id": "un0dY0tJxpTJ"
   },
   "source": [
    "### Final improved model training\n",
    "As a next step I reduced number of filters and added data augmentation.\n",
    "Also I changed number of filters, batch size and strides for 1 Conv layer and placed max pooling after each 2 Conv layers. (tried different and saw which performed better)."
   ]
  },
  {
   "cell_type": "code",
   "execution_count": 57,
   "metadata": {
    "colab": {
     "autoexec": {
      "startup": false,
      "wait_interval": 0
     },
     "base_uri": "https://localhost:8080/",
     "height": 782,
     "output_extras": [
      {
       "item_id": 1
      }
     ]
    },
    "colab_type": "code",
    "executionInfo": {
     "elapsed": 1054,
     "status": "ok",
     "timestamp": 1522410909294,
     "user": {
      "displayName": "Iryney Baran",
      "photoUrl": "//lh4.googleusercontent.com/-KJY9sMFZFVM/AAAAAAAAAAI/AAAAAAAABJM/ETCGet9jmTE/s50-c-k-no/photo.jpg",
      "userId": "104762452328045017366"
     },
     "user_tz": -180
    },
    "id": "BoLxRPfoeCkp",
    "outputId": "a1365ab0-268d-4729-c588-3c52b485c706"
   },
   "outputs": [
    {
     "name": "stdout",
     "output_type": "stream",
     "text": [
      "_________________________________________________________________\n",
      "Layer (type)                 Output Shape              Param #   \n",
      "=================================================================\n",
      "conv2d_40 (Conv2D)           (None, 32, 32, 32)        896       \n",
      "_________________________________________________________________\n",
      "conv2d_41 (Conv2D)           (None, 32, 32, 32)        9248      \n",
      "_________________________________________________________________\n",
      "max_pooling2d_25 (MaxPooling (None, 16, 16, 32)        0         \n",
      "_________________________________________________________________\n",
      "batch_normalization_22 (Batc (None, 16, 16, 32)        128       \n",
      "_________________________________________________________________\n",
      "conv2d_42 (Conv2D)           (None, 16, 16, 64)        18496     \n",
      "_________________________________________________________________\n",
      "conv2d_43 (Conv2D)           (None, 16, 16, 64)        36928     \n",
      "_________________________________________________________________\n",
      "max_pooling2d_26 (MaxPooling (None, 8, 8, 64)          0         \n",
      "_________________________________________________________________\n",
      "batch_normalization_23 (Batc (None, 8, 8, 64)          256       \n",
      "_________________________________________________________________\n",
      "conv2d_44 (Conv2D)           (None, 8, 8, 128)         73856     \n",
      "_________________________________________________________________\n",
      "conv2d_45 (Conv2D)           (None, 8, 8, 128)         147584    \n",
      "_________________________________________________________________\n",
      "max_pooling2d_27 (MaxPooling (None, 4, 4, 128)         0         \n",
      "_________________________________________________________________\n",
      "batch_normalization_24 (Batc (None, 4, 4, 128)         512       \n",
      "_________________________________________________________________\n",
      "dropout_21 (Dropout)         (None, 4, 4, 128)         0         \n",
      "_________________________________________________________________\n",
      "flatten_8 (Flatten)          (None, 2048)              0         \n",
      "_________________________________________________________________\n",
      "dense_21 (Dense)             (None, 512)               1049088   \n",
      "_________________________________________________________________\n",
      "dropout_22 (Dropout)         (None, 512)               0         \n",
      "_________________________________________________________________\n",
      "dense_22 (Dense)             (None, 512)               262656    \n",
      "_________________________________________________________________\n",
      "dropout_23 (Dropout)         (None, 512)               0         \n",
      "_________________________________________________________________\n",
      "dense_23 (Dense)             (None, 10)                5130      \n",
      "=================================================================\n",
      "Total params: 1,604,778\n",
      "Trainable params: 1,604,330\n",
      "Non-trainable params: 448\n",
      "_________________________________________________________________\n"
     ]
    }
   ],
   "source": [
    "def get_final_model():\n",
    "    model = Sequential()\n",
    "\n",
    "    model.add(Conv2D(32, (3,3), activation='relu', padding='same', input_shape=train_images.shape[1:]))\n",
    "    model.add(Conv2D(32, (3,3), activation='relu', padding='same'))\n",
    "    model.add(MaxPooling2D(pool_size=(2, 2), strides=(2,2)))\n",
    "    model.add(BatchNormalization())\n",
    "\n",
    "    model.add(Conv2D(64, (3,3), activation='relu', padding='same'))\n",
    "    model.add(Conv2D(64, (3,3), activation='relu', padding='same'))\n",
    "    model.add(MaxPooling2D(pool_size=(2, 2), strides=(2,2)))\n",
    "    model.add(BatchNormalization())\n",
    "\n",
    "    model.add(Conv2D(128, (3,3), activation='relu', padding='same'))\n",
    "    model.add(Conv2D(128, (3,3), activation='relu', padding='same'))\n",
    "    model.add(MaxPooling2D(pool_size=(2, 2), strides=(2,2)))\n",
    "    model.add(BatchNormalization())\n",
    "    model.add(Dropout(0.25))\n",
    "\n",
    "    model.add(Flatten())\n",
    "    model.add(Dense(512, activation='relu'))\n",
    "    model.add(Dropout(0.5))\n",
    "    model.add(Dense(512, activation='relu'))\n",
    "    model.add(Dropout(0.5))\n",
    "    model.add(Dense(10, activation='softmax'))\n",
    "    return model\n",
    "\n",
    "model = get_final_model()    \n",
    "model.summary()"
   ]
  },
  {
   "cell_type": "markdown",
   "metadata": {
    "colab_type": "text",
    "id": "pLgoMFKcgv8g"
   },
   "source": [
    "Here I use adam optimizer as I saw that It performs better comparing to rmsprop."
   ]
  },
  {
   "cell_type": "code",
   "execution_count": 0,
   "metadata": {
    "colab": {
     "autoexec": {
      "startup": false,
      "wait_interval": 0
     }
    },
    "colab_type": "code",
    "id": "Xxo8dahu21ef"
   },
   "outputs": [],
   "source": [
    "from keras.preprocessing.image import ImageDataGenerator\n",
    "\n",
    "# opt = keras.optimizers.rmsprop(lr=0.0001, decay=1e-6)\n",
    "\n",
    "model.compile(loss='categorical_crossentropy',\n",
    "              optimizer='adam',\n",
    "              metrics=['accuracy'])\n",
    "\n",
    "# data augmentation\n",
    "datagen = ImageDataGenerator(\n",
    "        featurewise_center=False, \n",
    "        samplewise_center=False,\n",
    "        featurewise_std_normalization=False,\n",
    "        samplewise_std_normalization=False,\n",
    "        zca_whitening=False,\n",
    "        rotation_range=0,\n",
    "        width_shift_range=0.2,\n",
    "        height_shift_range=0.2,\n",
    "        horizontal_flip=True,\n",
    "        vertical_flip=False)\n",
    "\n",
    "\n",
    "datagen.fit(train_images)\n",
    "    "
   ]
  },
  {
   "cell_type": "code",
   "execution_count": 51,
   "metadata": {
    "colab": {
     "autoexec": {
      "startup": false,
      "wait_interval": 0
     },
     "base_uri": "https://localhost:8080/",
     "height": 6837,
     "output_extras": [
      {
       "item_id": 82
      },
      {
       "item_id": 234
      },
      {
       "item_id": 286
      },
      {
       "item_id": 364
      },
      {
       "item_id": 517
      },
      {
       "item_id": 614
      },
      {
       "item_id": 656
      },
      {
       "item_id": 699
      },
      {
       "item_id": 754
      },
      {
       "item_id": 835
      },
      {
       "item_id": 878
      },
      {
       "item_id": 919
      },
      {
       "item_id": 964
      },
      {
       "item_id": 1117
      },
      {
       "item_id": 1224
      },
      {
       "item_id": 1267
      },
      {
       "item_id": 1369
      },
      {
       "item_id": 1429
      },
      {
       "item_id": 1534
      },
      {
       "item_id": 1614
      },
      {
       "item_id": 1690
      },
      {
       "item_id": 1748
      },
      {
       "item_id": 1878
      },
      {
       "item_id": 1998
      },
      {
       "item_id": 2079
      },
      {
       "item_id": 2122
      },
      {
       "item_id": 2217
      },
      {
       "item_id": 2297
      },
      {
       "item_id": 2340
      },
      {
       "item_id": 2414
      },
      {
       "item_id": 2498
      },
      {
       "item_id": 2605
      },
      {
       "item_id": 2755
      },
      {
       "item_id": 2880
      },
      {
       "item_id": 2933
      },
      {
       "item_id": 2973
      },
      {
       "item_id": 3031
      },
      {
       "item_id": 3077
      },
      {
       "item_id": 3117
      },
      {
       "item_id": 3264
      },
      {
       "item_id": 3394
      },
      {
       "item_id": 3533
      },
      {
       "item_id": 3671
      },
      {
       "item_id": 3714
      },
      {
       "item_id": 3779
      },
      {
       "item_id": 3865
      },
      {
       "item_id": 3943
      },
      {
       "item_id": 4016
      },
      {
       "item_id": 4055
      },
      {
       "item_id": 4098
      },
      {
       "item_id": 4140
      },
      {
       "item_id": 4182
      },
      {
       "item_id": 4223
      },
      {
       "item_id": 4265
      },
      {
       "item_id": 4302
      },
      {
       "item_id": 4346
      },
      {
       "item_id": 4397
      },
      {
       "item_id": 4496
      },
      {
       "item_id": 4630
      },
      {
       "item_id": 4708
      },
      {
       "item_id": 4749
      },
      {
       "item_id": 4792
      },
      {
       "item_id": 4835
      },
      {
       "item_id": 4875
      },
      {
       "item_id": 4917
      },
      {
       "item_id": 4959
      },
      {
       "item_id": 5022
      },
      {
       "item_id": 5066
      },
      {
       "item_id": 5107
      },
      {
       "item_id": 5147
      },
      {
       "item_id": 5189
      },
      {
       "item_id": 5227
      },
      {
       "item_id": 5270
      },
      {
       "item_id": 5313
      },
      {
       "item_id": 5354
      },
      {
       "item_id": 5397
      },
      {
       "item_id": 5439
      },
      {
       "item_id": 5478
      },
      {
       "item_id": 5521
      },
      {
       "item_id": 5562
      },
      {
       "item_id": 5600
      },
      {
       "item_id": 5643
      },
      {
       "item_id": 5683
      },
      {
       "item_id": 5723
      },
      {
       "item_id": 5766
      },
      {
       "item_id": 5805
      },
      {
       "item_id": 5844
      },
      {
       "item_id": 5886
      },
      {
       "item_id": 5926
      },
      {
       "item_id": 5967
      },
      {
       "item_id": 6009
      },
      {
       "item_id": 6051
      },
      {
       "item_id": 6090
      },
      {
       "item_id": 6131
      },
      {
       "item_id": 6170
      },
      {
       "item_id": 6205
      },
      {
       "item_id": 6249
      },
      {
       "item_id": 6289
      },
      {
       "item_id": 6328
      },
      {
       "item_id": 6349
      }
     ]
    },
    "colab_type": "code",
    "executionInfo": {
     "elapsed": 4134687,
     "status": "ok",
     "timestamp": 1522409482611,
     "user": {
      "displayName": "Iryney Baran",
      "photoUrl": "//lh4.googleusercontent.com/-KJY9sMFZFVM/AAAAAAAAAAI/AAAAAAAABJM/ETCGet9jmTE/s50-c-k-no/photo.jpg",
      "userId": "104762452328045017366"
     },
     "user_tz": -180
    },
    "id": "2rgUtJoL3SxJ",
    "outputId": "9f8cc844-25e9-4d7c-93de-0482a8d85cd9"
   },
   "outputs": [
    {
     "name": "stdout",
     "output_type": "stream",
     "text": [
      "Epoch 1/100\n",
      "782/782 [==============================] - 47s 60ms/step - loss: 1.8754 - acc: 0.3181 - val_loss: 1.7184 - val_acc: 0.3758\n",
      "\n",
      "Epoch 00001: val_acc improved from -inf to 0.37580, saving model to weights_2.best.hdf5\n",
      "Epoch 2/100\n",
      "123/782 [===>..........................] - ETA: 32s - loss: 1.5539 - acc: 0.4355782/782 [==============================] - 43s 55ms/step - loss: 1.4677 - acc: 0.4689 - val_loss: 1.3218 - val_acc: 0.5238\n",
      "\n",
      "Epoch 00002: val_acc improved from 0.37580 to 0.52380, saving model to weights_2.best.hdf5\n",
      "Epoch 3/100\n",
      "224/782 [=======>......................] - ETA: 27s - loss: 1.3248 - acc: 0.5252782/782 [==============================] - 42s 53ms/step - loss: 1.2741 - acc: 0.5498 - val_loss: 1.0914 - val_acc: 0.6144\n",
      "\n",
      "Epoch 00003: val_acc improved from 0.52380 to 0.61440, saving model to weights_2.best.hdf5\n",
      "Epoch 4/100\n",
      "265/782 [=========>....................] - ETA: 25s - loss: 1.1658 - acc: 0.5930782/782 [==============================] - 42s 53ms/step - loss: 1.1462 - acc: 0.6004 - val_loss: 1.2488 - val_acc: 0.5816\n",
      "\n",
      "Epoch 00004: val_acc did not improve\n",
      "Epoch 5/100\n",
      "325/782 [===========>..................] - ETA: 23s - loss: 1.0807 - acc: 0.6270782/782 [==============================] - 43s 54ms/step - loss: 1.0536 - acc: 0.6365 - val_loss: 0.9953 - val_acc: 0.6540\n",
      "\n",
      "Epoch 00005: val_acc improved from 0.61440 to 0.65400, saving model to weights_2.best.hdf5\n",
      "Epoch 6/100\n",
      "277/782 [=========>....................] - ETA: 25s - loss: 0.9845 - acc: 0.6593782/782 [==============================] - 42s 54ms/step - loss: 0.9755 - acc: 0.6649 - val_loss: 0.9718 - val_acc: 0.6655\n",
      "\n",
      "Epoch 00006: val_acc improved from 0.65400 to 0.66550, saving model to weights_2.best.hdf5\n",
      "Epoch 7/100\n",
      "268/782 [=========>....................] - ETA: 25s - loss: 0.9431 - acc: 0.6784782/782 [==============================] - 41s 53ms/step - loss: 0.9205 - acc: 0.6872 - val_loss: 0.9339 - val_acc: 0.6797\n",
      "\n",
      "Epoch 00007: val_acc improved from 0.66550 to 0.67970, saving model to weights_2.best.hdf5\n",
      "Epoch 8/100\n",
      "277/782 [=========>....................] - ETA: 25s - loss: 0.8976 - acc: 0.69782/782 [==============================] - 42s 54ms/step - loss: 0.8853 - acc: 0.7003 - val_loss: 0.8165 - val_acc: 0.7186\n",
      "\n",
      "Epoch 00008: val_acc improved from 0.67970 to 0.71860, saving model to weights_2.best.hdf5\n",
      "Epoch 9/100\n",
      "296/782 [==========>...................] - ETA: 24s - loss: 0.8414 - acc: 0.7124782/782 [==============================] - 42s 54ms/step - loss: 0.8373 - acc: 0.7166 - val_loss: 0.7584 - val_acc: 0.7424\n",
      "\n",
      "Epoch 00009: val_acc improved from 0.71860 to 0.74240, saving model to weights_2.best.hdf5\n",
      "Epoch 10/100\n",
      "271/782 [=========>....................] - ETA: 25s - loss: 0.8104 - acc: 0.7277782/782 [==============================] - 42s 53ms/step - loss: 0.8078 - acc: 0.7288 - val_loss: 0.7392 - val_acc: 0.7500\n",
      "\n",
      "Epoch 00010: val_acc improved from 0.74240 to 0.75000, saving model to weights_2.best.hdf5\n",
      "Epoch 11/100\n",
      "279/782 [=========>....................] - ETA: 25s - loss: 0.7639 - acc: 0.7454782/782 [==============================] - 41s 53ms/step - loss: 0.7700 - acc: 0.7440 - val_loss: 0.6835 - val_acc: 0.7695\n",
      "\n",
      "Epoch 00011: val_acc improved from 0.75000 to 0.76950, saving model to weights_2.best.hdf5\n",
      "Epoch 12/100\n",
      "283/782 [=========>....................] - ETA: 24s - loss: 0.7425 - acc: 0.7514782/782 [==============================] - 41s 53ms/step - loss: 0.7370 - acc: 0.7525 - val_loss: 0.6869 - val_acc: 0.7722\n",
      "\n",
      "Epoch 00012: val_acc improved from 0.76950 to 0.77220, saving model to weights_2.best.hdf5\n",
      "Epoch 13/100\n",
      "268/782 [=========>....................] - ETA: 26s - loss: 0.7160 - acc: 0.7613782/782 [==============================] - 42s 54ms/step - loss: 0.7141 - acc: 0.7633 - val_loss: 0.6690 - val_acc: 0.7723\n",
      "\n",
      "Epoch 00013: val_acc improved from 0.77220 to 0.77230, saving model to weights_2.best.hdf5\n",
      "Epoch 14/100\n",
      "297/782 [==========>...................] - ETA: 23s - loss: 0.6906 - acc: 0.7695782/782 [==============================] - 40s 52ms/step - loss: 0.6925 - acc: 0.7720 - val_loss: 0.6612 - val_acc: 0.7769\n",
      "\n",
      "Epoch 00014: val_acc improved from 0.77230 to 0.77690, saving model to weights_2.best.hdf5\n",
      "Epoch 15/100\n",
      "304/782 [==========>...................] - ETA: 23s - loss: 0.6638 - acc: 0.7807782/782 [==============================] - 41s 53ms/step - loss: 0.6673 - acc: 0.7788 - val_loss: 0.8067 - val_acc: 0.7372\n",
      "\n",
      "Epoch 00015: val_acc did not improve\n",
      "Epoch 16/100\n",
      "351/782 [============>.................] - ETA: 21s - loss: 0.6579 - acc: 0.7800782/782 [==============================] - 42s 53ms/step - loss: 0.6534 - acc: 0.7837 - val_loss: 0.6597 - val_acc: 0.7793\n",
      "\n",
      "Epoch 00016: val_acc improved from 0.77690 to 0.77930, saving model to weights_2.best.hdf5\n",
      "Epoch 17/100\n",
      "297/782 [==========>...................] - ETA: 24s - loss: 0.6350 - acc: 0.7894782/782 [==============================] - 42s 54ms/step - loss: 0.6373 - acc: 0.7884 - val_loss: 0.5769 - val_acc: 0.8042\n",
      "\n",
      "Epoch 00017: val_acc improved from 0.77930 to 0.80420, saving model to weights_2.best.hdf5\n",
      "Epoch 18/100\n",
      "282/782 [=========>....................] - ETA: 25s - loss: 0.6165 - acc: 0.7969782/782 [==============================] - 42s 54ms/step - loss: 0.6196 - acc: 0.7952 - val_loss: 0.7465 - val_acc: 0.7485\n",
      "\n",
      "Epoch 00018: val_acc did not improve\n",
      "Epoch 19/100\n",
      "346/782 [============>.................] - ETA: 21s - loss: 0.5955 - acc: 0.8069782/782 [==============================] - 41s 53ms/step - loss: 0.5942 - acc: 0.8060 - val_loss: 0.5782 - val_acc: 0.7988\n",
      "\n",
      "Epoch 00019: val_acc did not improve\n",
      "Epoch 20/100\n",
      "345/782 [============>.................] - ETA: 22s - loss: 0.5838 - acc: 0.8083782/782 [==============================] - 42s 54ms/step - loss: 0.5885 - acc: 0.8050 - val_loss: 0.9280 - val_acc: 0.7181\n",
      "\n",
      "Epoch 00020: val_acc did not improve\n",
      "Epoch 21/100\n",
      "338/782 [===========>..................] - ETA: 22s - loss: 0.5715 - acc: 0.8105782/782 [==============================] - 43s 56ms/step - loss: 0.5706 - acc: 0.8101 - val_loss: 0.5781 - val_acc: 0.8034\n",
      "\n",
      "Epoch 00021: val_acc did not improve\n",
      "Epoch 22/100\n",
      "335/782 [===========>..................] - ETA: 22s - loss: 0.5578 - acc: 0.8118782/782 [==============================] - 41s 52ms/step - loss: 0.5640 - acc: 0.8112 - val_loss: 0.5596 - val_acc: 0.8040\n",
      "\n",
      "Epoch 00022: val_acc did not improve\n",
      "Epoch 23/100\n",
      "364/782 [============>.................] - ETA: 21s - loss: 0.5535 - acc: 0.8137782/782 [==============================] - 41s 53ms/step - loss: 0.5482 - acc: 0.8159 - val_loss: 0.5234 - val_acc: 0.8186\n",
      "\n",
      "Epoch 00023: val_acc improved from 0.80420 to 0.81860, saving model to weights_2.best.hdf5\n",
      "Epoch 24/100\n",
      "300/782 [==========>...................] - ETA: 24s - loss: 0.5302 - acc: 0.8240782/782 [==============================] - 43s 55ms/step - loss: 0.5301 - acc: 0.8252 - val_loss: 0.5287 - val_acc: 0.8210\n",
      "\n",
      "Epoch 00024: val_acc improved from 0.81860 to 0.82100, saving model to weights_2.best.hdf5\n",
      "Epoch 25/100\n",
      "273/782 [=========>....................] - ETA: 25s - loss: 0.5380 - acc: 0.8202782/782 [==============================] - 42s 53ms/step - loss: 0.5247 - acc: 0.8250 - val_loss: 0.6214 - val_acc: 0.7930\n",
      "\n",
      "Epoch 00025: val_acc did not improve\n",
      "Epoch 26/100\n",
      "317/782 [===========>..................] - ETA: 23s - loss: 0.5177 - acc: 0.8311782/782 [==============================] - 42s 53ms/step - loss: 0.5189 - acc: 0.8280 - val_loss: 0.5319 - val_acc: 0.8205\n",
      "\n",
      "Epoch 00026: val_acc did not improve\n",
      "Epoch 27/100\n",
      "325/782 [===========>..................] - ETA: 23s - loss: 0.5043 - acc: 0.8315782/782 [==============================] - 42s 53ms/step - loss: 0.5037 - acc: 0.8325 - val_loss: 0.5015 - val_acc: 0.8266\n",
      "\n",
      "Epoch 00027: val_acc improved from 0.82100 to 0.82660, saving model to weights_2.best.hdf5\n",
      "Epoch 28/100\n",
      "291/782 [==========>...................] - ETA: 24s - loss: 0.4967 - acc: 0.8341782/782 [==============================] - 41s 53ms/step - loss: 0.4958 - acc: 0.8341 - val_loss: 0.6175 - val_acc: 0.7901\n",
      "\n",
      "Epoch 00028: val_acc did not improve\n",
      "Epoch 29/100\n",
      "338/782 [===========>..................] - ETA: 22s - loss: 0.4973 - acc: 0.8339782/782 [==============================] - 43s 55ms/step - loss: 0.4922 - acc: 0.8353 - val_loss: 0.5327 - val_acc: 0.8212\n",
      "\n",
      "Epoch 00029: val_acc did not improve\n",
      "Epoch 30/100\n"
     ]
    },
    {
     "name": "stdout",
     "output_type": "stream",
     "text": [
      "356/782 [============>.................] - ETA: 21s - loss: 0.4875 - acc: 0.8373782/782 [==============================] - 42s 54ms/step - loss: 0.4865 - acc: 0.8377 - val_loss: 0.5330 - val_acc: 0.8227\n",
      "\n",
      "Epoch 00030: val_acc did not improve\n",
      "Epoch 31/100\n",
      "360/782 [============>.................] - ETA: 21s - loss: 0.4743 - acc: 0.84782/782 [==============================] - 41s 52ms/step - loss: 0.4801 - acc: 0.8409 - val_loss: 0.6421 - val_acc: 0.7827\n",
      "\n",
      "Epoch 00031: val_acc did not improve\n",
      "Epoch 32/100\n",
      "347/782 [============>.................] - ETA: 22s - loss: 0.4644 - acc: 0.8465782/782 [==============================] - 43s 55ms/step - loss: 0.4732 - acc: 0.8431 - val_loss: 0.6456 - val_acc: 0.7870\n",
      "\n",
      "Epoch 00032: val_acc did not improve\n",
      "Epoch 33/100\n",
      "333/782 [===========>..................] - ETA: 22s - loss: 0.4746 - acc: 0.8426782/782 [==============================] - 43s 55ms/step - loss: 0.4678 - acc: 0.8437 - val_loss: 0.5377 - val_acc: 0.8192\n",
      "\n",
      "Epoch 00033: val_acc did not improve\n",
      "Epoch 34/100\n",
      "353/782 [============>.................] - ETA: 21s - loss: 0.4624 - acc: 0.8459782/782 [==============================] - 41s 53ms/step - loss: 0.4655 - acc: 0.8453 - val_loss: 0.4936 - val_acc: 0.8358\n",
      "\n",
      "Epoch 00034: val_acc improved from 0.82660 to 0.83580, saving model to weights_2.best.hdf5\n",
      "Epoch 35/100\n",
      "303/782 [==========>...................] - ETA: 24s - loss: 0.4633 - acc: 0.8486782/782 [==============================] - 42s 53ms/step - loss: 0.4598 - acc: 0.8477 - val_loss: 0.4947 - val_acc: 0.8358\n",
      "\n",
      "Epoch 00035: val_acc did not improve\n",
      "Epoch 36/100\n",
      "341/782 [============>.................] - ETA: 22s - loss: 0.4448 - acc: 0.8514782/782 [==============================] - 42s 54ms/step - loss: 0.4534 - acc: 0.8487 - val_loss: 0.4621 - val_acc: 0.8463\n",
      "\n",
      "Epoch 00036: val_acc improved from 0.83580 to 0.84630, saving model to weights_2.best.hdf5\n",
      "Epoch 37/100\n",
      "311/782 [==========>...................] - ETA: 23s - loss: 0.4463 - acc: 0.8528782/782 [==============================] - 42s 53ms/step - loss: 0.4460 - acc: 0.8508 - val_loss: 0.4609 - val_acc: 0.8490\n",
      "\n",
      "Epoch 00037: val_acc improved from 0.84630 to 0.84900, saving model to weights_2.best.hdf5\n",
      "Epoch 38/100\n",
      "291/782 [==========>...................] - ETA: 23s - loss: 0.4453 - acc: 0.8521782/782 [==============================] - 41s 53ms/step - loss: 0.4435 - acc: 0.8523 - val_loss: 0.4892 - val_acc: 0.8355\n",
      "\n",
      "Epoch 00038: val_acc did not improve\n",
      "Epoch 39/100\n",
      "363/782 [============>.................] - ETA: 20s - loss: 0.4409 - acc: 0.8538782/782 [==============================] - 41s 52ms/step - loss: 0.4374 - acc: 0.8551 - val_loss: 0.4476 - val_acc: 0.8493\n",
      "\n",
      "Epoch 00039: val_acc improved from 0.84900 to 0.84930, saving model to weights_2.best.hdf5\n",
      "Epoch 40/100\n",
      "334/782 [===========>..................] - ETA: 22s - loss: 0.4243 - acc: 0.8593782/782 [==============================] - 42s 54ms/step - loss: 0.4293 - acc: 0.8580 - val_loss: 0.5477 - val_acc: 0.8179\n",
      "\n",
      "Epoch 00040: val_acc did not improve\n",
      "Epoch 41/100\n",
      "381/782 [=============>................] - ETA: 20s - loss: 0.4304 - acc: 0.8573782/782 [==============================] - 42s 53ms/step - loss: 0.4291 - acc: 0.8570 - val_loss: 0.4304 - val_acc: 0.8592\n",
      "\n",
      "Epoch 00041: val_acc improved from 0.84930 to 0.85920, saving model to weights_2.best.hdf5\n",
      "Epoch 42/100\n",
      "335/782 [===========>..................] - ETA: 22s - loss: 0.4205 - acc: 0.8609782/782 [==============================] - 40s 52ms/step - loss: 0.4250 - acc: 0.8589 - val_loss: 0.4286 - val_acc: 0.8577\n",
      "\n",
      "Epoch 00042: val_acc did not improve\n",
      "Epoch 43/100\n",
      "345/782 [============>.................] - ETA: 22s - loss: 0.4060 - acc: 0.8637782/782 [==============================] - 43s 55ms/step - loss: 0.4157 - acc: 0.8610 - val_loss: 0.5381 - val_acc: 0.8302\n",
      "\n",
      "Epoch 00043: val_acc did not improve\n",
      "Epoch 44/100\n",
      "358/782 [============>.................] - ETA: 21s - loss: 0.4188 - acc: 0.8600782/782 [==============================] - 43s 55ms/step - loss: 0.4220 - acc: 0.8599 - val_loss: 0.4397 - val_acc: 0.8512\n",
      "\n",
      "Epoch 00044: val_acc did not improve\n",
      "Epoch 45/100\n",
      "374/782 [=============>................] - ETA: 19s - loss: 0.4159 - acc: 0.8635782/782 [==============================] - 41s 52ms/step - loss: 0.4180 - acc: 0.8618 - val_loss: 0.4726 - val_acc: 0.8447\n",
      "\n",
      "Epoch 00045: val_acc did not improve\n",
      "Epoch 46/100\n",
      "412/782 [==============>...............] - ETA: 18s - loss: 0.4048 - acc: 0.8642782/782 [==============================] - 40s 52ms/step - loss: 0.4094 - acc: 0.8643 - val_loss: 0.4283 - val_acc: 0.8559\n",
      "\n",
      "Epoch 00046: val_acc did not improve\n",
      "Epoch 47/100\n",
      "367/782 [=============>................] - ETA: 21s - loss: 0.4100 - acc: 0.8625782/782 [==============================] - 43s 55ms/step - loss: 0.4107 - acc: 0.8636 - val_loss: 0.4738 - val_acc: 0.8455\n",
      "\n",
      "Epoch 00047: val_acc did not improve\n",
      "Epoch 48/100\n",
      "404/782 [==============>...............] - ETA: 18s - loss: 0.4036 - acc: 0.8675782/782 [==============================] - 40s 51ms/step - loss: 0.4034 - acc: 0.8666 - val_loss: 0.5119 - val_acc: 0.8298\n",
      "\n",
      "Epoch 00048: val_acc did not improve\n",
      "Epoch 49/100\n",
      "431/782 [===============>..............] - ETA: 17s - loss: 0.3928 - acc: 0.8693782/782 [==============================] - 41s 52ms/step - loss: 0.4004 - acc: 0.8671 - val_loss: 0.4411 - val_acc: 0.8522\n",
      "\n",
      "Epoch 00049: val_acc did not improve\n",
      "Epoch 50/100\n",
      "369/782 [=============>................] - ETA: 21s - loss: 0.3903 - acc: 0.8695782/782 [==============================] - 43s 55ms/step - loss: 0.4029 - acc: 0.8670 - val_loss: 0.4895 - val_acc: 0.8426\n",
      "\n",
      "Epoch 00050: val_acc did not improve\n",
      "Epoch 51/100\n",
      "380/782 [=============>................] - ETA: 19s - loss: 0.4076 - acc: 0.8676782/782 [==============================] - 41s 53ms/step - loss: 0.4059 - acc: 0.8680 - val_loss: 0.4675 - val_acc: 0.8476\n",
      "\n",
      "Epoch 00051: val_acc did not improve\n",
      "Epoch 52/100\n",
      "390/782 [=============>................] - ETA: 19s - loss: 0.3991 - acc: 0.8659782/782 [==============================] - 41s 52ms/step - loss: 0.3922 - acc: 0.8689 - val_loss: 0.4567 - val_acc: 0.8473\n",
      "\n",
      "Epoch 00052: val_acc did not improve\n",
      "Epoch 53/100\n",
      "376/782 [=============>................] - ETA: 20s - loss: 0.3917 - acc: 0.8731782/782 [==============================] - 40s 52ms/step - loss: 0.3889 - acc: 0.8722 - val_loss: 0.4130 - val_acc: 0.8615\n",
      "\n",
      "Epoch 00053: val_acc improved from 0.85920 to 0.86150, saving model to weights_2.best.hdf5\n",
      "Epoch 54/100\n",
      "371/782 [=============>................] - ETA: 19s - loss: 0.3853 - acc: 0.8709782/782 [==============================] - 40s 51ms/step - loss: 0.3869 - acc: 0.8716 - val_loss: 0.4541 - val_acc: 0.8497\n",
      "\n",
      "Epoch 00054: val_acc did not improve\n",
      "Epoch 55/100\n",
      "406/782 [==============>...............] - ETA: 18s - loss: 0.3816 - acc: 0.8732782/782 [==============================] - 41s 53ms/step - loss: 0.3868 - acc: 0.8715 - val_loss: 0.4106 - val_acc: 0.8651\n",
      "\n",
      "Epoch 00055: val_acc improved from 0.86150 to 0.86510, saving model to weights_2.best.hdf5\n",
      "Epoch 56/100\n",
      "306/782 [==========>...................] - ETA: 23s - loss: 0.3726 - acc: 0.8768782/782 [==============================] - 41s 52ms/step - loss: 0.3801 - acc: 0.8751 - val_loss: 0.4584 - val_acc: 0.8481\n",
      "\n",
      "Epoch 00056: val_acc did not improve\n",
      "Epoch 57/100\n",
      "398/782 [==============>...............] - ETA: 18s - loss: 0.3703 - acc: 0.8757782/782 [==============================] - 41s 52ms/step - loss: 0.3809 - acc: 0.8729 - val_loss: 0.4771 - val_acc: 0.8422\n",
      "\n",
      "Epoch 00057: val_acc did not improve\n",
      "Epoch 58/100\n",
      "396/782 [==============>...............] - ETA: 18s - loss: 0.3755 - acc: 0.8769782/782 [==============================] - 41s 52ms/step - loss: 0.3796 - acc: 0.8742 - val_loss: 0.4159 - val_acc: 0.8607\n",
      "\n",
      "Epoch 00058: val_acc did not improve\n",
      "Epoch 59/100\n",
      "360/782 [============>.................] - ETA: 21s - loss: 0.3763 - acc: 0.87782/782 [==============================] - 41s 53ms/step - loss: 0.3735 - acc: 0.8776 - val_loss: 0.4609 - val_acc: 0.8454\n",
      "\n",
      "Epoch 00059: val_acc did not improve\n",
      "Epoch 60/100\n",
      "395/782 [==============>...............] - ETA: 19s - loss: 0.3763 - acc: 0.8741782/782 [==============================] - 41s 52ms/step - loss: 0.3742 - acc: 0.8758 - val_loss: 0.4345 - val_acc: 0.8545\n",
      "\n",
      "Epoch 00060: val_acc did not improve\n",
      "Epoch 61/100\n"
     ]
    },
    {
     "name": "stdout",
     "output_type": "stream",
     "text": [
      "372/782 [=============>................] - ETA: 20s - loss: 0.3853 - acc: 0.8721782/782 [==============================] - 42s 54ms/step - loss: 0.3822 - acc: 0.8729 - val_loss: 0.4317 - val_acc: 0.8542\n",
      "\n",
      "Epoch 00061: val_acc did not improve\n",
      "Epoch 62/100\n",
      "342/782 [============>.................] - ETA: 22s - loss: 0.3523 - acc: 0.8852782/782 [==============================] - 41s 53ms/step - loss: 0.3638 - acc: 0.8809 - val_loss: 0.5021 - val_acc: 0.8381\n",
      "\n",
      "Epoch 00062: val_acc did not improve\n",
      "Epoch 63/100\n",
      "372/782 [=============>................] - ETA: 20s - loss: 0.3629 - acc: 0.8787782/782 [==============================] - 41s 53ms/step - loss: 0.3651 - acc: 0.8790 - val_loss: 0.4421 - val_acc: 0.8555\n",
      "\n",
      "Epoch 00063: val_acc did not improve\n",
      "Epoch 64/100\n",
      "404/782 [==============>...............] - ETA: 18s - loss: 0.3611 - acc: 0.8804782/782 [==============================] - 42s 53ms/step - loss: 0.3660 - acc: 0.8789 - val_loss: 0.4053 - val_acc: 0.8648\n",
      "\n",
      "Epoch 00064: val_acc did not improve\n",
      "Epoch 65/100\n",
      "357/782 [============>.................] - ETA: 21s - loss: 0.3547 - acc: 0.8829782/782 [==============================] - 41s 53ms/step - loss: 0.3591 - acc: 0.8793 - val_loss: 0.4720 - val_acc: 0.8482\n",
      "\n",
      "Epoch 00065: val_acc did not improve\n",
      "Epoch 66/100\n",
      "363/782 [============>.................] - ETA: 21s - loss: 0.3598 - acc: 0.8818782/782 [==============================] - 41s 52ms/step - loss: 0.3621 - acc: 0.8817 - val_loss: 0.4216 - val_acc: 0.8618\n",
      "\n",
      "Epoch 00066: val_acc did not improve\n",
      "Epoch 67/100\n",
      "364/782 [============>.................] - ETA: 21s - loss: 0.3514 - acc: 0.8839782/782 [==============================] - 43s 55ms/step - loss: 0.3614 - acc: 0.8806 - val_loss: 0.3942 - val_acc: 0.8682\n",
      "\n",
      "Epoch 00067: val_acc improved from 0.86510 to 0.86820, saving model to weights_2.best.hdf5\n",
      "Epoch 68/100\n",
      "309/782 [==========>...................] - ETA: 23s - loss: 0.3527 - acc: 0.8847782/782 [==============================] - 39s 50ms/step - loss: 0.3509 - acc: 0.8846 - val_loss: 0.4124 - val_acc: 0.8628\n",
      "\n",
      "Epoch 00068: val_acc did not improve\n",
      "Epoch 69/100\n",
      "393/782 [==============>...............] - ETA: 19s - loss: 0.3516 - acc: 0.8825782/782 [==============================] - 41s 53ms/step - loss: 0.3543 - acc: 0.8824 - val_loss: 0.4326 - val_acc: 0.8607\n",
      "\n",
      "Epoch 00069: val_acc did not improve\n",
      "Epoch 70/100\n",
      "374/782 [=============>................] - ETA: 20s - loss: 0.3477 - acc: 0.8829782/782 [==============================] - 41s 53ms/step - loss: 0.3509 - acc: 0.8832 - val_loss: 0.3929 - val_acc: 0.8741\n",
      "\n",
      "Epoch 00070: val_acc improved from 0.86820 to 0.87410, saving model to weights_2.best.hdf5\n",
      "Epoch 71/100\n",
      "337/782 [===========>..................] - ETA: 21s - loss: 0.3413 - acc: 0.8865782/782 [==============================] - 40s 52ms/step - loss: 0.3506 - acc: 0.8851 - val_loss: 0.4266 - val_acc: 0.8615\n",
      "\n",
      "Epoch 00071: val_acc did not improve\n",
      "Epoch 72/100\n",
      "376/782 [=============>................] - ETA: 20s - loss: 0.3453 - acc: 0.8854782/782 [==============================] - 41s 52ms/step - loss: 0.3436 - acc: 0.8858 - val_loss: 0.3910 - val_acc: 0.8750\n",
      "\n",
      "Epoch 00072: val_acc improved from 0.87410 to 0.87500, saving model to weights_2.best.hdf5\n",
      "Epoch 73/100\n",
      "331/782 [===========>..................] - ETA: 22s - loss: 0.3505 - acc: 0.8833782/782 [==============================] - 41s 53ms/step - loss: 0.3505 - acc: 0.8842 - val_loss: 0.4644 - val_acc: 0.8512\n",
      "\n",
      "Epoch 00073: val_acc did not improve\n",
      "Epoch 74/100\n",
      "350/782 [============>.................] - ETA: 21s - loss: 0.3439 - acc: 0.8855782/782 [==============================] - 40s 52ms/step - loss: 0.3457 - acc: 0.8865 - val_loss: 0.3938 - val_acc: 0.8711\n",
      "\n",
      "Epoch 00074: val_acc did not improve\n",
      "Epoch 75/100\n",
      "388/782 [=============>................] - ETA: 19s - loss: 0.3383 - acc: 0.8889782/782 [==============================] - 41s 53ms/step - loss: 0.3457 - acc: 0.8869 - val_loss: 0.4828 - val_acc: 0.8460\n",
      "\n",
      "Epoch 00075: val_acc did not improve\n",
      "Epoch 76/100\n",
      "373/782 [=============>................] - ETA: 20s - loss: 0.3474 - acc: 0.8879782/782 [==============================] - 43s 54ms/step - loss: 0.3454 - acc: 0.8877 - val_loss: 0.4100 - val_acc: 0.8674\n",
      "\n",
      "Epoch 00076: val_acc did not improve\n",
      "Epoch 77/100\n",
      "406/782 [==============>...............] - ETA: 18s - loss: 0.3450 - acc: 0.8847782/782 [==============================] - 40s 51ms/step - loss: 0.3405 - acc: 0.8867 - val_loss: 0.4116 - val_acc: 0.8673\n",
      "\n",
      "Epoch 00077: val_acc did not improve\n",
      "Epoch 78/100\n",
      "464/782 [================>.............] - ETA: 15s - loss: 0.3231 - acc: 0.8918782/782 [==============================] - 40s 51ms/step - loss: 0.3307 - acc: 0.8900 - val_loss: 0.4450 - val_acc: 0.8513\n",
      "\n",
      "Epoch 00078: val_acc did not improve\n",
      "Epoch 79/100\n",
      "407/782 [==============>...............] - ETA: 18s - loss: 0.3418 - acc: 0.8890782/782 [==============================] - 42s 54ms/step - loss: 0.3415 - acc: 0.8888 - val_loss: 0.4898 - val_acc: 0.8404\n",
      "\n",
      "Epoch 00079: val_acc did not improve\n",
      "Epoch 80/100\n",
      "445/782 [================>.............] - ETA: 15s - loss: 0.3337 - acc: 0.8891782/782 [==============================] - 39s 50ms/step - loss: 0.3311 - acc: 0.8893 - val_loss: 0.3969 - val_acc: 0.8706\n",
      "\n",
      "Epoch 00080: val_acc did not improve\n",
      "Epoch 81/100\n",
      "456/782 [================>.............] - ETA: 15s - loss: 0.3343 - acc: 0.8927782/782 [==============================] - 40s 51ms/step - loss: 0.3337 - acc: 0.8920 - val_loss: 0.3948 - val_acc: 0.8686\n",
      "\n",
      "Epoch 00081: val_acc did not improve\n",
      "Epoch 82/100\n",
      "398/782 [==============>...............] - ETA: 19s - loss: 0.3336 - acc: 0.8911782/782 [==============================] - 42s 54ms/step - loss: 0.3351 - acc: 0.8907 - val_loss: 0.4399 - val_acc: 0.8580\n",
      "\n",
      "Epoch 00082: val_acc did not improve\n",
      "Epoch 83/100\n",
      "432/782 [===============>..............] - ETA: 16s - loss: 0.3256 - acc: 0.8931782/782 [==============================] - 40s 51ms/step - loss: 0.3299 - acc: 0.8909 - val_loss: 0.4272 - val_acc: 0.8585\n",
      "\n",
      "Epoch 00083: val_acc did not improve\n",
      "Epoch 84/100\n",
      "410/782 [==============>...............] - ETA: 18s - loss: 0.3205 - acc: 0.8937782/782 [==============================] - 41s 52ms/step - loss: 0.3293 - acc: 0.8906 - val_loss: 0.3889 - val_acc: 0.8721\n",
      "\n",
      "Epoch 00084: val_acc did not improve\n",
      "Epoch 85/100\n",
      "401/782 [==============>...............] - ETA: 19s - loss: 0.3283 - acc: 0.8901782/782 [==============================] - 41s 52ms/step - loss: 0.3278 - acc: 0.8905 - val_loss: 0.4482 - val_acc: 0.8551\n",
      "\n",
      "Epoch 00085: val_acc did not improve\n",
      "Epoch 86/100\n",
      "476/782 [=================>............] - ETA: 14s - loss: 0.3257 - acc: 0.8920782/782 [==============================] - 39s 50ms/step - loss: 0.3295 - acc: 0.8904 - val_loss: 0.3981 - val_acc: 0.8696\n",
      "\n",
      "Epoch 00086: val_acc did not improve\n",
      "Epoch 87/100\n",
      "440/782 [===============>..............] - ETA: 17s - loss: 0.3251 - acc: 0.8936782/782 [==============================] - 42s 54ms/step - loss: 0.3407 - acc: 0.8878 - val_loss: 0.4235 - val_acc: 0.8646\n",
      "\n",
      "Epoch 00087: val_acc did not improve\n",
      "Epoch 88/100\n",
      "384/782 [=============>................] - ETA: 20s - loss: 0.3275 - acc: 0.8918782/782 [==============================] - 41s 53ms/step - loss: 0.3208 - acc: 0.8938 - val_loss: 0.4157 - val_acc: 0.8675\n",
      "\n",
      "Epoch 00088: val_acc did not improve\n",
      "Epoch 89/100\n",
      "420/782 [===============>..............] - ETA: 17s - loss: 0.3218 - acc: 0.8945782/782 [==============================] - 40s 51ms/step - loss: 0.3247 - acc: 0.8933 - val_loss: 0.3967 - val_acc: 0.8733\n",
      "\n",
      "Epoch 00089: val_acc did not improve\n",
      "Epoch 90/100\n",
      "414/782 [==============>...............] - ETA: 18s - loss: 0.3162 - acc: 0.8957782/782 [==============================] - 40s 51ms/step - loss: 0.3186 - acc: 0.8940 - val_loss: 0.3973 - val_acc: 0.8735\n",
      "\n",
      "Epoch 00090: val_acc did not improve\n",
      "Epoch 91/100\n",
      "417/782 [==============>...............] - ETA: 18s - loss: 0.3158 - acc: 0.8948782/782 [==============================] - 42s 54ms/step - loss: 0.3195 - acc: 0.8946 - val_loss: 0.4467 - val_acc: 0.8580\n",
      "\n",
      "Epoch 00091: val_acc did not improve\n",
      "Epoch 92/100\n",
      "446/782 [================>.............] - ETA: 15s - loss: 0.3217 - acc: 0.8912782/782 [==============================] - 39s 50ms/step - loss: 0.3226 - acc: 0.8914 - val_loss: 0.4089 - val_acc: 0.8642\n",
      "\n",
      "Epoch 00092: val_acc did not improve\n",
      "Epoch 93/100\n"
     ]
    },
    {
     "name": "stdout",
     "output_type": "stream",
     "text": [
      "478/782 [=================>............] - ETA: 14s - loss: 0.3165 - acc: 0.8948782/782 [==============================] - 39s 50ms/step - loss: 0.3192 - acc: 0.8948 - val_loss: 0.4131 - val_acc: 0.8696\n",
      "\n",
      "Epoch 00093: val_acc did not improve\n",
      "Epoch 94/100\n",
      "451/782 [================>.............] - ETA: 16s - loss: 0.3058 - acc: 0.8980782/782 [==============================] - 40s 51ms/step - loss: 0.3100 - acc: 0.8962 - val_loss: 0.4432 - val_acc: 0.8617\n",
      "\n",
      "Epoch 00094: val_acc did not improve\n",
      "Epoch 95/100\n",
      "485/782 [=================>............] - ETA: 14s - loss: 0.3105 - acc: 0.8976782/782 [==============================] - 39s 50ms/step - loss: 0.3188 - acc: 0.8949 - val_loss: 0.3906 - val_acc: 0.8744\n",
      "\n",
      "Epoch 00095: val_acc did not improve\n",
      "Epoch 96/100\n",
      "492/782 [=================>............] - ETA: 13s - loss: 0.3022 - acc: 0.8988782/782 [==============================] - 40s 51ms/step - loss: 0.3062 - acc: 0.8974 - val_loss: 0.3842 - val_acc: 0.8767\n",
      "\n",
      "Epoch 00096: val_acc improved from 0.87500 to 0.87670, saving model to weights_2.best.hdf5\n",
      "Epoch 97/100\n",
      "363/782 [============>.................] - ETA: 20s - loss: 0.3105 - acc: 0.8968782/782 [==============================] - 40s 51ms/step - loss: 0.3114 - acc: 0.8989 - val_loss: 0.3843 - val_acc: 0.8747\n",
      "\n",
      "Epoch 00097: val_acc did not improve\n",
      "Epoch 98/100\n",
      "476/782 [=================>............] - ETA: 14s - loss: 0.3083 - acc: 0.8987782/782 [==============================] - 38s 49ms/step - loss: 0.3135 - acc: 0.8975 - val_loss: 0.4154 - val_acc: 0.8677\n",
      "\n",
      "Epoch 00098: val_acc did not improve\n",
      "Epoch 99/100\n",
      "474/782 [=================>............] - ETA: 14s - loss: 0.3204 - acc: 0.8968782/782 [==============================] - 40s 51ms/step - loss: 0.3163 - acc: 0.8961 - val_loss: 0.3884 - val_acc: 0.8753\n",
      "\n",
      "Epoch 00099: val_acc did not improve\n",
      "Epoch 100/100\n",
      "418/782 [===============>..............] - ETA: 18s - loss: 0.3110 - acc: 0.8978782/782 [==============================] - 41s 52ms/step - loss: 0.3066 - acc: 0.8986 - val_loss: 0.4221 - val_acc: 0.8680\n",
      "\n",
      "Epoch 00100: val_acc did not improve\n"
     ]
    }
   ],
   "source": [
    "epochs = 100\n",
    "batch_size = 64\n",
    "\n",
    "# save best weights \n",
    "filepath=\"weights_2.best.hdf5\"\n",
    "checkpoint = ModelCheckpoint(filepath, monitor='val_acc', verbose=1, save_best_only=True, mode='max')\n",
    "callbacks_list = [checkpoint]\n",
    "\n",
    "# train network\n",
    "history = model.fit_generator(datagen.flow(train_images, train_labels,\n",
    "                                           batch_size=batch_size),\n",
    "                              epochs=epochs,\n",
    "                              validation_data=(cv_images, cv_labels),\n",
    "                              callbacks=callbacks_list)"
   ]
  },
  {
   "cell_type": "code",
   "execution_count": 52,
   "metadata": {
    "colab": {
     "autoexec": {
      "startup": false,
      "wait_interval": 0
     },
     "base_uri": "https://localhost:8080/",
     "height": 68,
     "output_extras": [
      {
       "item_id": 11
      }
     ]
    },
    "colab_type": "code",
    "executionInfo": {
     "elapsed": 2955,
     "status": "ok",
     "timestamp": 1522409985523,
     "user": {
      "displayName": "Iryney Baran",
      "photoUrl": "//lh4.googleusercontent.com/-KJY9sMFZFVM/AAAAAAAAAAI/AAAAAAAABJM/ETCGet9jmTE/s50-c-k-no/photo.jpg",
      "userId": "104762452328045017366"
     },
     "user_tz": -180
    },
    "id": "Hcw-m2eog3d2",
    "outputId": "7d0a2dc7-0c55-4217-a45e-4a208eaa9335"
   },
   "outputs": [
    {
     "name": "stdout",
     "output_type": "stream",
     "text": [
      "10000/10000 [==============================] - 2s 242us/step\n",
      "cross-validation set accuracy: 86.8%\n",
      "train set accuracy: 0.90%\n"
     ]
    }
   ],
   "source": [
    "scores = model.evaluate(cv_images, cv_labels, verbose=1)\n",
    "print(\"cross-validation set accuracy: {}%\".format(scores[1]*100))\n",
    "print(\"train set accuracy: %.2f%%\" % max(history.history['acc']))"
   ]
  },
  {
   "cell_type": "code",
   "execution_count": 53,
   "metadata": {
    "colab": {
     "autoexec": {
      "startup": false,
      "wait_interval": 0
     },
     "base_uri": "https://localhost:8080/",
     "height": 793,
     "output_extras": [
      {
       "item_id": 1
      },
      {
       "item_id": 2
      }
     ]
    },
    "colab_type": "code",
    "executionInfo": {
     "elapsed": 1186,
     "status": "ok",
     "timestamp": 1522410001012,
     "user": {
      "displayName": "Iryney Baran",
      "photoUrl": "//lh4.googleusercontent.com/-KJY9sMFZFVM/AAAAAAAAAAI/AAAAAAAABJM/ETCGet9jmTE/s50-c-k-no/photo.jpg",
      "userId": "104762452328045017366"
     },
     "user_tz": -180
    },
    "id": "bVRACRvGg7sX",
    "outputId": "811cf2f3-f7ff-4370-cf84-bcc01eac2588"
   },
   "outputs": [
    {
     "data": {
      "image/png": "[encoded data removed]",
      "text/plain": [
       "<matplotlib.figure.Figure at 0x7f2e3a3aa4e0>"
      ]
     },
     "metadata": {
      "tags": []
     },
     "output_type": "display_data"
    },
    {
     "data": {
      "image/png": "[encoded data removed]",
      "text/plain": [
       "<matplotlib.figure.Figure at 0x7f2e391d1588>"
      ]
     },
     "metadata": {
      "tags": []
     },
     "output_type": "display_data"
    }
   ],
   "source": [
    "plot_performance(history)"
   ]
  },
  {
   "cell_type": "markdown",
   "metadata": {
    "colab_type": "text",
    "id": "U4vs5fMav_0C"
   },
   "source": [
    "### Final check-pointed model\n",
    "Here I load already trained weights for final model.\n",
    "You can download pretrained weights [here](https://drive.google.com/file/d/1jL90CP9ezJjqGAWzC-3Ku9ujeVv9hr_F/view?usp=sharing) and put the file **weights_2.best.hdf5** in the same directory as this notebook."
   ]
  },
  {
   "cell_type": "code",
   "execution_count": 66,
   "metadata": {
    "colab": {
     "autoexec": {
      "startup": false,
      "wait_interval": 0
     },
     "base_uri": "https://localhost:8080/",
     "height": 51,
     "output_extras": [
      {
       "item_id": 12
      }
     ]
    },
    "colab_type": "code",
    "executionInfo": {
     "elapsed": 5901,
     "status": "ok",
     "timestamp": 1522414684081,
     "user": {
      "displayName": "Iryney Baran",
      "photoUrl": "//lh4.googleusercontent.com/-KJY9sMFZFVM/AAAAAAAAAAI/AAAAAAAABJM/ETCGet9jmTE/s50-c-k-no/photo.jpg",
      "userId": "104762452328045017366"
     },
     "user_tz": -180
    },
    "id": "btvjkuD5tWP3",
    "outputId": "10a487d7-c12a-456f-a652-0dea86764b05"
   },
   "outputs": [
    {
     "name": "stdout",
     "output_type": "stream",
     "text": [
      "10000/10000 [==============================] - 3s 316us/step\n",
      "cross-validation set accuracy: 87.67%\n"
     ]
    }
   ],
   "source": [
    "model = get_final_model()\n",
    "model.load_weights(\"weights_2.best.hdf5\")\n",
    "model.compile(loss='categorical_crossentropy',\n",
    "              optimizer='adam',\n",
    "              metrics=['accuracy'])\n",
    "scores = model.evaluate(cv_images, cv_labels, verbose=1)\n",
    "print(\"cross-validation set accuracy: {}%\".format(scores[1]*100))"
   ]
  },
  {
   "cell_type": "code",
   "execution_count": 0,
   "metadata": {
    "colab": {
     "autoexec": {
      "startup": false,
      "wait_interval": 0
     }
    },
    "colab_type": "code",
    "id": "5AIBuJPieb_w"
   },
   "outputs": [],
   "source": []
  }
 ],
 "metadata": {
  "accelerator": "GPU",
  "colab": {
   "collapsed_sections": [],
   "default_view": {},
   "name": "Problem Set 2 – Image recognition.ipynb",
   "provenance": [],
   "version": "0.3.2",
   "views": {}
  },
  "kernelspec": {
   "display_name": "Python 3",
   "language": "python",
   "name": "python3"
  },
  "language_info": {
   "codemirror_mode": {
    "name": "ipython",
    "version": 3
   },
   "file_extension": ".py",
   "mimetype": "text/x-python",
   "name": "python",
   "nbconvert_exporter": "python",
   "pygments_lexer": "ipython3",
   "version": "3.5.2"
  }
 },
 "nbformat": 4,
 "nbformat_minor": 1
}
