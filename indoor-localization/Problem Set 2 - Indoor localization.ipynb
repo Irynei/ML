{
 "cells": [
  {
   "cell_type": "markdown",
   "metadata": {},
   "source": [
    "# Indoor localization"
   ]
  },
  {
   "cell_type": "markdown",
   "metadata": {},
   "source": [
    "An indoor positioning system (IPS) is a system to locate objects or people inside a building using radio waves, magnetic fields, acoustic signals, or other sensory information collected by mobile devices. There are several commercial systems on the market, but there is no standard for an IPS system.\n",
    "\n",
    "IPSes use different technologies, including distance measurement to nearby anchor nodes (nodes with known positions, e.g., WiFi access points), magnetic positioning, dead reckoning. They either actively locate mobile devices and tags or provide ambient location or environmental context for devices to get sensed.\n",
    "\n",
    "According to the [report](https://www.marketsandmarkets.com/Market-Reports/indoor-positioning-navigation-ipin-market-989.html), the global indoor location market size is expected to grow from USD 7.11 Billion in 2017 to USD 40.99 Billion by 2022, at a Compound Annual Growth Rate (CAGR) of 42.0% during the forecast period. Hassle-free navigation, improved decision-making, and increased adoption of connected devices are boosting the growth of the indoor location market across the globe.\n",
    "\n",
    "In this problem, you are going to use signals from seven different wi-fi access points to define in which room the user is located."
   ]
  },
  {
   "cell_type": "code",
   "execution_count": 1,
   "metadata": {},
   "outputs": [
    {
     "name": "stderr",
     "output_type": "stream",
     "text": [
      "/usr/local/lib/python2.7/dist-packages/sklearn/cross_validation.py:41: DeprecationWarning: This module was deprecated in version 0.18 in favor of the model_selection module into which all the refactored classes and functions are moved. Also note that the interface of the new CV iterators are different from that of this module. This module will be removed in 0.20.\n",
      "  \"This module will be removed in 0.20.\", DeprecationWarning)\n",
      "/usr/local/lib/python2.7/dist-packages/sklearn/grid_search.py:42: DeprecationWarning: This module was deprecated in version 0.18 in favor of the model_selection module into which all the refactored classes and functions are moved. This module will be removed in 0.20.\n",
      "  DeprecationWarning)\n"
     ]
    }
   ],
   "source": [
    "import pandas\n",
    "import numpy as np\n",
    "from xgboost import XGBClassifier\n",
    "from sklearn.grid_search import GridSearchCV\n",
    "from sklearn.metrics import accuracy_score\n",
    "import warnings\n",
    "warnings.filterwarnings('ignore')"
   ]
  },
  {
   "cell_type": "markdown",
   "metadata": {},
   "source": [
    "Loading the data and breaking it into training and cross-validation sets."
   ]
  },
  {
   "cell_type": "code",
   "execution_count": 2,
   "metadata": {},
   "outputs": [],
   "source": [
    "train_set = pandas.read_csv('train_set.csv')\n",
    "cv_set = pandas.read_csv('cv_set.csv')\n",
    "\n",
    "train_data = train_set[['wifi'+str(i) for i in range(1, len(train_set.columns) - 1)]]\n",
    "train_labels = train_set['room']\n",
    "cv_data = cv_set[['wifi'+str(i) for i in range(1, len(cv_set.columns) - 1)]]\n",
    "cv_labels = cv_set['room']"
   ]
  },
  {
   "cell_type": "code",
   "execution_count": 3,
   "metadata": {},
   "outputs": [
    {
     "name": "stdout",
     "output_type": "stream",
     "text": [
      "   wifi1  wifi2  wifi3  wifi4  wifi5  wifi6  wifi7\n",
      "0    -68    -57    -61    -65    -71    -85    -85\n",
      "1    -63    -60    -60    -67    -76    -85    -84\n",
      "2    -61    -60    -68    -62    -77    -90    -80\n",
      "3    -65    -61    -65    -67    -69    -87    -84\n",
      "4    -61    -63    -58    -66    -74    -87    -82\n",
      "5    -62    -60    -66    -68    -80    -86    -91\n",
      "6    -65    -59    -61    -67    -72    -86    -81\n",
      "7    -63    -57    -61    -65    -73    -84    -84\n",
      "8    -66    -60    -65    -62    -70    -85    -83\n",
      "9    -67    -60    -59    -61    -71    -86    -91\n",
      "0    1\n",
      "1    1\n",
      "2    1\n",
      "3    1\n",
      "4    1\n",
      "5    1\n",
      "6    1\n",
      "7    1\n",
      "8    1\n",
      "9    1\n",
      "Name: room, dtype: int64\n"
     ]
    }
   ],
   "source": [
    "print(train_data[:10])\n",
    "print(train_labels[:10])"
   ]
  },
  {
   "cell_type": "code",
   "execution_count": 4,
   "metadata": {},
   "outputs": [
    {
     "name": "stdout",
     "output_type": "stream",
     "text": [
      "   wifi1  wifi2  wifi3  wifi4  wifi5  wifi6  wifi7\n",
      "0    -64    -56    -61    -66    -71    -82    -81\n",
      "1    -63    -65    -60    -63    -77    -81    -87\n",
      "2    -64    -55    -63    -66    -76    -88    -83\n",
      "3    -65    -60    -59    -63    -76    -86    -82\n",
      "4    -67    -61    -62    -67    -77    -83    -91\n",
      "5    -61    -59    -65    -63    -74    -89    -87\n",
      "6    -63    -56    -63    -65    -72    -82    -89\n",
      "7    -66    -59    -64    -68    -68    -97    -83\n",
      "8    -67    -57    -64    -71    -75    -89    -87\n",
      "9    -63    -57    -59    -67    -71    -82    -93\n",
      "0    1\n",
      "1    1\n",
      "2    1\n",
      "3    1\n",
      "4    1\n",
      "5    1\n",
      "6    1\n",
      "7    1\n",
      "8    1\n",
      "9    1\n",
      "Name: room, dtype: int64\n"
     ]
    }
   ],
   "source": [
    "print(cv_data[:10])\n",
    "print(cv_labels[:10])"
   ]
  },
  {
   "cell_type": "markdown",
   "metadata": {},
   "source": [
    "### Training XGBoost regressor"
   ]
  },
  {
   "cell_type": "code",
   "execution_count": 5,
   "metadata": {
    "scrolled": true
   },
   "outputs": [
    {
     "name": "stdout",
     "output_type": "stream",
     "text": [
      "XGBClassifier(base_score=0.5, booster='gbtree', colsample_bylevel=1,\n",
      "       colsample_bytree=1, gamma=0, learning_rate=0.1, max_delta_step=0,\n",
      "       max_depth=3, min_child_weight=1, missing=None, n_estimators=100,\n",
      "       n_jobs=1, nthread=None, num_classes=4, objective='multi:softprob',\n",
      "       random_state=0, reg_alpha=0, reg_lambda=1, scale_pos_weight=1,\n",
      "       seed=None, silent=True, subsample=1)\n",
      "Accuracy: 98.24%\n"
     ]
    }
   ],
   "source": [
    "clf = XGBClassifier(objective='multi:softmax', num_classes=4)\n",
    "model = clf.fit(train_data, train_labels)\n",
    "cv_predicted_lables = model.predict(cv_data)\n",
    "\n",
    "accuracy = accuracy_score(cv_labels, cv_predicted_lables)\n",
    "print(model)\n",
    "print(\"Accuracy: %.2f%%\" % (accuracy * 100.0))"
   ]
  },
  {
   "cell_type": "markdown",
   "metadata": {},
   "source": [
    "### Tuning hyperparameters"
   ]
  },
  {
   "cell_type": "markdown",
   "metadata": {},
   "source": [
    "Here I perform grid search in order to tune hyperparameters"
   ]
  },
  {
   "cell_type": "code",
   "execution_count": 6,
   "metadata": {},
   "outputs": [],
   "source": [
    "params = {'max_depth': range(3, 8), 'min_child_weight': range(3, 8)}\n",
    "\n",
    "optimized_GBM = GridSearchCV(XGBClassifier(objective='multi:softmax', num_classes=4,  learning_rate=0.1), params, scoring = 'accuracy') \n"
   ]
  },
  {
   "cell_type": "code",
   "execution_count": 7,
   "metadata": {},
   "outputs": [
    {
     "data": {
      "text/plain": [
       "([mean: 0.97442, std: 0.00686, params: {'max_depth': 3, 'min_child_weight': 3},\n",
       "  mean: 0.97567, std: 0.00608, params: {'max_depth': 3, 'min_child_weight': 4},\n",
       "  mean: 0.97505, std: 0.00686, params: {'max_depth': 3, 'min_child_weight': 5},\n",
       "  mean: 0.97505, std: 0.00686, params: {'max_depth': 3, 'min_child_weight': 6},\n",
       "  mean: 0.97567, std: 0.00455, params: {'max_depth': 3, 'min_child_weight': 7},\n",
       "  mean: 0.97567, std: 0.00547, params: {'max_depth': 4, 'min_child_weight': 3},\n",
       "  mean: 0.97629, std: 0.00633, params: {'max_depth': 4, 'min_child_weight': 4},\n",
       "  mean: 0.97629, std: 0.00488, params: {'max_depth': 4, 'min_child_weight': 5},\n",
       "  mean: 0.97505, std: 0.00614, params: {'max_depth': 4, 'min_child_weight': 6},\n",
       "  mean: 0.97629, std: 0.00633, params: {'max_depth': 4, 'min_child_weight': 7},\n",
       "  mean: 0.97567, std: 0.00663, params: {'max_depth': 5, 'min_child_weight': 3},\n",
       "  mean: 0.97629, std: 0.00614, params: {'max_depth': 5, 'min_child_weight': 4},\n",
       "  mean: 0.97692, std: 0.00438, params: {'max_depth': 5, 'min_child_weight': 5},\n",
       "  mean: 0.97692, std: 0.00719, params: {'max_depth': 5, 'min_child_weight': 6},\n",
       "  mean: 0.97629, std: 0.00633, params: {'max_depth': 5, 'min_child_weight': 7},\n",
       "  mean: 0.97442, std: 0.00750, params: {'max_depth': 6, 'min_child_weight': 3},\n",
       "  mean: 0.97505, std: 0.00719, params: {'max_depth': 6, 'min_child_weight': 4},\n",
       "  mean: 0.97817, std: 0.00488, params: {'max_depth': 6, 'min_child_weight': 5},\n",
       "  mean: 0.97567, std: 0.00697, params: {'max_depth': 6, 'min_child_weight': 6},\n",
       "  mean: 0.97692, std: 0.00719, params: {'max_depth': 6, 'min_child_weight': 7},\n",
       "  mean: 0.97380, std: 0.00662, params: {'max_depth': 7, 'min_child_weight': 3},\n",
       "  mean: 0.97505, std: 0.00614, params: {'max_depth': 7, 'min_child_weight': 4},\n",
       "  mean: 0.97817, std: 0.00633, params: {'max_depth': 7, 'min_child_weight': 5},\n",
       "  mean: 0.97692, std: 0.00766, params: {'max_depth': 7, 'min_child_weight': 6},\n",
       "  mean: 0.97505, std: 0.00614, params: {'max_depth': 7, 'min_child_weight': 7}],\n",
       " {'max_depth': 6, 'min_child_weight': 5},\n",
       " 0.9781659388646288)"
      ]
     },
     "execution_count": 7,
     "metadata": {},
     "output_type": "execute_result"
    }
   ],
   "source": [
    "optimized_GBM.fit(train_data, train_labels)\n",
    "optimized_GBM.grid_scores_, optimized_GBM.best_params_, optimized_GBM.best_score_"
   ]
  },
  {
   "cell_type": "code",
   "execution_count": 8,
   "metadata": {},
   "outputs": [],
   "source": [
    "params = {'gamma':[i/10.0 for i in range(0,5)]}\n",
    "optimized_GBM = GridSearchCV(XGBClassifier(objective='multi:softmax', num_classes=4, max_depth=6, min_child_weight=5), \n",
    "                             params, \n",
    "                             scoring = 'accuracy')"
   ]
  },
  {
   "cell_type": "code",
   "execution_count": 9,
   "metadata": {},
   "outputs": [
    {
     "data": {
      "text/plain": [
       "([mean: 0.97817, std: 0.00488, params: {'gamma': 0.0},\n",
       "  mean: 0.97629, std: 0.00488, params: {'gamma': 0.1},\n",
       "  mean: 0.97692, std: 0.00614, params: {'gamma': 0.2},\n",
       "  mean: 0.97754, std: 0.00697, params: {'gamma': 0.3},\n",
       "  mean: 0.97692, std: 0.00719, params: {'gamma': 0.4}],\n",
       " {'gamma': 0.0},\n",
       " 0.9781659388646288)"
      ]
     },
     "execution_count": 9,
     "metadata": {},
     "output_type": "execute_result"
    }
   ],
   "source": [
    "optimized_GBM.fit(train_data, train_labels)\n",
    "optimized_GBM.grid_scores_, optimized_GBM.best_params_, optimized_GBM.best_score_"
   ]
  },
  {
   "cell_type": "code",
   "execution_count": 10,
   "metadata": {},
   "outputs": [],
   "source": [
    "params = {'learning_rate': [0.1, 0.01, 0.001], 'subsample': [0.7,0.8,0.9, 1.0]}\n",
    "optimized_GBM = GridSearchCV(XGBClassifier(objective='multi:softmax', num_classes=4, max_depth=6, min_child_weight=5, gamma=0), \n",
    "                             params, \n",
    "                             scoring = 'accuracy')"
   ]
  },
  {
   "cell_type": "code",
   "execution_count": 11,
   "metadata": {},
   "outputs": [
    {
     "data": {
      "text/plain": [
       "([mean: 0.97567, std: 0.00401, params: {'subsample': 0.7, 'learning_rate': 0.1},\n",
       "  mean: 0.97629, std: 0.00381, params: {'subsample': 0.8, 'learning_rate': 0.1},\n",
       "  mean: 0.97817, std: 0.00633, params: {'subsample': 0.9, 'learning_rate': 0.1},\n",
       "  mean: 0.97817, std: 0.00488, params: {'subsample': 1.0, 'learning_rate': 0.1},\n",
       "  mean: 0.96132, std: 0.01733, params: {'subsample': 0.7, 'learning_rate': 0.01},\n",
       "  mean: 0.96257, std: 0.01758, params: {'subsample': 0.8, 'learning_rate': 0.01},\n",
       "  mean: 0.96319, std: 0.01629, params: {'subsample': 0.9, 'learning_rate': 0.01},\n",
       "  mean: 0.96195, std: 0.01615, params: {'subsample': 1.0, 'learning_rate': 0.01},\n",
       "  mean: 0.96132, std: 0.01881, params: {'subsample': 0.7, 'learning_rate': 0.001},\n",
       "  mean: 0.96070, std: 0.01946, params: {'subsample': 0.8, 'learning_rate': 0.001},\n",
       "  mean: 0.96007, std: 0.01966, params: {'subsample': 0.9, 'learning_rate': 0.001},\n",
       "  mean: 0.95758, std: 0.01930, params: {'subsample': 1.0, 'learning_rate': 0.001}],\n",
       " {'learning_rate': 0.1, 'subsample': 0.9},\n",
       " 0.9781659388646288)"
      ]
     },
     "execution_count": 11,
     "metadata": {},
     "output_type": "execute_result"
    }
   ],
   "source": [
    "optimized_GBM.fit(train_data, train_labels)\n",
    "optimized_GBM.grid_scores_, optimized_GBM.best_params_, optimized_GBM.best_score_"
   ]
  },
  {
   "cell_type": "code",
   "execution_count": 12,
   "metadata": {},
   "outputs": [],
   "source": [
    "params = {'reg_alpha':[0, 1e-5, 1e-2, 0.1, 0.01, 1, 100]}\n",
    "optimized_GBM = GridSearchCV(XGBClassifier(objective='multi:softmax', num_classes=4, max_depth=6, min_child_weight=5, gamma=0, learning_rate=0.1, subsample=0.9), \n",
    "                             params, \n",
    "                             scoring = 'accuracy')"
   ]
  },
  {
   "cell_type": "code",
   "execution_count": 13,
   "metadata": {},
   "outputs": [
    {
     "data": {
      "text/plain": [
       "([mean: 0.97817, std: 0.00633, params: {'reg_alpha': 0},\n",
       "  mean: 0.97817, std: 0.00633, params: {'reg_alpha': 1e-05},\n",
       "  mean: 0.97692, std: 0.00614, params: {'reg_alpha': 0.01},\n",
       "  mean: 0.97879, std: 0.00576, params: {'reg_alpha': 0.1},\n",
       "  mean: 0.97692, std: 0.00614, params: {'reg_alpha': 0.01},\n",
       "  mean: 0.97567, std: 0.00547, params: {'reg_alpha': 1},\n",
       "  mean: 0.95633, std: 0.01502, params: {'reg_alpha': 100}],\n",
       " {'reg_alpha': 0.1},\n",
       " 0.9787897691827823)"
      ]
     },
     "execution_count": 13,
     "metadata": {},
     "output_type": "execute_result"
    }
   ],
   "source": [
    "optimized_GBM.fit(train_data, train_labels)\n",
    "optimized_GBM.grid_scores_, optimized_GBM.best_params_, optimized_GBM.best_score_"
   ]
  },
  {
   "cell_type": "markdown",
   "metadata": {},
   "source": [
    "Build final classifier using obtained hyperparameters"
   ]
  },
  {
   "cell_type": "code",
   "execution_count": 14,
   "metadata": {},
   "outputs": [],
   "source": [
    "final_classifier = XGBClassifier(objective='multi:softmax', num_classes=4,learning_rate=0.1, subsample=0.7, max_depth=5, min_child_weight=5,gamma=0, req_alpha=0.1)\n"
   ]
  },
  {
   "cell_type": "code",
   "execution_count": 15,
   "metadata": {},
   "outputs": [
    {
     "data": {
      "text/plain": [
       "XGBClassifier(base_score=0.5, booster='gbtree', colsample_bylevel=1,\n",
       "       colsample_bytree=1, gamma=0, learning_rate=0.1, max_delta_step=0,\n",
       "       max_depth=5, min_child_weight=5, missing=None, n_estimators=100,\n",
       "       n_jobs=1, nthread=None, num_classes=4, objective='multi:softmax',\n",
       "       random_state=0, reg_alpha=0, reg_lambda=1, req_alpha=0.1,\n",
       "       scale_pos_weight=1, seed=None, silent=True, subsample=0.7)"
      ]
     },
     "execution_count": 15,
     "metadata": {},
     "output_type": "execute_result"
    }
   ],
   "source": [
    "final_classifier"
   ]
  },
  {
   "cell_type": "code",
   "execution_count": 16,
   "metadata": {},
   "outputs": [],
   "source": [
    "model = final_classifier.fit(train_data, train_labels)\n"
   ]
  },
  {
   "cell_type": "code",
   "execution_count": 17,
   "metadata": {},
   "outputs": [
    {
     "name": "stdout",
     "output_type": "stream",
     "text": [
      "Final Accuracy: 98.99%\n"
     ]
    }
   ],
   "source": [
    "cv_predicted_lables = model.predict(cv_data)\n",
    "accuracy = accuracy_score(cv_labels, cv_predicted_lables)\n",
    "print(\"Final Accuracy: %.2f%%\" % (accuracy * 100.0))"
   ]
  }
 ],
 "metadata": {
  "kernelspec": {
   "display_name": "Python 3",
   "language": "python",
   "name": "python3"
  },
  "language_info": {
   "codemirror_mode": {
    "name": "ipython",
    "version": 2
   },
   "file_extension": ".py",
   "mimetype": "text/x-python",
   "name": "python",
   "nbconvert_exporter": "python",
   "pygments_lexer": "ipython2",
   "version": "2.7.12"
  }
 },
 "nbformat": 4,
 "nbformat_minor": 2
}
